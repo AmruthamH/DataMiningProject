{
  "nbformat": 4,
  "nbformat_minor": 0,
  "metadata": {
    "colab": {
      "name": "DMProject.ipynb",
      "provenance": []
    },
    "kernelspec": {
      "name": "python3",
      "display_name": "Python 3"
    },
    "language_info": {
      "name": "python"
    }
  },
  "cells": [
    {
      "cell_type": "markdown",
      "metadata": {
        "id": "U9HpSSwRris9"
      },
      "source": [
        "**CS 422 Project Report - Amrutham Lakshmi Himaja**\n",
        "\n",
        "\n",
        "> **Abstract**\n",
        "\n",
        "\n",
        "*   This project lets to know how to perform different models on the dataset.From this project I learnt how a multi class classification can be broken down into binary classification and I also reasearched alot about the tools and pipelines.One more insight which i got from this project is that model being complex is not alone necessary it has to be a perfect fit.Working on a industrial level dataset gave a lot of insights on how class embalances and can be generalized.\n",
        "\n",
        "\n",
        "\n",
        "\n",
        "> **Overview**\n",
        "\n",
        "\n",
        "*   Problem statement: The objective of this project is to build a model that generalizes well out of sample. \n",
        "\n",
        "*   Proposed methodology: The data is  scaled and principal component analysis (PCA) is performed on it. The final classifier uses a decision tree classifier.\n",
        "\n",
        "\n",
        "\n",
        "\n"
      ]
    },
    {
      "cell_type": "code",
      "metadata": {
        "colab": {
          "base_uri": "https://localhost:8080/"
        },
        "id": "hT36cjJ5VZuY",
        "outputId": "388307c4-b071-4cc9-fe62-a5131696ff79"
      },
      "source": [
        "!pip install sklearn2pmml"
      ],
      "execution_count": null,
      "outputs": [
        {
          "output_type": "stream",
          "text": [
            "Collecting sklearn2pmml\n",
            "\u001b[?25l  Downloading https://files.pythonhosted.org/packages/d7/b6/7fffdc09ce9bc3ccb1763b444f9f3111bc297989e3ae85447120b7a9e09a/sklearn2pmml-0.71.1.tar.gz (5.9MB)\n",
            "\u001b[K     |████████████████████████████████| 5.9MB 9.0MB/s \n",
            "\u001b[?25hRequirement already satisfied: joblib>=0.13.0 in /usr/local/lib/python3.7/dist-packages (from sklearn2pmml) (1.0.1)\n",
            "Requirement already satisfied: scikit-learn>=0.18.0 in /usr/local/lib/python3.7/dist-packages (from sklearn2pmml) (0.22.2.post1)\n",
            "Requirement already satisfied: sklearn-pandas>=0.0.10 in /usr/local/lib/python3.7/dist-packages (from sklearn2pmml) (1.8.0)\n",
            "Requirement already satisfied: numpy>=1.11.0 in /usr/local/lib/python3.7/dist-packages (from scikit-learn>=0.18.0->sklearn2pmml) (1.19.5)\n",
            "Requirement already satisfied: scipy>=0.17.0 in /usr/local/lib/python3.7/dist-packages (from scikit-learn>=0.18.0->sklearn2pmml) (1.4.1)\n",
            "Requirement already satisfied: pandas>=0.11.0 in /usr/local/lib/python3.7/dist-packages (from sklearn-pandas>=0.0.10->sklearn2pmml) (1.1.5)\n",
            "Requirement already satisfied: python-dateutil>=2.7.3 in /usr/local/lib/python3.7/dist-packages (from pandas>=0.11.0->sklearn-pandas>=0.0.10->sklearn2pmml) (2.8.1)\n",
            "Requirement already satisfied: pytz>=2017.2 in /usr/local/lib/python3.7/dist-packages (from pandas>=0.11.0->sklearn-pandas>=0.0.10->sklearn2pmml) (2018.9)\n",
            "Requirement already satisfied: six>=1.5 in /usr/local/lib/python3.7/dist-packages (from python-dateutil>=2.7.3->pandas>=0.11.0->sklearn-pandas>=0.0.10->sklearn2pmml) (1.15.0)\n",
            "Building wheels for collected packages: sklearn2pmml\n",
            "  Building wheel for sklearn2pmml (setup.py) ... \u001b[?25l\u001b[?25hdone\n",
            "  Created wheel for sklearn2pmml: filename=sklearn2pmml-0.71.1-cp37-none-any.whl size=5900699 sha256=fb73af65b6a8fa74a331cb9569f2fd48165f95cfa93234245bdf0212a7fde00b\n",
            "  Stored in directory: /root/.cache/pip/wheels/69/90/10/0eec92654638f1f05d1b21b1d4a715a257774629e990d6fc6a\n",
            "Successfully built sklearn2pmml\n",
            "Installing collected packages: sklearn2pmml\n",
            "Successfully installed sklearn2pmml-0.71.1\n"
          ],
          "name": "stdout"
        }
      ]
    },
    {
      "cell_type": "code",
      "metadata": {
        "colab": {
          "base_uri": "https://localhost:8080/"
        },
        "id": "oR9G_VLo-uId",
        "outputId": "08cdd11c-9784-4d76-841d-1fefbb881c53"
      },
      "source": [
        "!pip install skl2onnx\n",
        "!pip install onnxruntime"
      ],
      "execution_count": null,
      "outputs": [
        {
          "output_type": "stream",
          "text": [
            "Collecting skl2onnx\n",
            "\u001b[?25l  Downloading https://files.pythonhosted.org/packages/2e/2e/efe7874c6b92ce4dd262b58a2860e9bf50097c68588114a542b29affca46/skl2onnx-1.8.0-py2.py3-none-any.whl (230kB)\n",
            "\u001b[K     |████████████████████████████████| 235kB 7.4MB/s \n",
            "\u001b[?25hCollecting onnx>=1.2.1\n",
            "\u001b[?25l  Downloading https://files.pythonhosted.org/packages/3f/9b/54c950d3256e27f970a83cd0504efb183a24312702deed0179453316dbd0/onnx-1.9.0-cp37-cp37m-manylinux2010_x86_64.whl (12.2MB)\n",
            "\u001b[K     |████████████████████████████████| 12.2MB 269kB/s \n",
            "\u001b[?25hCollecting onnxconverter-common<1.9,>=1.6.1\n",
            "\u001b[?25l  Downloading https://files.pythonhosted.org/packages/42/f5/82c29029a643dd4de8e0374fe2d5831f50ca58623dd1ee41e0b8df8a7d71/onnxconverter_common-1.8.1-py2.py3-none-any.whl (77kB)\n",
            "\u001b[K     |████████████████████████████████| 81kB 8.1MB/s \n",
            "\u001b[?25hRequirement already satisfied: scipy>=1.0 in /usr/local/lib/python3.7/dist-packages (from skl2onnx) (1.4.1)\n",
            "Requirement already satisfied: protobuf in /usr/local/lib/python3.7/dist-packages (from skl2onnx) (3.12.4)\n",
            "Requirement already satisfied: numpy>=1.15 in /usr/local/lib/python3.7/dist-packages (from skl2onnx) (1.19.5)\n",
            "Requirement already satisfied: scikit-learn>=0.19 in /usr/local/lib/python3.7/dist-packages (from skl2onnx) (0.22.2.post1)\n",
            "Requirement already satisfied: six in /usr/local/lib/python3.7/dist-packages (from skl2onnx) (1.15.0)\n",
            "Requirement already satisfied: typing-extensions>=3.6.2.1 in /usr/local/lib/python3.7/dist-packages (from onnx>=1.2.1->skl2onnx) (3.7.4.3)\n",
            "Requirement already satisfied: setuptools in /usr/local/lib/python3.7/dist-packages (from protobuf->skl2onnx) (56.0.0)\n",
            "Requirement already satisfied: joblib>=0.11 in /usr/local/lib/python3.7/dist-packages (from scikit-learn>=0.19->skl2onnx) (1.0.1)\n",
            "Installing collected packages: onnx, onnxconverter-common, skl2onnx\n",
            "Successfully installed onnx-1.9.0 onnxconverter-common-1.8.1 skl2onnx-1.8.0\n",
            "Collecting onnxruntime\n",
            "\u001b[?25l  Downloading https://files.pythonhosted.org/packages/0c/f0/666d6e3ceaa276a54e728f9972732e058544cbb6a3e1a778a8d6f87132c1/onnxruntime-1.7.0-cp37-cp37m-manylinux2014_x86_64.whl (4.1MB)\n",
            "\u001b[K     |████████████████████████████████| 4.1MB 8.5MB/s \n",
            "\u001b[?25hRequirement already satisfied: numpy>=1.16.6 in /usr/local/lib/python3.7/dist-packages (from onnxruntime) (1.19.5)\n",
            "Requirement already satisfied: protobuf in /usr/local/lib/python3.7/dist-packages (from onnxruntime) (3.12.4)\n",
            "Requirement already satisfied: six>=1.9 in /usr/local/lib/python3.7/dist-packages (from protobuf->onnxruntime) (1.15.0)\n",
            "Requirement already satisfied: setuptools in /usr/local/lib/python3.7/dist-packages (from protobuf->onnxruntime) (56.0.0)\n",
            "Installing collected packages: onnxruntime\n",
            "Successfully installed onnxruntime-1.7.0\n"
          ],
          "name": "stdout"
        }
      ]
    },
    {
      "cell_type": "code",
      "metadata": {
        "colab": {
          "base_uri": "https://localhost:8080/"
        },
        "id": "f11npZhqtokg",
        "outputId": "d2ee0cba-c2c7-4e96-f90b-72f555c504db"
      },
      "source": [
        "!pip install git+https://github.com/WillKoehrsen/feature-selector"
      ],
      "execution_count": null,
      "outputs": [
        {
          "output_type": "stream",
          "text": [
            "Collecting git+https://github.com/WillKoehrsen/feature-selector\n",
            "  Cloning https://github.com/WillKoehrsen/feature-selector to /tmp/pip-req-build-gzeuh78l\n",
            "  Running command git clone -q https://github.com/WillKoehrsen/feature-selector /tmp/pip-req-build-gzeuh78l\n",
            "Requirement already satisfied: lightgbm>=2.1.1 in /usr/local/lib/python3.7/dist-packages (from feature-selector===N-A) (2.2.3)\n",
            "Requirement already satisfied: matplotlib>=2.1.2 in /usr/local/lib/python3.7/dist-packages (from feature-selector===N-A) (3.2.2)\n",
            "Requirement already satisfied: seaborn>=0.8.1 in /usr/local/lib/python3.7/dist-packages (from feature-selector===N-A) (0.11.1)\n",
            "Requirement already satisfied: numpy>=1.14.5 in /usr/local/lib/python3.7/dist-packages (from feature-selector===N-A) (1.19.5)\n",
            "Requirement already satisfied: pandas>=0.23.1 in /usr/local/lib/python3.7/dist-packages (from feature-selector===N-A) (1.1.5)\n",
            "Requirement already satisfied: scikit-learn>=0.19.1 in /usr/local/lib/python3.7/dist-packages (from feature-selector===N-A) (0.22.2.post1)\n",
            "Requirement already satisfied: scipy in /usr/local/lib/python3.7/dist-packages (from lightgbm>=2.1.1->feature-selector===N-A) (1.4.1)\n",
            "Requirement already satisfied: kiwisolver>=1.0.1 in /usr/local/lib/python3.7/dist-packages (from matplotlib>=2.1.2->feature-selector===N-A) (1.3.1)\n",
            "Requirement already satisfied: python-dateutil>=2.1 in /usr/local/lib/python3.7/dist-packages (from matplotlib>=2.1.2->feature-selector===N-A) (2.8.1)\n",
            "Requirement already satisfied: pyparsing!=2.0.4,!=2.1.2,!=2.1.6,>=2.0.1 in /usr/local/lib/python3.7/dist-packages (from matplotlib>=2.1.2->feature-selector===N-A) (2.4.7)\n",
            "Requirement already satisfied: cycler>=0.10 in /usr/local/lib/python3.7/dist-packages (from matplotlib>=2.1.2->feature-selector===N-A) (0.10.0)\n",
            "Requirement already satisfied: pytz>=2017.2 in /usr/local/lib/python3.7/dist-packages (from pandas>=0.23.1->feature-selector===N-A) (2018.9)\n",
            "Requirement already satisfied: joblib>=0.11 in /usr/local/lib/python3.7/dist-packages (from scikit-learn>=0.19.1->feature-selector===N-A) (1.0.1)\n",
            "Requirement already satisfied: six>=1.5 in /usr/local/lib/python3.7/dist-packages (from python-dateutil>=2.1->matplotlib>=2.1.2->feature-selector===N-A) (1.15.0)\n",
            "Building wheels for collected packages: feature-selector\n",
            "  Building wheel for feature-selector (setup.py) ... \u001b[?25l\u001b[?25hdone\n",
            "  Created wheel for feature-selector: filename=feature_selector-N_A-cp37-none-any.whl size=20720 sha256=94e045ff3f8291795aad73ceaa3d15950dc9acb617f6e1f7b6d569497b248045\n",
            "  Stored in directory: /tmp/pip-ephem-wheel-cache-xvavguwt/wheels/81/0a/7b/dd7507a30060105885e61fbc6f724e00c36a9668656de6745a\n",
            "Successfully built feature-selector\n",
            "Installing collected packages: feature-selector\n",
            "Successfully installed feature-selector-N-A\n"
          ],
          "name": "stdout"
        }
      ]
    },
    {
      "cell_type": "code",
      "metadata": {
        "id": "khY-wJuhXZBN"
      },
      "source": [
        "from google.colab import drive\n",
        "import time\n",
        "from feature_selector import FeatureSelector\n",
        "from sklearn.metrics import silhouette_score\n",
        "from sklearn import metrics\n",
        "from sklearn import preprocessing\n",
        "from sklearn.ensemble import RandomForestClassifier \n",
        "from sklearn.datasets import make_classification \n",
        "import graphviz\n",
        "from sklearn.metrics import roc_curve, auc\n",
        "from sklearn.metrics import classification_report\n",
        "from sklearn.cluster import KMeans\n",
        "from sklearn.ensemble import BaggingClassifier\n",
        "from sklearn.model_selection import GridSearchCV \n",
        "from sklearn.model_selection import KFold\n",
        "from sklearn.model_selection import cross_validate \n",
        "from mlxtend.feature_selection import ColumnSelector\n",
        "from sklearn.compose import ColumnTransformer \n",
        "from sklearn.pipeline import Pipeline\n",
        "import datetime\n",
        "from sklearn.datasets import load_iris\n",
        "from sklearn.impute import SimpleImputer\n",
        "from sklearn.preprocessing import StandardScaler \n",
        "from sklearn.model_selection import train_test_split\n",
        "from sklearn.tree import DecisionTreeClassifier \n",
        "from sklearn.compose import ColumnTransformer\n",
        "from skl2onnx.common.data_types import FloatTensorType\n",
        "from skl2onnx import convert_sklearn\n",
        "\n",
        "import onnxruntime as rt\n",
        "\n",
        "from onnx.tools.net_drawer import GetPydotGraph, GetOpNodeProducer\n",
        "from sklearn.pipeline import Pipeline\n",
        "from sklearn.linear_model import LogisticRegression\n",
        "from sklearn.ensemble import RandomForestClassifier\n",
        "import os\n",
        "from sklearn.feature_selection import SelectKBest, chi2\n",
        "import numpy as np\n",
        "import pandas as pd\n",
        "import matplotlib.pyplot as plt \n",
        "%matplotlib inline\n",
        "from sklearn import tree\n",
        "import graphviz\n",
        "from sklearn_pandas import DataFrameMapper \n",
        "from sklearn import decomposition\n",
        "from sklearn.impute import SimpleImputer\n",
        "from sklearn.preprocessing import StandardScaler \n",
        "from sklearn.feature_selection import SelectKBest \n",
        "from sklearn.model_selection import train_test_split\n",
        "from sklearn.decomposition import PCA\n",
        "from sklearn.tree import DecisionTreeClassifier\n",
        "from sklearn.pipeline import Pipeline\n",
        "from sklearn2pmml.decoration import ContinuousDomain\n",
        "from sklearn2pmml.pipeline import PMMLPipeline \n",
        "from sklearn2pmml import sklearn2pmml\n",
        "from sklearn.externals.six import StringIO \n",
        "from IPython.display import Image\n",
        "from sklearn import tree\n",
        "import sklearn.datasets as datasets\n",
        "from sklearn.tree import export_graphviz\n",
        "import graphviz\n",
        "import math"
      ],
      "execution_count": null,
      "outputs": []
    },
    {
      "cell_type": "code",
      "metadata": {
        "colab": {
          "base_uri": "https://localhost:8080/"
        },
        "id": "XyVl8930XMTL",
        "outputId": "6962d665-bb07-43c2-f803-20f950ace65a"
      },
      "source": [
        "drive.mount(\"/content/drive\")"
      ],
      "execution_count": null,
      "outputs": [
        {
          "output_type": "stream",
          "text": [
            "Mounted at /content/drive\n"
          ],
          "name": "stdout"
        }
      ]
    },
    {
      "cell_type": "code",
      "metadata": {
        "colab": {
          "base_uri": "https://localhost:8080/",
          "height": 224
        },
        "id": "FM2LMdevXp4S",
        "outputId": "bfd5c7cf-d2ca-4d6e-938f-b624c687664b"
      },
      "source": [
        "pmml_df = pd.read_csv(\"/content/drive/My Drive/data_public.csv.gz\", compression='gzip',header=0,sep=',', quotechar='\"')\n",
        "pmml_df.head()"
      ],
      "execution_count": null,
      "outputs": [
        {
          "output_type": "execute_result",
          "data": {
            "text/html": [
              "<div>\n",
              "<style scoped>\n",
              "    .dataframe tbody tr th:only-of-type {\n",
              "        vertical-align: middle;\n",
              "    }\n",
              "\n",
              "    .dataframe tbody tr th {\n",
              "        vertical-align: top;\n",
              "    }\n",
              "\n",
              "    .dataframe thead th {\n",
              "        text-align: right;\n",
              "    }\n",
              "</style>\n",
              "<table border=\"1\" class=\"dataframe\">\n",
              "  <thead>\n",
              "    <tr style=\"text-align: right;\">\n",
              "      <th></th>\n",
              "      <th>A</th>\n",
              "      <th>B</th>\n",
              "      <th>C</th>\n",
              "      <th>D</th>\n",
              "      <th>E</th>\n",
              "      <th>F</th>\n",
              "      <th>G</th>\n",
              "      <th>H</th>\n",
              "      <th>I</th>\n",
              "      <th>J</th>\n",
              "      <th>K</th>\n",
              "      <th>L</th>\n",
              "      <th>M</th>\n",
              "      <th>N</th>\n",
              "      <th>O</th>\n",
              "      <th>Class</th>\n",
              "    </tr>\n",
              "  </thead>\n",
              "  <tbody>\n",
              "    <tr>\n",
              "      <th>0</th>\n",
              "      <td>231.420023</td>\n",
              "      <td>-12.210984</td>\n",
              "      <td>217.624839</td>\n",
              "      <td>-15.611916</td>\n",
              "      <td>140.047185</td>\n",
              "      <td>76.904999</td>\n",
              "      <td>131.591871</td>\n",
              "      <td>198.160805</td>\n",
              "      <td>82.873279</td>\n",
              "      <td>127.350084</td>\n",
              "      <td>224.592926</td>\n",
              "      <td>-5.992983</td>\n",
              "      <td>-14.689648</td>\n",
              "      <td>143.072058</td>\n",
              "      <td>153.439659</td>\n",
              "      <td>2</td>\n",
              "    </tr>\n",
              "    <tr>\n",
              "      <th>1</th>\n",
              "      <td>-38.019270</td>\n",
              "      <td>-14.195695</td>\n",
              "      <td>9.583547</td>\n",
              "      <td>22.293822</td>\n",
              "      <td>-25.578283</td>\n",
              "      <td>-18.373955</td>\n",
              "      <td>-0.094457</td>\n",
              "      <td>-33.711852</td>\n",
              "      <td>-8.356041</td>\n",
              "      <td>23.792402</td>\n",
              "      <td>4.199023</td>\n",
              "      <td>2.809159</td>\n",
              "      <td>-59.330681</td>\n",
              "      <td>-11.685950</td>\n",
              "      <td>1.317104</td>\n",
              "      <td>3</td>\n",
              "    </tr>\n",
              "    <tr>\n",
              "      <th>2</th>\n",
              "      <td>-39.197085</td>\n",
              "      <td>-20.418850</td>\n",
              "      <td>21.023083</td>\n",
              "      <td>19.790280</td>\n",
              "      <td>-25.902587</td>\n",
              "      <td>-19.189004</td>\n",
              "      <td>-2.953836</td>\n",
              "      <td>-25.299219</td>\n",
              "      <td>-6.612401</td>\n",
              "      <td>26.285392</td>\n",
              "      <td>5.911292</td>\n",
              "      <td>6.191587</td>\n",
              "      <td>-56.924996</td>\n",
              "      <td>-4.675187</td>\n",
              "      <td>-1.027830</td>\n",
              "      <td>2</td>\n",
              "    </tr>\n",
              "    <tr>\n",
              "      <th>3</th>\n",
              "      <td>221.630408</td>\n",
              "      <td>-5.785352</td>\n",
              "      <td>216.725322</td>\n",
              "      <td>-9.900781</td>\n",
              "      <td>126.795177</td>\n",
              "      <td>85.122288</td>\n",
              "      <td>108.857593</td>\n",
              "      <td>197.640135</td>\n",
              "      <td>82.560019</td>\n",
              "      <td>157.105143</td>\n",
              "      <td>212.989231</td>\n",
              "      <td>-3.621070</td>\n",
              "      <td>-15.469156</td>\n",
              "      <td>135.265859</td>\n",
              "      <td>149.212489</td>\n",
              "      <td>2</td>\n",
              "    </tr>\n",
              "    <tr>\n",
              "      <th>4</th>\n",
              "      <td>228.558412</td>\n",
              "      <td>-12.447710</td>\n",
              "      <td>204.637218</td>\n",
              "      <td>-13.277704</td>\n",
              "      <td>138.930529</td>\n",
              "      <td>91.101870</td>\n",
              "      <td>115.598954</td>\n",
              "      <td>209.300011</td>\n",
              "      <td>89.961688</td>\n",
              "      <td>130.299732</td>\n",
              "      <td>201.795100</td>\n",
              "      <td>-1.573922</td>\n",
              "      <td>-15.128603</td>\n",
              "      <td>148.368622</td>\n",
              "      <td>147.492663</td>\n",
              "      <td>3</td>\n",
              "    </tr>\n",
              "  </tbody>\n",
              "</table>\n",
              "</div>"
            ],
            "text/plain": [
              "            A          B           C  ...           N           O  Class\n",
              "0  231.420023 -12.210984  217.624839  ...  143.072058  153.439659      2\n",
              "1  -38.019270 -14.195695    9.583547  ...  -11.685950    1.317104      3\n",
              "2  -39.197085 -20.418850   21.023083  ...   -4.675187   -1.027830      2\n",
              "3  221.630408  -5.785352  216.725322  ...  135.265859  149.212489      2\n",
              "4  228.558412 -12.447710  204.637218  ...  148.368622  147.492663      3\n",
              "\n",
              "[5 rows x 16 columns]"
            ]
          },
          "metadata": {
            "tags": []
          },
          "execution_count": 87
        }
      ]
    },
    {
      "cell_type": "code",
      "metadata": {
        "colab": {
          "base_uri": "https://localhost:8080/"
        },
        "id": "kvzAnoM2X7x4",
        "outputId": "7781a099-98ef-4444-c61b-cd830ca92cc8"
      },
      "source": [
        "print(len(pmml_df))\n",
        "print(pmml_df.shape)"
      ],
      "execution_count": null,
      "outputs": [
        {
          "output_type": "stream",
          "text": [
            "1200000\n",
            "(1200000, 16)\n"
          ],
          "name": "stdout"
        }
      ]
    },
    {
      "cell_type": "code",
      "metadata": {
        "colab": {
          "base_uri": "https://localhost:8080/",
          "height": 224
        },
        "id": "cvUwVe-hYEPv",
        "outputId": "be26cd0e-08e2-4941-a0a2-8631f9d7f04a"
      },
      "source": [
        "P = pd.DataFrame(data=pmml_df.drop('Class', axis=1))\n",
        "P.head()"
      ],
      "execution_count": null,
      "outputs": [
        {
          "output_type": "execute_result",
          "data": {
            "text/html": [
              "<div>\n",
              "<style scoped>\n",
              "    .dataframe tbody tr th:only-of-type {\n",
              "        vertical-align: middle;\n",
              "    }\n",
              "\n",
              "    .dataframe tbody tr th {\n",
              "        vertical-align: top;\n",
              "    }\n",
              "\n",
              "    .dataframe thead th {\n",
              "        text-align: right;\n",
              "    }\n",
              "</style>\n",
              "<table border=\"1\" class=\"dataframe\">\n",
              "  <thead>\n",
              "    <tr style=\"text-align: right;\">\n",
              "      <th></th>\n",
              "      <th>A</th>\n",
              "      <th>B</th>\n",
              "      <th>C</th>\n",
              "      <th>D</th>\n",
              "      <th>E</th>\n",
              "      <th>F</th>\n",
              "      <th>G</th>\n",
              "      <th>H</th>\n",
              "      <th>I</th>\n",
              "      <th>J</th>\n",
              "      <th>K</th>\n",
              "      <th>L</th>\n",
              "      <th>M</th>\n",
              "      <th>N</th>\n",
              "      <th>O</th>\n",
              "    </tr>\n",
              "  </thead>\n",
              "  <tbody>\n",
              "    <tr>\n",
              "      <th>0</th>\n",
              "      <td>231.420023</td>\n",
              "      <td>-12.210984</td>\n",
              "      <td>217.624839</td>\n",
              "      <td>-15.611916</td>\n",
              "      <td>140.047185</td>\n",
              "      <td>76.904999</td>\n",
              "      <td>131.591871</td>\n",
              "      <td>198.160805</td>\n",
              "      <td>82.873279</td>\n",
              "      <td>127.350084</td>\n",
              "      <td>224.592926</td>\n",
              "      <td>-5.992983</td>\n",
              "      <td>-14.689648</td>\n",
              "      <td>143.072058</td>\n",
              "      <td>153.439659</td>\n",
              "    </tr>\n",
              "    <tr>\n",
              "      <th>1</th>\n",
              "      <td>-38.019270</td>\n",
              "      <td>-14.195695</td>\n",
              "      <td>9.583547</td>\n",
              "      <td>22.293822</td>\n",
              "      <td>-25.578283</td>\n",
              "      <td>-18.373955</td>\n",
              "      <td>-0.094457</td>\n",
              "      <td>-33.711852</td>\n",
              "      <td>-8.356041</td>\n",
              "      <td>23.792402</td>\n",
              "      <td>4.199023</td>\n",
              "      <td>2.809159</td>\n",
              "      <td>-59.330681</td>\n",
              "      <td>-11.685950</td>\n",
              "      <td>1.317104</td>\n",
              "    </tr>\n",
              "    <tr>\n",
              "      <th>2</th>\n",
              "      <td>-39.197085</td>\n",
              "      <td>-20.418850</td>\n",
              "      <td>21.023083</td>\n",
              "      <td>19.790280</td>\n",
              "      <td>-25.902587</td>\n",
              "      <td>-19.189004</td>\n",
              "      <td>-2.953836</td>\n",
              "      <td>-25.299219</td>\n",
              "      <td>-6.612401</td>\n",
              "      <td>26.285392</td>\n",
              "      <td>5.911292</td>\n",
              "      <td>6.191587</td>\n",
              "      <td>-56.924996</td>\n",
              "      <td>-4.675187</td>\n",
              "      <td>-1.027830</td>\n",
              "    </tr>\n",
              "    <tr>\n",
              "      <th>3</th>\n",
              "      <td>221.630408</td>\n",
              "      <td>-5.785352</td>\n",
              "      <td>216.725322</td>\n",
              "      <td>-9.900781</td>\n",
              "      <td>126.795177</td>\n",
              "      <td>85.122288</td>\n",
              "      <td>108.857593</td>\n",
              "      <td>197.640135</td>\n",
              "      <td>82.560019</td>\n",
              "      <td>157.105143</td>\n",
              "      <td>212.989231</td>\n",
              "      <td>-3.621070</td>\n",
              "      <td>-15.469156</td>\n",
              "      <td>135.265859</td>\n",
              "      <td>149.212489</td>\n",
              "    </tr>\n",
              "    <tr>\n",
              "      <th>4</th>\n",
              "      <td>228.558412</td>\n",
              "      <td>-12.447710</td>\n",
              "      <td>204.637218</td>\n",
              "      <td>-13.277704</td>\n",
              "      <td>138.930529</td>\n",
              "      <td>91.101870</td>\n",
              "      <td>115.598954</td>\n",
              "      <td>209.300011</td>\n",
              "      <td>89.961688</td>\n",
              "      <td>130.299732</td>\n",
              "      <td>201.795100</td>\n",
              "      <td>-1.573922</td>\n",
              "      <td>-15.128603</td>\n",
              "      <td>148.368622</td>\n",
              "      <td>147.492663</td>\n",
              "    </tr>\n",
              "  </tbody>\n",
              "</table>\n",
              "</div>"
            ],
            "text/plain": [
              "            A          B           C  ...          M           N           O\n",
              "0  231.420023 -12.210984  217.624839  ... -14.689648  143.072058  153.439659\n",
              "1  -38.019270 -14.195695    9.583547  ... -59.330681  -11.685950    1.317104\n",
              "2  -39.197085 -20.418850   21.023083  ... -56.924996   -4.675187   -1.027830\n",
              "3  221.630408  -5.785352  216.725322  ... -15.469156  135.265859  149.212489\n",
              "4  228.558412 -12.447710  204.637218  ... -15.128603  148.368622  147.492663\n",
              "\n",
              "[5 rows x 15 columns]"
            ]
          },
          "metadata": {
            "tags": []
          },
          "execution_count": 89
        }
      ]
    },
    {
      "cell_type": "code",
      "metadata": {
        "colab": {
          "base_uri": "https://localhost:8080/"
        },
        "id": "JVneHpEeYKLb",
        "outputId": "483b73c6-302d-4a05-812c-4c8e5defd4da"
      },
      "source": [
        "training_labels = list(P.columns)\n",
        "print(training_labels)"
      ],
      "execution_count": null,
      "outputs": [
        {
          "output_type": "stream",
          "text": [
            "['A', 'B', 'C', 'D', 'E', 'F', 'G', 'H', 'I', 'J', 'K', 'L', 'M', 'N', 'O']\n"
          ],
          "name": "stdout"
        }
      ]
    },
    {
      "cell_type": "code",
      "metadata": {
        "colab": {
          "base_uri": "https://localhost:8080/",
          "height": 204
        },
        "id": "VuDGkplXYNFQ",
        "outputId": "61a8b901-7b2c-4001-99b4-e7987b6ee4d1"
      },
      "source": [
        "q = pd.DataFrame(data=pmml_df['Class'])\n",
        "q.head()"
      ],
      "execution_count": null,
      "outputs": [
        {
          "output_type": "execute_result",
          "data": {
            "text/html": [
              "<div>\n",
              "<style scoped>\n",
              "    .dataframe tbody tr th:only-of-type {\n",
              "        vertical-align: middle;\n",
              "    }\n",
              "\n",
              "    .dataframe tbody tr th {\n",
              "        vertical-align: top;\n",
              "    }\n",
              "\n",
              "    .dataframe thead th {\n",
              "        text-align: right;\n",
              "    }\n",
              "</style>\n",
              "<table border=\"1\" class=\"dataframe\">\n",
              "  <thead>\n",
              "    <tr style=\"text-align: right;\">\n",
              "      <th></th>\n",
              "      <th>Class</th>\n",
              "    </tr>\n",
              "  </thead>\n",
              "  <tbody>\n",
              "    <tr>\n",
              "      <th>0</th>\n",
              "      <td>2</td>\n",
              "    </tr>\n",
              "    <tr>\n",
              "      <th>1</th>\n",
              "      <td>3</td>\n",
              "    </tr>\n",
              "    <tr>\n",
              "      <th>2</th>\n",
              "      <td>2</td>\n",
              "    </tr>\n",
              "    <tr>\n",
              "      <th>3</th>\n",
              "      <td>2</td>\n",
              "    </tr>\n",
              "    <tr>\n",
              "      <th>4</th>\n",
              "      <td>3</td>\n",
              "    </tr>\n",
              "  </tbody>\n",
              "</table>\n",
              "</div>"
            ],
            "text/plain": [
              "   Class\n",
              "0      2\n",
              "1      3\n",
              "2      2\n",
              "3      2\n",
              "4      3"
            ]
          },
          "metadata": {
            "tags": []
          },
          "execution_count": 91
        }
      ]
    },
    {
      "cell_type": "code",
      "metadata": {
        "id": "veKUnZ0fkKt7"
      },
      "source": [
        "P_train, P_test, q_train, q_test = train_test_split(P, q, test_size=0.20, random_state=97)"
      ],
      "execution_count": null,
      "outputs": []
    },
    {
      "cell_type": "code",
      "metadata": {
        "colab": {
          "base_uri": "https://localhost:8080/"
        },
        "id": "T5kEj2pYkLoT",
        "outputId": "d3d992d4-a303-4405-a25e-488de8c0b148"
      },
      "source": [
        "training_data = pd.concat([P_train,q_train],axis=1)\n",
        "training_data.head()\n",
        "print(len(training_data))"
      ],
      "execution_count": null,
      "outputs": [
        {
          "output_type": "stream",
          "text": [
            "960000\n"
          ],
          "name": "stdout"
        }
      ]
    },
    {
      "cell_type": "markdown",
      "metadata": {
        "id": "hAyeab3Jueem"
      },
      "source": [
        "**Data Processing and Analysis**\n",
        "\n",
        "\n",
        "> **Checking for Missing Values**\n",
        "\n",
        "*   First, I checked for any missing values in the dataset.To Check for the missing values in the dataset there are many ways I choose isnull() method which helps me to find any null values present in the dataset.If yes it returns True or else False.\n",
        "\n",
        "\n",
        "\n"
      ]
    },
    {
      "cell_type": "code",
      "metadata": {
        "colab": {
          "base_uri": "https://localhost:8080/"
        },
        "id": "g4llB9X1YXq_",
        "outputId": "83dc1b67-a8aa-48c0-ae22-32f603658d8b"
      },
      "source": [
        "# Check whether the dataframe contains any missing value\n",
        "print(training_data.isnull().values.any())\n",
        "print(len(training_data.columns))"
      ],
      "execution_count": null,
      "outputs": [
        {
          "output_type": "stream",
          "text": [
            "False\n",
            "16\n"
          ],
          "name": "stdout"
        }
      ]
    },
    {
      "cell_type": "markdown",
      "metadata": {
        "id": "HFgCDsTcu65d"
      },
      "source": [
        "No missing data was found.So it returned False."
      ]
    },
    {
      "cell_type": "markdown",
      "metadata": {
        "id": "MXv9ihAwu-iO"
      },
      "source": [
        "**Principal Component Analysis**\n",
        "\n",
        "*   Next I am performing principal components to find the optimal number of components in the entire datasets.Before performing PCA I scaled the entire dataset and then performed PCA with n_components on the scaled trained dataset with total number of features and generated a plot.\n",
        "\n",
        "\n",
        "\n"
      ]
    },
    {
      "cell_type": "code",
      "metadata": {
        "colab": {
          "base_uri": "https://localhost:8080/"
        },
        "id": "xL9OXlxpYay9",
        "outputId": "b61b3be5-6d1a-4ef8-deae-13b2f6d734ed"
      },
      "source": [
        "standard_scalar = StandardScaler()\n",
        "training_df_scaled = standard_scalar.fit_transform(training_data.drop('Class', axis=1))\n",
        "training_df_scaled = pd.DataFrame(training_df_scaled, columns=training_labels)\n",
        "print(len(training_df_scaled))\n",
        "print(training_df_scaled.head(10))\n",
        "print(training_df_scaled.isnull().values.any())\n",
        "\n",
        "training_df_scaled = pd.merge(training_data['Class'],training_df_scaled, left_index=True, right_index=True, how='inner')\n",
        "print(len(training_df_scaled))\n",
        "print(training_df_scaled.head(10))\n",
        "print(training_df_scaled.isnull().values.any())"
      ],
      "execution_count": null,
      "outputs": [
        {
          "output_type": "stream",
          "text": [
            "960000\n",
            "          A         B         C  ...         M         N         O\n",
            "0  1.440950  0.765287  1.458101  ...  0.788554  1.398047  1.413347\n",
            "1  1.317774  0.528108  1.321870  ...  1.066979  1.476711  1.263338\n",
            "2 -0.663411  0.429147 -0.662361  ... -0.687958 -0.850573 -0.859964\n",
            "3 -0.641023 -0.040729 -0.550038  ... -0.503728 -0.851243 -0.858986\n",
            "4 -0.630074 -0.094215 -0.551774  ... -0.471425 -0.824783 -0.929646\n",
            "5  1.458450  0.256821  1.356139  ...  1.518827  1.220957  1.347866\n",
            "6 -0.846250 -1.936970 -1.091371  ... -0.052989 -0.284619  0.110404\n",
            "7  1.383809  0.958845  1.446394  ...  1.417070  1.392328  1.423425\n",
            "8 -0.855554 -2.160599 -1.045623  ... -0.315759 -0.284472  0.083560\n",
            "9 -0.838952 -1.825808 -1.071149  ... -0.322718 -0.461967 -0.041303\n",
            "\n",
            "[10 rows x 15 columns]\n",
            "False\n",
            "768010\n",
            "        Class         A         B  ...         M         N         O\n",
            "739135      3 -0.658611  0.228425  ... -0.734685 -0.857980 -0.941281\n",
            "54118       3  1.356763  0.236029  ...  1.623599  1.415648  1.330797\n",
            "293468      3 -0.700953  0.254157  ... -0.738406 -0.778306 -0.943118\n",
            "640194      3 -0.852157 -1.977333  ... -0.316531 -0.113123  0.045479\n",
            "295311      3 -0.607496  0.035722  ... -0.716740 -0.804954 -0.841795\n",
            "505214      1 -0.655865  0.451547  ... -0.710435 -0.848495 -0.899821\n",
            "30934       2  1.381451  0.670002  ...  1.292570  1.144872  1.297473\n",
            "135046      3 -0.825753 -2.007487  ... -0.177142 -0.283713 -0.075976\n",
            "951776      2  1.396558  0.773258  ...  1.507046  1.465753  1.568107\n",
            "836946      3 -0.658029  0.181105  ... -0.902324 -0.816542 -0.901919\n",
            "\n",
            "[10 rows x 16 columns]\n",
            "False\n"
          ],
          "name": "stdout"
        }
      ]
    },
    {
      "cell_type": "code",
      "metadata": {
        "colab": {
          "base_uri": "https://localhost:8080/",
          "height": 510
        },
        "id": "xRstTVhaYdcx",
        "outputId": "2f5938ab-9124-4586-d52d-a83604604ff5"
      },
      "source": [
        "pca_n_comp = PCA(n_components=len(training_df_scaled.columns)-1)\n",
        "pca_n_comp.fit(training_df_scaled.drop('Class', axis=1))\n",
        "plt.plot(np.cumsum(pca_n_comp.explained_variance_ratio_))\n",
        "plt.xlabel('Number of Components for PCA Analysis')\n",
        "plt.ylabel('Explained Variance')\n",
        "plt.show()\n",
        "pca_n_comp.explained_variance_ratio_"
      ],
      "execution_count": null,
      "outputs": [
        {
          "output_type": "display_data",
          "data": {
            "image/png": "[encoded data removed]",
            "text/plain": [
              "<Figure size 640x480 with 1 Axes>"
            ]
          },
          "metadata": {
            "tags": []
          }
        },
        {
          "output_type": "execute_result",
          "data": {
            "text/plain": [
              "array([7.33972266e-01, 2.48933297e-01, 5.94149152e-03, 4.07366435e-03,\n",
              "       3.46361345e-03, 6.57919941e-04, 5.61878608e-04, 4.72793000e-04,\n",
              "       4.62247400e-04, 3.82487210e-04, 3.10561061e-04, 2.56399887e-04,\n",
              "       2.01480639e-04, 1.84763545e-04, 1.25136075e-04])"
            ]
          },
          "metadata": {
            "tags": []
          },
          "execution_count": 96
        }
      ]
    },
    {
      "cell_type": "markdown",
      "metadata": {
        "id": "bEDPkQjbvkvw"
      },
      "source": [
        "The elbow in the above plot occurs at n = 1.So I used 1 principal component for all the pipelines."
      ]
    },
    {
      "cell_type": "code",
      "metadata": {
        "colab": {
          "base_uri": "https://localhost:8080/"
        },
        "id": "WfpcnvZMYiWJ",
        "outputId": "cb11280d-7ce5-47a9-8241-84a8962cab7b"
      },
      "source": [
        "training_labels_str = ''.join(map(str, training_labels))\n",
        "print(training_labels_str)"
      ],
      "execution_count": null,
      "outputs": [
        {
          "output_type": "stream",
          "text": [
            "ABCDEFGHIJKLMNO\n"
          ],
          "name": "stdout"
        }
      ]
    },
    {
      "cell_type": "markdown",
      "metadata": {
        "id": "Prh0mhRtsDoa"
      },
      "source": [
        "**Next**, I performed a PMML pipeline which includes Standard scaler,PCA and a Decision Tree Classifier.Fitted the pipeline with the p and q train.Calculated the score for the p and q test."
      ]
    },
    {
      "cell_type": "code",
      "metadata": {
        "colab": {
          "base_uri": "https://localhost:8080/"
        },
        "id": "M0F2Fbn597e_",
        "outputId": "b3e639d1-d454-45c5-8f34-c6d264a57f4d"
      },
      "source": [
        "#DecisionTreeClassifier\n",
        "pipeline = PMMLPipeline([('scaler',StandardScaler()),('pca',PCA(n_components=1)),('classifier',DecisionTreeClassifier(max_depth=2))])\n",
        "pipeline.fit(P_train,q_train)\n",
        "print(pipeline.score(P_test,q_test)) f"
      ],
      "execution_count": null,
      "outputs": [
        {
          "output_type": "stream",
          "text": [
            "0.49764166666666665\n"
          ],
          "name": "stdout"
        }
      ]
    },
    {
      "cell_type": "markdown",
      "metadata": {
        "id": "N2czR_irAYF1"
      },
      "source": [
        "The Accuracy of the total dataset is 49.7%."
      ]
    },
    {
      "cell_type": "markdown",
      "metadata": {
        "id": "iaWdWJXsBAUs"
      },
      "source": [
        "**Feature Removal**\n",
        "\n",
        "> Checking the accuracy of the dataset by dropping each feature\n",
        "\n"
      ]
    },
    {
      "cell_type": "code",
      "metadata": {
        "colab": {
          "base_uri": "https://localhost:8080/"
        },
        "id": "Y0FiOl8h89W5",
        "outputId": "198f0864-2592-4ee8-a175-0b3d1ba62ef5"
      },
      "source": [
        "features = 'ABCDEFGHIJKLMNO'\n",
        "for i in range(0, len(features)):\n",
        "    pipeline = PMMLPipeline([('scaler',StandardScaler()),('pca',PCA(n_components=1)),('classifier',DecisionTreeClassifier(max_depth = 2))])\n",
        "    pipeline.fit(training_data.drop([features[i:i+1]], axis=1),training_data['Class'])\n",
        "    results = pipeline.predict(P_test)\n",
        "    actual = np.concatenate(q_test.values)\n",
        "    print(\"Dropped feature:\", features[i:i+1], \", Accuracy:\", metrics.accuracy_score(actual, results))"
      ],
      "execution_count": null,
      "outputs": [
        {
          "output_type": "stream",
          "text": [
            "Dropped feature: A , Accuracy: 0.49764166666666665\n",
            "Dropped feature: B , Accuracy: 0.49764166666666665\n",
            "Dropped feature: C , Accuracy: 0.49764166666666665\n",
            "Dropped feature: D , Accuracy: 0.49764166666666665\n",
            "Dropped feature: E , Accuracy: 0.49764166666666665\n",
            "Dropped feature: F , Accuracy: 0.49764166666666665\n",
            "Dropped feature: G , Accuracy: 0.49764166666666665\n",
            "Dropped feature: H , Accuracy: 0.49764166666666665\n",
            "Dropped feature: I , Accuracy: 0.49764166666666665\n",
            "Dropped feature: J , Accuracy: 0.49764166666666665\n",
            "Dropped feature: K , Accuracy: 0.49764166666666665\n",
            "Dropped feature: L , Accuracy: 0.49764166666666665\n",
            "Dropped feature: M , Accuracy: 0.49764166666666665\n",
            "Dropped feature: N , Accuracy: 0.49764166666666665\n",
            "Dropped feature: O , Accuracy: 0.49764166666666665\n"
          ],
          "name": "stdout"
        }
      ]
    },
    {
      "cell_type": "markdown",
      "metadata": {
        "id": "9dr7Vt53AnQk"
      },
      "source": [
        "After dropping the each feature in the dataset at once there is no change in the accuracy.We can even check accuracy by dropping two features"
      ]
    },
    {
      "cell_type": "code",
      "metadata": {
        "colab": {
          "base_uri": "https://localhost:8080/"
        },
        "id": "663xB0ND9kH1",
        "outputId": "1ae99061-d67c-4458-97dc-753dab3c4bd5"
      },
      "source": [
        "to_drop = ['A','B']\n",
        "pipeline0 = PMMLPipeline([('mapper',DataFrameMapper([(P_train.columns.drop(to_drop).values,[StandardScaler()])])),('pca',PCA(n_components=1)),('classifier',DecisionTreeClassifier(max_depth = 2))])\n",
        "pipeline0.fit(training_data.drop(to_drop, axis=1),training_data['Class'])\n",
        "results = pipeline0.predict(P_test.drop(to_drop, axis=1))\n",
        "actual = np.concatenate(q_test.values)\n",
        "print('Accuracy:', metrics.accuracy_score(actual, results))"
      ],
      "execution_count": null,
      "outputs": [
        {
          "output_type": "stream",
          "text": [
            "Accuracy: 0.49764166666666665\n"
          ],
          "name": "stdout"
        }
      ]
    },
    {
      "cell_type": "markdown",
      "metadata": {
        "id": "98z9CGfLBNQ5"
      },
      "source": [
        "By dropping two features from dataset there is no change in the accuracy.It is still 49.7% because of which no feature can be dropped neither can be selected as the best feature or the important feature out of 15.So I assume dropping the feature from the dataset doesnt make any sense based on the accuracy.I am gonna perform some more experiments to find the best features."
      ]
    },
    {
      "cell_type": "markdown",
      "metadata": {
        "id": "h5sjHkdbBcIZ"
      },
      "source": [
        "**Binary Classification**\n",
        "\n",
        "\n",
        "*   Performing binary classification on the dataset because it is an another way to find three class classification.Choosing class 1 and checking for the accuracy versus classes which are not class 1.\n",
        "\n",
        "\n",
        "\n",
        "\n",
        "\n"
      ]
    },
    {
      "cell_type": "code",
      "metadata": {
        "colab": {
          "base_uri": "https://localhost:8080/",
          "height": 224
        },
        "id": "GQX1s5_mOOtT",
        "outputId": "619a6b79-d408-4d79-a5a0-0495ea80ce2d"
      },
      "source": [
        "#For class 1 vs not 1\n",
        "pmml_df_class1=pmml_df.copy(deep=True)\n",
        "pmml_df_class1.head()"
      ],
      "execution_count": null,
      "outputs": [
        {
          "output_type": "execute_result",
          "data": {
            "text/html": [
              "<div>\n",
              "<style scoped>\n",
              "    .dataframe tbody tr th:only-of-type {\n",
              "        vertical-align: middle;\n",
              "    }\n",
              "\n",
              "    .dataframe tbody tr th {\n",
              "        vertical-align: top;\n",
              "    }\n",
              "\n",
              "    .dataframe thead th {\n",
              "        text-align: right;\n",
              "    }\n",
              "</style>\n",
              "<table border=\"1\" class=\"dataframe\">\n",
              "  <thead>\n",
              "    <tr style=\"text-align: right;\">\n",
              "      <th></th>\n",
              "      <th>A</th>\n",
              "      <th>B</th>\n",
              "      <th>C</th>\n",
              "      <th>D</th>\n",
              "      <th>E</th>\n",
              "      <th>F</th>\n",
              "      <th>G</th>\n",
              "      <th>H</th>\n",
              "      <th>I</th>\n",
              "      <th>J</th>\n",
              "      <th>K</th>\n",
              "      <th>L</th>\n",
              "      <th>M</th>\n",
              "      <th>N</th>\n",
              "      <th>O</th>\n",
              "      <th>Class</th>\n",
              "    </tr>\n",
              "  </thead>\n",
              "  <tbody>\n",
              "    <tr>\n",
              "      <th>0</th>\n",
              "      <td>231.420023</td>\n",
              "      <td>-12.210984</td>\n",
              "      <td>217.624839</td>\n",
              "      <td>-15.611916</td>\n",
              "      <td>140.047185</td>\n",
              "      <td>76.904999</td>\n",
              "      <td>131.591871</td>\n",
              "      <td>198.160805</td>\n",
              "      <td>82.873279</td>\n",
              "      <td>127.350084</td>\n",
              "      <td>224.592926</td>\n",
              "      <td>-5.992983</td>\n",
              "      <td>-14.689648</td>\n",
              "      <td>143.072058</td>\n",
              "      <td>153.439659</td>\n",
              "      <td>2</td>\n",
              "    </tr>\n",
              "    <tr>\n",
              "      <th>1</th>\n",
              "      <td>-38.019270</td>\n",
              "      <td>-14.195695</td>\n",
              "      <td>9.583547</td>\n",
              "      <td>22.293822</td>\n",
              "      <td>-25.578283</td>\n",
              "      <td>-18.373955</td>\n",
              "      <td>-0.094457</td>\n",
              "      <td>-33.711852</td>\n",
              "      <td>-8.356041</td>\n",
              "      <td>23.792402</td>\n",
              "      <td>4.199023</td>\n",
              "      <td>2.809159</td>\n",
              "      <td>-59.330681</td>\n",
              "      <td>-11.685950</td>\n",
              "      <td>1.317104</td>\n",
              "      <td>3</td>\n",
              "    </tr>\n",
              "    <tr>\n",
              "      <th>2</th>\n",
              "      <td>-39.197085</td>\n",
              "      <td>-20.418850</td>\n",
              "      <td>21.023083</td>\n",
              "      <td>19.790280</td>\n",
              "      <td>-25.902587</td>\n",
              "      <td>-19.189004</td>\n",
              "      <td>-2.953836</td>\n",
              "      <td>-25.299219</td>\n",
              "      <td>-6.612401</td>\n",
              "      <td>26.285392</td>\n",
              "      <td>5.911292</td>\n",
              "      <td>6.191587</td>\n",
              "      <td>-56.924996</td>\n",
              "      <td>-4.675187</td>\n",
              "      <td>-1.027830</td>\n",
              "      <td>2</td>\n",
              "    </tr>\n",
              "    <tr>\n",
              "      <th>3</th>\n",
              "      <td>221.630408</td>\n",
              "      <td>-5.785352</td>\n",
              "      <td>216.725322</td>\n",
              "      <td>-9.900781</td>\n",
              "      <td>126.795177</td>\n",
              "      <td>85.122288</td>\n",
              "      <td>108.857593</td>\n",
              "      <td>197.640135</td>\n",
              "      <td>82.560019</td>\n",
              "      <td>157.105143</td>\n",
              "      <td>212.989231</td>\n",
              "      <td>-3.621070</td>\n",
              "      <td>-15.469156</td>\n",
              "      <td>135.265859</td>\n",
              "      <td>149.212489</td>\n",
              "      <td>2</td>\n",
              "    </tr>\n",
              "    <tr>\n",
              "      <th>4</th>\n",
              "      <td>228.558412</td>\n",
              "      <td>-12.447710</td>\n",
              "      <td>204.637218</td>\n",
              "      <td>-13.277704</td>\n",
              "      <td>138.930529</td>\n",
              "      <td>91.101870</td>\n",
              "      <td>115.598954</td>\n",
              "      <td>209.300011</td>\n",
              "      <td>89.961688</td>\n",
              "      <td>130.299732</td>\n",
              "      <td>201.795100</td>\n",
              "      <td>-1.573922</td>\n",
              "      <td>-15.128603</td>\n",
              "      <td>148.368622</td>\n",
              "      <td>147.492663</td>\n",
              "      <td>3</td>\n",
              "    </tr>\n",
              "  </tbody>\n",
              "</table>\n",
              "</div>"
            ],
            "text/plain": [
              "            A          B           C  ...           N           O  Class\n",
              "0  231.420023 -12.210984  217.624839  ...  143.072058  153.439659      2\n",
              "1  -38.019270 -14.195695    9.583547  ...  -11.685950    1.317104      3\n",
              "2  -39.197085 -20.418850   21.023083  ...   -4.675187   -1.027830      2\n",
              "3  221.630408  -5.785352  216.725322  ...  135.265859  149.212489      2\n",
              "4  228.558412 -12.447710  204.637218  ...  148.368622  147.492663      3\n",
              "\n",
              "[5 rows x 16 columns]"
            ]
          },
          "metadata": {
            "tags": []
          },
          "execution_count": 133
        }
      ]
    },
    {
      "cell_type": "markdown",
      "metadata": {
        "id": "To1jqUwg1Ijb"
      },
      "source": [
        "Considering only class 1 values and replacing class 2 and class 3 as 0."
      ]
    },
    {
      "cell_type": "code",
      "metadata": {
        "colab": {
          "base_uri": "https://localhost:8080/",
          "height": 224
        },
        "id": "eRu88islRsU4",
        "outputId": "71bffd1c-8728-4ff1-9771-b97b29998d56"
      },
      "source": [
        "#Making class 2 and class 3 values as 0\n",
        "pmml_df_class1.loc[(pmml_df_class1['Class']== 2)|(pmml_df_class1['Class']==3),'Class'] = 0\n",
        "pmml_df_class1.head()"
      ],
      "execution_count": null,
      "outputs": [
        {
          "output_type": "execute_result",
          "data": {
            "text/html": [
              "<div>\n",
              "<style scoped>\n",
              "    .dataframe tbody tr th:only-of-type {\n",
              "        vertical-align: middle;\n",
              "    }\n",
              "\n",
              "    .dataframe tbody tr th {\n",
              "        vertical-align: top;\n",
              "    }\n",
              "\n",
              "    .dataframe thead th {\n",
              "        text-align: right;\n",
              "    }\n",
              "</style>\n",
              "<table border=\"1\" class=\"dataframe\">\n",
              "  <thead>\n",
              "    <tr style=\"text-align: right;\">\n",
              "      <th></th>\n",
              "      <th>A</th>\n",
              "      <th>B</th>\n",
              "      <th>C</th>\n",
              "      <th>D</th>\n",
              "      <th>E</th>\n",
              "      <th>F</th>\n",
              "      <th>G</th>\n",
              "      <th>H</th>\n",
              "      <th>I</th>\n",
              "      <th>J</th>\n",
              "      <th>K</th>\n",
              "      <th>L</th>\n",
              "      <th>M</th>\n",
              "      <th>N</th>\n",
              "      <th>O</th>\n",
              "      <th>Class</th>\n",
              "    </tr>\n",
              "  </thead>\n",
              "  <tbody>\n",
              "    <tr>\n",
              "      <th>0</th>\n",
              "      <td>231.420023</td>\n",
              "      <td>-12.210984</td>\n",
              "      <td>217.624839</td>\n",
              "      <td>-15.611916</td>\n",
              "      <td>140.047185</td>\n",
              "      <td>76.904999</td>\n",
              "      <td>131.591871</td>\n",
              "      <td>198.160805</td>\n",
              "      <td>82.873279</td>\n",
              "      <td>127.350084</td>\n",
              "      <td>224.592926</td>\n",
              "      <td>-5.992983</td>\n",
              "      <td>-14.689648</td>\n",
              "      <td>143.072058</td>\n",
              "      <td>153.439659</td>\n",
              "      <td>0</td>\n",
              "    </tr>\n",
              "    <tr>\n",
              "      <th>1</th>\n",
              "      <td>-38.019270</td>\n",
              "      <td>-14.195695</td>\n",
              "      <td>9.583547</td>\n",
              "      <td>22.293822</td>\n",
              "      <td>-25.578283</td>\n",
              "      <td>-18.373955</td>\n",
              "      <td>-0.094457</td>\n",
              "      <td>-33.711852</td>\n",
              "      <td>-8.356041</td>\n",
              "      <td>23.792402</td>\n",
              "      <td>4.199023</td>\n",
              "      <td>2.809159</td>\n",
              "      <td>-59.330681</td>\n",
              "      <td>-11.685950</td>\n",
              "      <td>1.317104</td>\n",
              "      <td>0</td>\n",
              "    </tr>\n",
              "    <tr>\n",
              "      <th>2</th>\n",
              "      <td>-39.197085</td>\n",
              "      <td>-20.418850</td>\n",
              "      <td>21.023083</td>\n",
              "      <td>19.790280</td>\n",
              "      <td>-25.902587</td>\n",
              "      <td>-19.189004</td>\n",
              "      <td>-2.953836</td>\n",
              "      <td>-25.299219</td>\n",
              "      <td>-6.612401</td>\n",
              "      <td>26.285392</td>\n",
              "      <td>5.911292</td>\n",
              "      <td>6.191587</td>\n",
              "      <td>-56.924996</td>\n",
              "      <td>-4.675187</td>\n",
              "      <td>-1.027830</td>\n",
              "      <td>0</td>\n",
              "    </tr>\n",
              "    <tr>\n",
              "      <th>3</th>\n",
              "      <td>221.630408</td>\n",
              "      <td>-5.785352</td>\n",
              "      <td>216.725322</td>\n",
              "      <td>-9.900781</td>\n",
              "      <td>126.795177</td>\n",
              "      <td>85.122288</td>\n",
              "      <td>108.857593</td>\n",
              "      <td>197.640135</td>\n",
              "      <td>82.560019</td>\n",
              "      <td>157.105143</td>\n",
              "      <td>212.989231</td>\n",
              "      <td>-3.621070</td>\n",
              "      <td>-15.469156</td>\n",
              "      <td>135.265859</td>\n",
              "      <td>149.212489</td>\n",
              "      <td>0</td>\n",
              "    </tr>\n",
              "    <tr>\n",
              "      <th>4</th>\n",
              "      <td>228.558412</td>\n",
              "      <td>-12.447710</td>\n",
              "      <td>204.637218</td>\n",
              "      <td>-13.277704</td>\n",
              "      <td>138.930529</td>\n",
              "      <td>91.101870</td>\n",
              "      <td>115.598954</td>\n",
              "      <td>209.300011</td>\n",
              "      <td>89.961688</td>\n",
              "      <td>130.299732</td>\n",
              "      <td>201.795100</td>\n",
              "      <td>-1.573922</td>\n",
              "      <td>-15.128603</td>\n",
              "      <td>148.368622</td>\n",
              "      <td>147.492663</td>\n",
              "      <td>0</td>\n",
              "    </tr>\n",
              "  </tbody>\n",
              "</table>\n",
              "</div>"
            ],
            "text/plain": [
              "            A          B           C  ...           N           O  Class\n",
              "0  231.420023 -12.210984  217.624839  ...  143.072058  153.439659      0\n",
              "1  -38.019270 -14.195695    9.583547  ...  -11.685950    1.317104      0\n",
              "2  -39.197085 -20.418850   21.023083  ...   -4.675187   -1.027830      0\n",
              "3  221.630408  -5.785352  216.725322  ...  135.265859  149.212489      0\n",
              "4  228.558412 -12.447710  204.637218  ...  148.368622  147.492663      0\n",
              "\n",
              "[5 rows x 16 columns]"
            ]
          },
          "metadata": {
            "tags": []
          },
          "execution_count": 134
        }
      ]
    },
    {
      "cell_type": "code",
      "metadata": {
        "colab": {
          "base_uri": "https://localhost:8080/"
        },
        "id": "S_Tl1wH1aNVM",
        "outputId": "7bc1c237-305e-4170-928f-a0d73cca1e12"
      },
      "source": [
        "pmml_df_class1['Class'].unique()"
      ],
      "execution_count": null,
      "outputs": [
        {
          "output_type": "execute_result",
          "data": {
            "text/plain": [
              "array([0, 1])"
            ]
          },
          "metadata": {
            "tags": []
          },
          "execution_count": 135
        }
      ]
    },
    {
      "cell_type": "code",
      "metadata": {
        "colab": {
          "base_uri": "https://localhost:8080/",
          "height": 224
        },
        "id": "AXBZxUMuYrpJ",
        "outputId": "1daee3b3-ba43-4c65-c68b-9113f61de4f4"
      },
      "source": [
        "#Training the values\n",
        "P_class1 = pd.DataFrame(data=pmml_df_class1.drop('Class', axis=1))\n",
        "q_class1 = pd.DataFrame(data=pmml_df_class1['Class'],columns=['Class'])\n",
        "P_class1_train, P_class1_test, q_class1_train, q_class1_test = train_test_split(P_class1,q_class1,test_size=0.2)\n",
        "train_data = pd.concat([P_class1_train,q_class1_train],axis=1)\n",
        "train_data.head()"
      ],
      "execution_count": null,
      "outputs": [
        {
          "output_type": "execute_result",
          "data": {
            "text/html": [
              "<div>\n",
              "<style scoped>\n",
              "    .dataframe tbody tr th:only-of-type {\n",
              "        vertical-align: middle;\n",
              "    }\n",
              "\n",
              "    .dataframe tbody tr th {\n",
              "        vertical-align: top;\n",
              "    }\n",
              "\n",
              "    .dataframe thead th {\n",
              "        text-align: right;\n",
              "    }\n",
              "</style>\n",
              "<table border=\"1\" class=\"dataframe\">\n",
              "  <thead>\n",
              "    <tr style=\"text-align: right;\">\n",
              "      <th></th>\n",
              "      <th>A</th>\n",
              "      <th>B</th>\n",
              "      <th>C</th>\n",
              "      <th>D</th>\n",
              "      <th>E</th>\n",
              "      <th>F</th>\n",
              "      <th>G</th>\n",
              "      <th>H</th>\n",
              "      <th>I</th>\n",
              "      <th>J</th>\n",
              "      <th>K</th>\n",
              "      <th>L</th>\n",
              "      <th>M</th>\n",
              "      <th>N</th>\n",
              "      <th>O</th>\n",
              "      <th>Class</th>\n",
              "    </tr>\n",
              "  </thead>\n",
              "  <tbody>\n",
              "    <tr>\n",
              "      <th>697976</th>\n",
              "      <td>-37.784934</td>\n",
              "      <td>-10.654496</td>\n",
              "      <td>12.896484</td>\n",
              "      <td>16.375475</td>\n",
              "      <td>-27.292293</td>\n",
              "      <td>-27.990642</td>\n",
              "      <td>3.313893</td>\n",
              "      <td>-27.026464</td>\n",
              "      <td>-8.025065</td>\n",
              "      <td>25.583653</td>\n",
              "      <td>-1.796284</td>\n",
              "      <td>0.731796</td>\n",
              "      <td>-56.772207</td>\n",
              "      <td>-1.849098</td>\n",
              "      <td>1.798296</td>\n",
              "      <td>0</td>\n",
              "    </tr>\n",
              "    <tr>\n",
              "      <th>124109</th>\n",
              "      <td>-32.882887</td>\n",
              "      <td>-8.463958</td>\n",
              "      <td>12.949734</td>\n",
              "      <td>21.512647</td>\n",
              "      <td>-30.915887</td>\n",
              "      <td>-21.083901</td>\n",
              "      <td>3.120177</td>\n",
              "      <td>-23.587813</td>\n",
              "      <td>-5.725813</td>\n",
              "      <td>22.436569</td>\n",
              "      <td>-1.822056</td>\n",
              "      <td>-0.427469</td>\n",
              "      <td>-54.274918</td>\n",
              "      <td>-9.308968</td>\n",
              "      <td>-3.153025</td>\n",
              "      <td>0</td>\n",
              "    </tr>\n",
              "    <tr>\n",
              "      <th>337632</th>\n",
              "      <td>-37.275441</td>\n",
              "      <td>-20.219862</td>\n",
              "      <td>12.339928</td>\n",
              "      <td>16.686933</td>\n",
              "      <td>-20.581779</td>\n",
              "      <td>-25.722242</td>\n",
              "      <td>2.674869</td>\n",
              "      <td>-30.666148</td>\n",
              "      <td>-12.963303</td>\n",
              "      <td>20.481545</td>\n",
              "      <td>1.390754</td>\n",
              "      <td>-1.752627</td>\n",
              "      <td>-54.971639</td>\n",
              "      <td>-11.854700</td>\n",
              "      <td>-2.299344</td>\n",
              "      <td>0</td>\n",
              "    </tr>\n",
              "    <tr>\n",
              "      <th>739151</th>\n",
              "      <td>-64.834974</td>\n",
              "      <td>-58.952422</td>\n",
              "      <td>-36.876284</td>\n",
              "      <td>-116.873617</td>\n",
              "      <td>-19.714555</td>\n",
              "      <td>-135.352202</td>\n",
              "      <td>-57.657791</td>\n",
              "      <td>-2.927923</td>\n",
              "      <td>59.075128</td>\n",
              "      <td>-89.025012</td>\n",
              "      <td>47.571344</td>\n",
              "      <td>-43.785613</td>\n",
              "      <td>-61.743673</td>\n",
              "      <td>32.411236</td>\n",
              "      <td>67.541313</td>\n",
              "      <td>0</td>\n",
              "    </tr>\n",
              "    <tr>\n",
              "      <th>1114969</th>\n",
              "      <td>-24.707871</td>\n",
              "      <td>-9.747992</td>\n",
              "      <td>4.354934</td>\n",
              "      <td>22.178446</td>\n",
              "      <td>-22.095645</td>\n",
              "      <td>-23.535415</td>\n",
              "      <td>5.105842</td>\n",
              "      <td>-31.780045</td>\n",
              "      <td>-6.791423</td>\n",
              "      <td>24.097556</td>\n",
              "      <td>3.446627</td>\n",
              "      <td>5.738025</td>\n",
              "      <td>-54.815660</td>\n",
              "      <td>-8.764139</td>\n",
              "      <td>-3.140459</td>\n",
              "      <td>0</td>\n",
              "    </tr>\n",
              "  </tbody>\n",
              "</table>\n",
              "</div>"
            ],
            "text/plain": [
              "                 A          B          C  ...          N          O  Class\n",
              "697976  -37.784934 -10.654496  12.896484  ...  -1.849098   1.798296      0\n",
              "124109  -32.882887  -8.463958  12.949734  ...  -9.308968  -3.153025      0\n",
              "337632  -37.275441 -20.219862  12.339928  ... -11.854700  -2.299344      0\n",
              "739151  -64.834974 -58.952422 -36.876284  ...  32.411236  67.541313      0\n",
              "1114969 -24.707871  -9.747992   4.354934  ...  -8.764139  -3.140459      0\n",
              "\n",
              "[5 rows x 16 columns]"
            ]
          },
          "metadata": {
            "tags": []
          },
          "execution_count": 136
        }
      ]
    },
    {
      "cell_type": "code",
      "metadata": {
        "colab": {
          "base_uri": "https://localhost:8080/"
        },
        "id": "iR-SMl4eT_Fu",
        "outputId": "d2a8d581-c57c-4879-a856-702e2bdcda9f"
      },
      "source": [
        "#DecisionTreeClassifier\n",
        "pipeline1_DTC = PMMLPipeline([('scaler',StandardScaler()),('pca',PCA(n_components=1)),('classifier',DecisionTreeClassifier(max_depth=2))])\n",
        "pipeline1_DTC.fit(P_class1_train,q_class1_train)\n",
        "print(pipeline1_DTC.score(P_class1_test,q_class1_test))"
      ],
      "execution_count": null,
      "outputs": [
        {
          "output_type": "stream",
          "text": [
            "0.8332541666666666\n"
          ],
          "name": "stdout"
        }
      ]
    },
    {
      "cell_type": "markdown",
      "metadata": {
        "id": "Kv0Y91uDUJkr"
      },
      "source": [
        "The accuracy for the class 1 versus not class 1(i.e., class 2 and class 3 considered as 0 class) is 83%."
      ]
    },
    {
      "cell_type": "code",
      "metadata": {
        "colab": {
          "base_uri": "https://localhost:8080/"
        },
        "id": "yg8Z_ZrsUX-k",
        "outputId": "dfb15c7f-6cb4-4bd1-82d9-2aacb528f536"
      },
      "source": [
        "#RandomForestClassifier\n",
        "pipeline1_RFC = PMMLPipeline([('scaler',StandardScaler()),('pca',PCA(n_components=1)),('classifier',RandomForestClassifier(max_depth=2))])\n",
        "pipeline1_RFC.fit(P_class1_train,q_class1_train)\n",
        "print(pipeline1_RFC.score(P_class1_test,q_class1_test))"
      ],
      "execution_count": null,
      "outputs": [
        {
          "output_type": "stream",
          "text": [
            "/usr/local/lib/python3.7/dist-packages/sklearn/pipeline.py:354: DataConversionWarning: A column-vector y was passed when a 1d array was expected. Please change the shape of y to (n_samples,), for example using ravel().\n",
            "  self._final_estimator.fit(Xt, y, **fit_params)\n"
          ],
          "name": "stderr"
        },
        {
          "output_type": "stream",
          "text": [
            "0.8327375\n"
          ],
          "name": "stdout"
        }
      ]
    },
    {
      "cell_type": "markdown",
      "metadata": {
        "id": "23jwcIvh0G7j"
      },
      "source": [
        "The accuracy for the class 1 versus not class 1(i.e., class 2 and class 3 considered as 0 class) is 83%."
      ]
    },
    {
      "cell_type": "code",
      "metadata": {
        "colab": {
          "base_uri": "https://localhost:8080/"
        },
        "id": "CFn2PUtk2r2Z",
        "outputId": "ee0295b1-77cd-4b63-81cb-5ce8ffa56257"
      },
      "source": [
        "features = 'ABCDEFGHIJKLMNO'\n",
        "for i in range(0, len(features)):\n",
        "    pipeline = PMMLPipeline([('scaler',StandardScaler()),('pca',PCA(n_components=1)),('classifier',DecisionTreeClassifier(max_depth = 3))])\n",
        "    pipeline.fit(train_data.drop([features[i:i+1]], axis=1),train_data['Class'])\n",
        "    results = pipeline.predict(P_class1_test)\n",
        "    actual = np.concatenate(q_class1_test.values)\n",
        "    print(\"Dropped feature:\", features[i:i+1], \", Accuracy:\", metrics.accuracy_score(actual, results))"
      ],
      "execution_count": null,
      "outputs": [
        {
          "output_type": "stream",
          "text": [
            "Dropped feature: A , Accuracy: 0.8327125\n",
            "Dropped feature: B , Accuracy: 0.8327125\n",
            "Dropped feature: C , Accuracy: 0.8327125\n",
            "Dropped feature: D , Accuracy: 0.8327125\n",
            "Dropped feature: E , Accuracy: 0.8327125\n",
            "Dropped feature: F , Accuracy: 0.8327125\n",
            "Dropped feature: G , Accuracy: 0.8327125\n",
            "Dropped feature: H , Accuracy: 0.8327125\n",
            "Dropped feature: I , Accuracy: 0.8327125\n",
            "Dropped feature: J , Accuracy: 0.8327125\n",
            "Dropped feature: K , Accuracy: 0.8327125\n",
            "Dropped feature: L , Accuracy: 0.8327125\n",
            "Dropped feature: M , Accuracy: 0.8327125\n",
            "Dropped feature: N , Accuracy: 0.8327125\n",
            "Dropped feature: O , Accuracy: 0.8327125\n"
          ],
          "name": "stdout"
        }
      ]
    },
    {
      "cell_type": "markdown",
      "metadata": {
        "id": "rngx_YGHVYUq"
      },
      "source": [
        "By dropping each feature the accuracy also getting the same accuracy as 83%"
      ]
    },
    {
      "cell_type": "markdown",
      "metadata": {
        "id": "Rl48Rgjo0vkw"
      },
      "source": [
        "Now considering the dataset with class 2 and 3 which are 0's."
      ]
    },
    {
      "cell_type": "code",
      "metadata": {
        "colab": {
          "base_uri": "https://localhost:8080/",
          "height": 224
        },
        "id": "G81A25_dVOOk",
        "outputId": "d1fc392b-ee4f-4770-9597-d7ff7941f6bd"
      },
      "source": [
        "#Considering class which is not 1\n",
        "pmml_df_class_not1=pd.DataFrame(data=pmml_df_class1[pmml_df_class1[\"Class\"]==0])\n",
        "pmml_df_class_not1.head()"
      ],
      "execution_count": null,
      "outputs": [
        {
          "output_type": "execute_result",
          "data": {
            "text/html": [
              "<div>\n",
              "<style scoped>\n",
              "    .dataframe tbody tr th:only-of-type {\n",
              "        vertical-align: middle;\n",
              "    }\n",
              "\n",
              "    .dataframe tbody tr th {\n",
              "        vertical-align: top;\n",
              "    }\n",
              "\n",
              "    .dataframe thead th {\n",
              "        text-align: right;\n",
              "    }\n",
              "</style>\n",
              "<table border=\"1\" class=\"dataframe\">\n",
              "  <thead>\n",
              "    <tr style=\"text-align: right;\">\n",
              "      <th></th>\n",
              "      <th>A</th>\n",
              "      <th>B</th>\n",
              "      <th>C</th>\n",
              "      <th>D</th>\n",
              "      <th>E</th>\n",
              "      <th>F</th>\n",
              "      <th>G</th>\n",
              "      <th>H</th>\n",
              "      <th>I</th>\n",
              "      <th>J</th>\n",
              "      <th>K</th>\n",
              "      <th>L</th>\n",
              "      <th>M</th>\n",
              "      <th>N</th>\n",
              "      <th>O</th>\n",
              "      <th>Class</th>\n",
              "    </tr>\n",
              "  </thead>\n",
              "  <tbody>\n",
              "    <tr>\n",
              "      <th>0</th>\n",
              "      <td>231.420023</td>\n",
              "      <td>-12.210984</td>\n",
              "      <td>217.624839</td>\n",
              "      <td>-15.611916</td>\n",
              "      <td>140.047185</td>\n",
              "      <td>76.904999</td>\n",
              "      <td>131.591871</td>\n",
              "      <td>198.160805</td>\n",
              "      <td>82.873279</td>\n",
              "      <td>127.350084</td>\n",
              "      <td>224.592926</td>\n",
              "      <td>-5.992983</td>\n",
              "      <td>-14.689648</td>\n",
              "      <td>143.072058</td>\n",
              "      <td>153.439659</td>\n",
              "      <td>0</td>\n",
              "    </tr>\n",
              "    <tr>\n",
              "      <th>1</th>\n",
              "      <td>-38.019270</td>\n",
              "      <td>-14.195695</td>\n",
              "      <td>9.583547</td>\n",
              "      <td>22.293822</td>\n",
              "      <td>-25.578283</td>\n",
              "      <td>-18.373955</td>\n",
              "      <td>-0.094457</td>\n",
              "      <td>-33.711852</td>\n",
              "      <td>-8.356041</td>\n",
              "      <td>23.792402</td>\n",
              "      <td>4.199023</td>\n",
              "      <td>2.809159</td>\n",
              "      <td>-59.330681</td>\n",
              "      <td>-11.685950</td>\n",
              "      <td>1.317104</td>\n",
              "      <td>0</td>\n",
              "    </tr>\n",
              "    <tr>\n",
              "      <th>2</th>\n",
              "      <td>-39.197085</td>\n",
              "      <td>-20.418850</td>\n",
              "      <td>21.023083</td>\n",
              "      <td>19.790280</td>\n",
              "      <td>-25.902587</td>\n",
              "      <td>-19.189004</td>\n",
              "      <td>-2.953836</td>\n",
              "      <td>-25.299219</td>\n",
              "      <td>-6.612401</td>\n",
              "      <td>26.285392</td>\n",
              "      <td>5.911292</td>\n",
              "      <td>6.191587</td>\n",
              "      <td>-56.924996</td>\n",
              "      <td>-4.675187</td>\n",
              "      <td>-1.027830</td>\n",
              "      <td>0</td>\n",
              "    </tr>\n",
              "    <tr>\n",
              "      <th>3</th>\n",
              "      <td>221.630408</td>\n",
              "      <td>-5.785352</td>\n",
              "      <td>216.725322</td>\n",
              "      <td>-9.900781</td>\n",
              "      <td>126.795177</td>\n",
              "      <td>85.122288</td>\n",
              "      <td>108.857593</td>\n",
              "      <td>197.640135</td>\n",
              "      <td>82.560019</td>\n",
              "      <td>157.105143</td>\n",
              "      <td>212.989231</td>\n",
              "      <td>-3.621070</td>\n",
              "      <td>-15.469156</td>\n",
              "      <td>135.265859</td>\n",
              "      <td>149.212489</td>\n",
              "      <td>0</td>\n",
              "    </tr>\n",
              "    <tr>\n",
              "      <th>4</th>\n",
              "      <td>228.558412</td>\n",
              "      <td>-12.447710</td>\n",
              "      <td>204.637218</td>\n",
              "      <td>-13.277704</td>\n",
              "      <td>138.930529</td>\n",
              "      <td>91.101870</td>\n",
              "      <td>115.598954</td>\n",
              "      <td>209.300011</td>\n",
              "      <td>89.961688</td>\n",
              "      <td>130.299732</td>\n",
              "      <td>201.795100</td>\n",
              "      <td>-1.573922</td>\n",
              "      <td>-15.128603</td>\n",
              "      <td>148.368622</td>\n",
              "      <td>147.492663</td>\n",
              "      <td>0</td>\n",
              "    </tr>\n",
              "  </tbody>\n",
              "</table>\n",
              "</div>"
            ],
            "text/plain": [
              "            A          B           C  ...           N           O  Class\n",
              "0  231.420023 -12.210984  217.624839  ...  143.072058  153.439659      0\n",
              "1  -38.019270 -14.195695    9.583547  ...  -11.685950    1.317104      0\n",
              "2  -39.197085 -20.418850   21.023083  ...   -4.675187   -1.027830      0\n",
              "3  221.630408  -5.785352  216.725322  ...  135.265859  149.212489      0\n",
              "4  228.558412 -12.447710  204.637218  ...  148.368622  147.492663      0\n",
              "\n",
              "[5 rows x 16 columns]"
            ]
          },
          "metadata": {
            "tags": []
          },
          "execution_count": 126
        }
      ]
    },
    {
      "cell_type": "code",
      "metadata": {
        "colab": {
          "base_uri": "https://localhost:8080/",
          "height": 224
        },
        "id": "rRFafWDrWCtB",
        "outputId": "72088e60-9598-48f3-d3b2-f3089d7fc940"
      },
      "source": [
        "P_class_not1 = pd.DataFrame(data=pmml_df_class_not1.drop('Class', axis=1))\n",
        "q_class_not1 = pd.DataFrame(data=pmml_df_class_not1['Class'],columns=['Class'])\n",
        "P_class_not1_train, P_class_not1_test, q_class_not1_train, q_class_not1_test = train_test_split(P_class_not1,q_class_not1,test_size=0.2)\n",
        "train_data = pd.concat([P_class_not1_train,q_class_not1_train],axis=1)\n",
        "train_data.head()"
      ],
      "execution_count": null,
      "outputs": [
        {
          "output_type": "execute_result",
          "data": {
            "text/html": [
              "<div>\n",
              "<style scoped>\n",
              "    .dataframe tbody tr th:only-of-type {\n",
              "        vertical-align: middle;\n",
              "    }\n",
              "\n",
              "    .dataframe tbody tr th {\n",
              "        vertical-align: top;\n",
              "    }\n",
              "\n",
              "    .dataframe thead th {\n",
              "        text-align: right;\n",
              "    }\n",
              "</style>\n",
              "<table border=\"1\" class=\"dataframe\">\n",
              "  <thead>\n",
              "    <tr style=\"text-align: right;\">\n",
              "      <th></th>\n",
              "      <th>A</th>\n",
              "      <th>B</th>\n",
              "      <th>C</th>\n",
              "      <th>D</th>\n",
              "      <th>E</th>\n",
              "      <th>F</th>\n",
              "      <th>G</th>\n",
              "      <th>H</th>\n",
              "      <th>I</th>\n",
              "      <th>J</th>\n",
              "      <th>K</th>\n",
              "      <th>L</th>\n",
              "      <th>M</th>\n",
              "      <th>N</th>\n",
              "      <th>O</th>\n",
              "      <th>Class</th>\n",
              "    </tr>\n",
              "  </thead>\n",
              "  <tbody>\n",
              "    <tr>\n",
              "      <th>556753</th>\n",
              "      <td>-36.532190</td>\n",
              "      <td>-18.415576</td>\n",
              "      <td>13.933149</td>\n",
              "      <td>20.687396</td>\n",
              "      <td>-23.433974</td>\n",
              "      <td>-22.105896</td>\n",
              "      <td>2.726087</td>\n",
              "      <td>-23.643071</td>\n",
              "      <td>-9.895414</td>\n",
              "      <td>22.885605</td>\n",
              "      <td>4.150771</td>\n",
              "      <td>4.620460</td>\n",
              "      <td>-57.751576</td>\n",
              "      <td>-6.174930</td>\n",
              "      <td>2.036669</td>\n",
              "      <td>0</td>\n",
              "    </tr>\n",
              "    <tr>\n",
              "      <th>478801</th>\n",
              "      <td>236.302382</td>\n",
              "      <td>-13.434130</td>\n",
              "      <td>225.457638</td>\n",
              "      <td>-13.842231</td>\n",
              "      <td>138.902776</td>\n",
              "      <td>92.860630</td>\n",
              "      <td>154.281306</td>\n",
              "      <td>190.991452</td>\n",
              "      <td>79.179412</td>\n",
              "      <td>137.158980</td>\n",
              "      <td>198.471487</td>\n",
              "      <td>6.621253</td>\n",
              "      <td>-12.873982</td>\n",
              "      <td>157.511649</td>\n",
              "      <td>130.629736</td>\n",
              "      <td>0</td>\n",
              "    </tr>\n",
              "    <tr>\n",
              "      <th>911203</th>\n",
              "      <td>-29.944374</td>\n",
              "      <td>-20.631123</td>\n",
              "      <td>4.713876</td>\n",
              "      <td>19.780079</td>\n",
              "      <td>-28.114404</td>\n",
              "      <td>-19.559039</td>\n",
              "      <td>1.585056</td>\n",
              "      <td>-26.584901</td>\n",
              "      <td>-5.463758</td>\n",
              "      <td>26.882176</td>\n",
              "      <td>0.773907</td>\n",
              "      <td>-1.939820</td>\n",
              "      <td>-53.817089</td>\n",
              "      <td>-9.973169</td>\n",
              "      <td>1.054645</td>\n",
              "      <td>0</td>\n",
              "    </tr>\n",
              "    <tr>\n",
              "      <th>1130124</th>\n",
              "      <td>231.006474</td>\n",
              "      <td>-12.044842</td>\n",
              "      <td>212.464184</td>\n",
              "      <td>-12.269698</td>\n",
              "      <td>127.891824</td>\n",
              "      <td>93.639251</td>\n",
              "      <td>118.917273</td>\n",
              "      <td>215.732025</td>\n",
              "      <td>84.182746</td>\n",
              "      <td>127.126162</td>\n",
              "      <td>216.161233</td>\n",
              "      <td>-7.625471</td>\n",
              "      <td>-25.342553</td>\n",
              "      <td>125.707610</td>\n",
              "      <td>142.789328</td>\n",
              "      <td>0</td>\n",
              "    </tr>\n",
              "    <tr>\n",
              "      <th>340727</th>\n",
              "      <td>234.342600</td>\n",
              "      <td>-6.553826</td>\n",
              "      <td>218.764204</td>\n",
              "      <td>-15.853706</td>\n",
              "      <td>130.032273</td>\n",
              "      <td>72.301271</td>\n",
              "      <td>117.434405</td>\n",
              "      <td>208.071413</td>\n",
              "      <td>74.936292</td>\n",
              "      <td>148.914970</td>\n",
              "      <td>206.734727</td>\n",
              "      <td>3.847973</td>\n",
              "      <td>-16.760501</td>\n",
              "      <td>137.414333</td>\n",
              "      <td>146.689238</td>\n",
              "      <td>0</td>\n",
              "    </tr>\n",
              "  </tbody>\n",
              "</table>\n",
              "</div>"
            ],
            "text/plain": [
              "                  A          B           C  ...           N           O  Class\n",
              "556753   -36.532190 -18.415576   13.933149  ...   -6.174930    2.036669      0\n",
              "478801   236.302382 -13.434130  225.457638  ...  157.511649  130.629736      0\n",
              "911203   -29.944374 -20.631123    4.713876  ...   -9.973169    1.054645      0\n",
              "1130124  231.006474 -12.044842  212.464184  ...  125.707610  142.789328      0\n",
              "340727   234.342600  -6.553826  218.764204  ...  137.414333  146.689238      0\n",
              "\n",
              "[5 rows x 16 columns]"
            ]
          },
          "metadata": {
            "tags": []
          },
          "execution_count": 10
        }
      ]
    },
    {
      "cell_type": "code",
      "metadata": {
        "colab": {
          "base_uri": "https://localhost:8080/"
        },
        "id": "-6u_704dXM2N",
        "outputId": "0c674489-9668-478d-99a9-2f73931d4763"
      },
      "source": [
        "#DecisionTreeClassifier\n",
        "pipelinenot1_DTC = PMMLPipeline([('scaler',StandardScaler()),('pca',PCA(n_components=1)),('classifier',DecisionTreeClassifier(max_depth=2))])\n",
        "pipelinenot1_DTC.fit(P_class_not1_train,q_class_not1_train)\n",
        "print(pipelinenot1_DTC.score(P_class_not1_test,q_class_not1_test))"
      ],
      "execution_count": null,
      "outputs": [
        {
          "output_type": "stream",
          "text": [
            "1.0\n"
          ],
          "name": "stdout"
        }
      ]
    },
    {
      "cell_type": "markdown",
      "metadata": {
        "id": "6_rLQ7771g-6"
      },
      "source": [
        "Accuracy is 100% for predicting the not class 1 i.e., predicting class 2 and class 3 "
      ]
    },
    {
      "cell_type": "code",
      "metadata": {
        "colab": {
          "base_uri": "https://localhost:8080/"
        },
        "id": "5ymsPn1DXYs1",
        "outputId": "5730f790-a0c8-4add-8ca3-973120a4f19f"
      },
      "source": [
        "#RandomForestClassifier\n",
        "pipelinenot1_RFC = PMMLPipeline([('scaler',StandardScaler()),('pca',PCA(n_components=1)),('classifier',RandomForestClassifier(max_depth=2))])\n",
        "pipelinenot1_RFC.fit(P_class_not1_train,q_class_not1_train)\n",
        "print(pipelinenot1_RFC.score(P_class_not1_test,q_class_not1_test))"
      ],
      "execution_count": null,
      "outputs": [
        {
          "output_type": "stream",
          "text": [
            "/usr/local/lib/python3.7/dist-packages/sklearn/pipeline.py:354: DataConversionWarning: A column-vector y was passed when a 1d array was expected. Please change the shape of y to (n_samples,), for example using ravel().\n",
            "  self._final_estimator.fit(Xt, y, **fit_params)\n"
          ],
          "name": "stderr"
        },
        {
          "output_type": "stream",
          "text": [
            "1.0\n"
          ],
          "name": "stdout"
        }
      ]
    },
    {
      "cell_type": "code",
      "metadata": {
        "id": "Y6pECgL4KDth"
      },
      "source": [
        "pmml_df_class23=pmml_df.copy(deep=True)"
      ],
      "execution_count": null,
      "outputs": []
    },
    {
      "cell_type": "markdown",
      "metadata": {
        "id": "FQdvxriy16ao"
      },
      "source": [
        "Performing another experiment considering the dataset with only class 2 and class 3"
      ]
    },
    {
      "cell_type": "code",
      "metadata": {
        "colab": {
          "base_uri": "https://localhost:8080/",
          "height": 224
        },
        "id": "ToyFXOPjK5um",
        "outputId": "5df10e2d-4085-474a-c639-95c52933cfc0"
      },
      "source": [
        "#DataFrame having only class 2 and class 3\n",
        "pmml_df_class23=pd.DataFrame(data=pmml_df_class23[pmml_df_class23['Class'].isin([2,3])])\n",
        "pmml_df_class23.head()"
      ],
      "execution_count": null,
      "outputs": [
        {
          "output_type": "execute_result",
          "data": {
            "text/html": [
              "<div>\n",
              "<style scoped>\n",
              "    .dataframe tbody tr th:only-of-type {\n",
              "        vertical-align: middle;\n",
              "    }\n",
              "\n",
              "    .dataframe tbody tr th {\n",
              "        vertical-align: top;\n",
              "    }\n",
              "\n",
              "    .dataframe thead th {\n",
              "        text-align: right;\n",
              "    }\n",
              "</style>\n",
              "<table border=\"1\" class=\"dataframe\">\n",
              "  <thead>\n",
              "    <tr style=\"text-align: right;\">\n",
              "      <th></th>\n",
              "      <th>A</th>\n",
              "      <th>B</th>\n",
              "      <th>C</th>\n",
              "      <th>D</th>\n",
              "      <th>E</th>\n",
              "      <th>F</th>\n",
              "      <th>G</th>\n",
              "      <th>H</th>\n",
              "      <th>I</th>\n",
              "      <th>J</th>\n",
              "      <th>K</th>\n",
              "      <th>L</th>\n",
              "      <th>M</th>\n",
              "      <th>N</th>\n",
              "      <th>O</th>\n",
              "      <th>Class</th>\n",
              "    </tr>\n",
              "  </thead>\n",
              "  <tbody>\n",
              "    <tr>\n",
              "      <th>0</th>\n",
              "      <td>231.420023</td>\n",
              "      <td>-12.210984</td>\n",
              "      <td>217.624839</td>\n",
              "      <td>-15.611916</td>\n",
              "      <td>140.047185</td>\n",
              "      <td>76.904999</td>\n",
              "      <td>131.591871</td>\n",
              "      <td>198.160805</td>\n",
              "      <td>82.873279</td>\n",
              "      <td>127.350084</td>\n",
              "      <td>224.592926</td>\n",
              "      <td>-5.992983</td>\n",
              "      <td>-14.689648</td>\n",
              "      <td>143.072058</td>\n",
              "      <td>153.439659</td>\n",
              "      <td>2</td>\n",
              "    </tr>\n",
              "    <tr>\n",
              "      <th>1</th>\n",
              "      <td>-38.019270</td>\n",
              "      <td>-14.195695</td>\n",
              "      <td>9.583547</td>\n",
              "      <td>22.293822</td>\n",
              "      <td>-25.578283</td>\n",
              "      <td>-18.373955</td>\n",
              "      <td>-0.094457</td>\n",
              "      <td>-33.711852</td>\n",
              "      <td>-8.356041</td>\n",
              "      <td>23.792402</td>\n",
              "      <td>4.199023</td>\n",
              "      <td>2.809159</td>\n",
              "      <td>-59.330681</td>\n",
              "      <td>-11.685950</td>\n",
              "      <td>1.317104</td>\n",
              "      <td>3</td>\n",
              "    </tr>\n",
              "    <tr>\n",
              "      <th>2</th>\n",
              "      <td>-39.197085</td>\n",
              "      <td>-20.418850</td>\n",
              "      <td>21.023083</td>\n",
              "      <td>19.790280</td>\n",
              "      <td>-25.902587</td>\n",
              "      <td>-19.189004</td>\n",
              "      <td>-2.953836</td>\n",
              "      <td>-25.299219</td>\n",
              "      <td>-6.612401</td>\n",
              "      <td>26.285392</td>\n",
              "      <td>5.911292</td>\n",
              "      <td>6.191587</td>\n",
              "      <td>-56.924996</td>\n",
              "      <td>-4.675187</td>\n",
              "      <td>-1.027830</td>\n",
              "      <td>2</td>\n",
              "    </tr>\n",
              "    <tr>\n",
              "      <th>3</th>\n",
              "      <td>221.630408</td>\n",
              "      <td>-5.785352</td>\n",
              "      <td>216.725322</td>\n",
              "      <td>-9.900781</td>\n",
              "      <td>126.795177</td>\n",
              "      <td>85.122288</td>\n",
              "      <td>108.857593</td>\n",
              "      <td>197.640135</td>\n",
              "      <td>82.560019</td>\n",
              "      <td>157.105143</td>\n",
              "      <td>212.989231</td>\n",
              "      <td>-3.621070</td>\n",
              "      <td>-15.469156</td>\n",
              "      <td>135.265859</td>\n",
              "      <td>149.212489</td>\n",
              "      <td>2</td>\n",
              "    </tr>\n",
              "    <tr>\n",
              "      <th>4</th>\n",
              "      <td>228.558412</td>\n",
              "      <td>-12.447710</td>\n",
              "      <td>204.637218</td>\n",
              "      <td>-13.277704</td>\n",
              "      <td>138.930529</td>\n",
              "      <td>91.101870</td>\n",
              "      <td>115.598954</td>\n",
              "      <td>209.300011</td>\n",
              "      <td>89.961688</td>\n",
              "      <td>130.299732</td>\n",
              "      <td>201.795100</td>\n",
              "      <td>-1.573922</td>\n",
              "      <td>-15.128603</td>\n",
              "      <td>148.368622</td>\n",
              "      <td>147.492663</td>\n",
              "      <td>3</td>\n",
              "    </tr>\n",
              "  </tbody>\n",
              "</table>\n",
              "</div>"
            ],
            "text/plain": [
              "            A          B           C  ...           N           O  Class\n",
              "0  231.420023 -12.210984  217.624839  ...  143.072058  153.439659      2\n",
              "1  -38.019270 -14.195695    9.583547  ...  -11.685950    1.317104      3\n",
              "2  -39.197085 -20.418850   21.023083  ...   -4.675187   -1.027830      2\n",
              "3  221.630408  -5.785352  216.725322  ...  135.265859  149.212489      2\n",
              "4  228.558412 -12.447710  204.637218  ...  148.368622  147.492663      3\n",
              "\n",
              "[5 rows x 16 columns]"
            ]
          },
          "metadata": {
            "tags": []
          },
          "execution_count": 117
        }
      ]
    },
    {
      "cell_type": "code",
      "metadata": {
        "colab": {
          "base_uri": "https://localhost:8080/",
          "height": 224
        },
        "id": "BZJi20YwPVJh",
        "outputId": "55e658b7-dd7b-4b94-cd09-049c569c6010"
      },
      "source": [
        "P_class23 = pd.DataFrame(data=pmml_df_class23.drop('Class', axis=1))\n",
        "q_class23 = pd.DataFrame(data=pmml_df_class23['Class'],columns=['Class'])\n",
        "P_class23_train, P_class23_test, q_class23_train, q_class23_test = train_test_split(P_class23,q_class23,test_size=0.2)\n",
        "train_data23 = pd.concat([P_class23_train,q_class23_train],axis=1)\n",
        "train_data23.head()"
      ],
      "execution_count": null,
      "outputs": [
        {
          "output_type": "execute_result",
          "data": {
            "text/html": [
              "<div>\n",
              "<style scoped>\n",
              "    .dataframe tbody tr th:only-of-type {\n",
              "        vertical-align: middle;\n",
              "    }\n",
              "\n",
              "    .dataframe tbody tr th {\n",
              "        vertical-align: top;\n",
              "    }\n",
              "\n",
              "    .dataframe thead th {\n",
              "        text-align: right;\n",
              "    }\n",
              "</style>\n",
              "<table border=\"1\" class=\"dataframe\">\n",
              "  <thead>\n",
              "    <tr style=\"text-align: right;\">\n",
              "      <th></th>\n",
              "      <th>A</th>\n",
              "      <th>B</th>\n",
              "      <th>C</th>\n",
              "      <th>D</th>\n",
              "      <th>E</th>\n",
              "      <th>F</th>\n",
              "      <th>G</th>\n",
              "      <th>H</th>\n",
              "      <th>I</th>\n",
              "      <th>J</th>\n",
              "      <th>K</th>\n",
              "      <th>L</th>\n",
              "      <th>M</th>\n",
              "      <th>N</th>\n",
              "      <th>O</th>\n",
              "      <th>Class</th>\n",
              "    </tr>\n",
              "  </thead>\n",
              "  <tbody>\n",
              "    <tr>\n",
              "      <th>81617</th>\n",
              "      <td>-25.224550</td>\n",
              "      <td>-6.547884</td>\n",
              "      <td>7.472777</td>\n",
              "      <td>18.269460</td>\n",
              "      <td>-19.696754</td>\n",
              "      <td>-25.542844</td>\n",
              "      <td>4.911291</td>\n",
              "      <td>-27.035871</td>\n",
              "      <td>-8.190248</td>\n",
              "      <td>33.232783</td>\n",
              "      <td>1.973622</td>\n",
              "      <td>5.861936</td>\n",
              "      <td>-55.869548</td>\n",
              "      <td>-11.426786</td>\n",
              "      <td>1.874378</td>\n",
              "      <td>2</td>\n",
              "    </tr>\n",
              "    <tr>\n",
              "      <th>1160214</th>\n",
              "      <td>-58.540670</td>\n",
              "      <td>-43.411420</td>\n",
              "      <td>-41.180938</td>\n",
              "      <td>-103.508191</td>\n",
              "      <td>-12.673971</td>\n",
              "      <td>-111.638547</td>\n",
              "      <td>-50.357752</td>\n",
              "      <td>-8.578570</td>\n",
              "      <td>50.786743</td>\n",
              "      <td>-91.991154</td>\n",
              "      <td>43.251293</td>\n",
              "      <td>-49.788285</td>\n",
              "      <td>-51.990184</td>\n",
              "      <td>36.006547</td>\n",
              "      <td>60.870366</td>\n",
              "      <td>2</td>\n",
              "    </tr>\n",
              "    <tr>\n",
              "      <th>29431</th>\n",
              "      <td>-65.128285</td>\n",
              "      <td>-51.037292</td>\n",
              "      <td>-34.991781</td>\n",
              "      <td>-111.275781</td>\n",
              "      <td>-17.320240</td>\n",
              "      <td>-118.622786</td>\n",
              "      <td>-56.653306</td>\n",
              "      <td>-12.116478</td>\n",
              "      <td>54.485026</td>\n",
              "      <td>-100.215715</td>\n",
              "      <td>51.346535</td>\n",
              "      <td>-45.307654</td>\n",
              "      <td>-53.337289</td>\n",
              "      <td>37.243631</td>\n",
              "      <td>58.677749</td>\n",
              "      <td>3</td>\n",
              "    </tr>\n",
              "    <tr>\n",
              "      <th>930900</th>\n",
              "      <td>-30.556244</td>\n",
              "      <td>-11.204953</td>\n",
              "      <td>6.398578</td>\n",
              "      <td>15.831198</td>\n",
              "      <td>-23.720791</td>\n",
              "      <td>-26.210826</td>\n",
              "      <td>-4.516622</td>\n",
              "      <td>-22.220151</td>\n",
              "      <td>-7.740129</td>\n",
              "      <td>24.138976</td>\n",
              "      <td>1.203298</td>\n",
              "      <td>8.110260</td>\n",
              "      <td>-51.905312</td>\n",
              "      <td>-5.422668</td>\n",
              "      <td>-1.506163</td>\n",
              "      <td>3</td>\n",
              "    </tr>\n",
              "    <tr>\n",
              "      <th>736001</th>\n",
              "      <td>-36.658258</td>\n",
              "      <td>-13.567695</td>\n",
              "      <td>12.632246</td>\n",
              "      <td>19.155808</td>\n",
              "      <td>-25.053527</td>\n",
              "      <td>-23.099226</td>\n",
              "      <td>0.772185</td>\n",
              "      <td>-26.786045</td>\n",
              "      <td>-4.325515</td>\n",
              "      <td>26.484200</td>\n",
              "      <td>0.626332</td>\n",
              "      <td>4.482055</td>\n",
              "      <td>-55.347128</td>\n",
              "      <td>-6.599196</td>\n",
              "      <td>0.879497</td>\n",
              "      <td>2</td>\n",
              "    </tr>\n",
              "  </tbody>\n",
              "</table>\n",
              "</div>"
            ],
            "text/plain": [
              "                 A          B          C  ...          N          O  Class\n",
              "81617   -25.224550  -6.547884   7.472777  ... -11.426786   1.874378      2\n",
              "1160214 -58.540670 -43.411420 -41.180938  ...  36.006547  60.870366      2\n",
              "29431   -65.128285 -51.037292 -34.991781  ...  37.243631  58.677749      3\n",
              "930900  -30.556244 -11.204953   6.398578  ...  -5.422668  -1.506163      3\n",
              "736001  -36.658258 -13.567695  12.632246  ...  -6.599196   0.879497      2\n",
              "\n",
              "[5 rows x 16 columns]"
            ]
          },
          "metadata": {
            "tags": []
          },
          "execution_count": 130
        }
      ]
    },
    {
      "cell_type": "code",
      "metadata": {
        "colab": {
          "base_uri": "https://localhost:8080/"
        },
        "id": "kVFP5tkNPFNe",
        "outputId": "dbc1f320-8ff9-4f40-e6ec-6f518a9ad142"
      },
      "source": [
        "#DecisionTreeClassifier\n",
        "pipeline23_DTC = PMMLPipeline([('scaler',StandardScaler()),('pca',PCA(n_components=1)),('classifier',DecisionTreeClassifier(max_depth=2))])\n",
        "pipeline23_DTC.fit(P_class23_train,q_class23_train)\n",
        "print(pipeline23_DTC.score(P_class23_test,q_class23_test))"
      ],
      "execution_count": null,
      "outputs": [
        {
          "output_type": "stream",
          "text": [
            "0.5985590144098559\n"
          ],
          "name": "stdout"
        }
      ]
    },
    {
      "cell_type": "markdown",
      "metadata": {
        "id": "4ivFfnUo2JL5"
      },
      "source": [
        "The accuracy for class 2 and class 3 is 59.8%"
      ]
    },
    {
      "cell_type": "code",
      "metadata": {
        "colab": {
          "base_uri": "https://localhost:8080/",
          "height": 224
        },
        "id": "KgJs9VwHeMpz",
        "outputId": "31afb1e6-a30f-4464-d5fc-bf8db206c2d0"
      },
      "source": [
        "#For class 2 vs not 2\n",
        "pmml_df_class2=pmml_df.copy(deep=True)\n",
        "pmml_df_class2.head()"
      ],
      "execution_count": null,
      "outputs": [
        {
          "output_type": "execute_result",
          "data": {
            "text/html": [
              "<div>\n",
              "<style scoped>\n",
              "    .dataframe tbody tr th:only-of-type {\n",
              "        vertical-align: middle;\n",
              "    }\n",
              "\n",
              "    .dataframe tbody tr th {\n",
              "        vertical-align: top;\n",
              "    }\n",
              "\n",
              "    .dataframe thead th {\n",
              "        text-align: right;\n",
              "    }\n",
              "</style>\n",
              "<table border=\"1\" class=\"dataframe\">\n",
              "  <thead>\n",
              "    <tr style=\"text-align: right;\">\n",
              "      <th></th>\n",
              "      <th>A</th>\n",
              "      <th>B</th>\n",
              "      <th>C</th>\n",
              "      <th>D</th>\n",
              "      <th>E</th>\n",
              "      <th>F</th>\n",
              "      <th>G</th>\n",
              "      <th>H</th>\n",
              "      <th>I</th>\n",
              "      <th>J</th>\n",
              "      <th>K</th>\n",
              "      <th>L</th>\n",
              "      <th>M</th>\n",
              "      <th>N</th>\n",
              "      <th>O</th>\n",
              "      <th>Class</th>\n",
              "    </tr>\n",
              "  </thead>\n",
              "  <tbody>\n",
              "    <tr>\n",
              "      <th>0</th>\n",
              "      <td>231.420023</td>\n",
              "      <td>-12.210984</td>\n",
              "      <td>217.624839</td>\n",
              "      <td>-15.611916</td>\n",
              "      <td>140.047185</td>\n",
              "      <td>76.904999</td>\n",
              "      <td>131.591871</td>\n",
              "      <td>198.160805</td>\n",
              "      <td>82.873279</td>\n",
              "      <td>127.350084</td>\n",
              "      <td>224.592926</td>\n",
              "      <td>-5.992983</td>\n",
              "      <td>-14.689648</td>\n",
              "      <td>143.072058</td>\n",
              "      <td>153.439659</td>\n",
              "      <td>2</td>\n",
              "    </tr>\n",
              "    <tr>\n",
              "      <th>1</th>\n",
              "      <td>-38.019270</td>\n",
              "      <td>-14.195695</td>\n",
              "      <td>9.583547</td>\n",
              "      <td>22.293822</td>\n",
              "      <td>-25.578283</td>\n",
              "      <td>-18.373955</td>\n",
              "      <td>-0.094457</td>\n",
              "      <td>-33.711852</td>\n",
              "      <td>-8.356041</td>\n",
              "      <td>23.792402</td>\n",
              "      <td>4.199023</td>\n",
              "      <td>2.809159</td>\n",
              "      <td>-59.330681</td>\n",
              "      <td>-11.685950</td>\n",
              "      <td>1.317104</td>\n",
              "      <td>3</td>\n",
              "    </tr>\n",
              "    <tr>\n",
              "      <th>2</th>\n",
              "      <td>-39.197085</td>\n",
              "      <td>-20.418850</td>\n",
              "      <td>21.023083</td>\n",
              "      <td>19.790280</td>\n",
              "      <td>-25.902587</td>\n",
              "      <td>-19.189004</td>\n",
              "      <td>-2.953836</td>\n",
              "      <td>-25.299219</td>\n",
              "      <td>-6.612401</td>\n",
              "      <td>26.285392</td>\n",
              "      <td>5.911292</td>\n",
              "      <td>6.191587</td>\n",
              "      <td>-56.924996</td>\n",
              "      <td>-4.675187</td>\n",
              "      <td>-1.027830</td>\n",
              "      <td>2</td>\n",
              "    </tr>\n",
              "    <tr>\n",
              "      <th>3</th>\n",
              "      <td>221.630408</td>\n",
              "      <td>-5.785352</td>\n",
              "      <td>216.725322</td>\n",
              "      <td>-9.900781</td>\n",
              "      <td>126.795177</td>\n",
              "      <td>85.122288</td>\n",
              "      <td>108.857593</td>\n",
              "      <td>197.640135</td>\n",
              "      <td>82.560019</td>\n",
              "      <td>157.105143</td>\n",
              "      <td>212.989231</td>\n",
              "      <td>-3.621070</td>\n",
              "      <td>-15.469156</td>\n",
              "      <td>135.265859</td>\n",
              "      <td>149.212489</td>\n",
              "      <td>2</td>\n",
              "    </tr>\n",
              "    <tr>\n",
              "      <th>4</th>\n",
              "      <td>228.558412</td>\n",
              "      <td>-12.447710</td>\n",
              "      <td>204.637218</td>\n",
              "      <td>-13.277704</td>\n",
              "      <td>138.930529</td>\n",
              "      <td>91.101870</td>\n",
              "      <td>115.598954</td>\n",
              "      <td>209.300011</td>\n",
              "      <td>89.961688</td>\n",
              "      <td>130.299732</td>\n",
              "      <td>201.795100</td>\n",
              "      <td>-1.573922</td>\n",
              "      <td>-15.128603</td>\n",
              "      <td>148.368622</td>\n",
              "      <td>147.492663</td>\n",
              "      <td>3</td>\n",
              "    </tr>\n",
              "  </tbody>\n",
              "</table>\n",
              "</div>"
            ],
            "text/plain": [
              "            A          B           C  ...           N           O  Class\n",
              "0  231.420023 -12.210984  217.624839  ...  143.072058  153.439659      2\n",
              "1  -38.019270 -14.195695    9.583547  ...  -11.685950    1.317104      3\n",
              "2  -39.197085 -20.418850   21.023083  ...   -4.675187   -1.027830      2\n",
              "3  221.630408  -5.785352  216.725322  ...  135.265859  149.212489      2\n",
              "4  228.558412 -12.447710  204.637218  ...  148.368622  147.492663      3\n",
              "\n",
              "[5 rows x 16 columns]"
            ]
          },
          "metadata": {
            "tags": []
          },
          "execution_count": 41
        }
      ]
    },
    {
      "cell_type": "code",
      "metadata": {
        "colab": {
          "base_uri": "https://localhost:8080/",
          "height": 224
        },
        "id": "JMEkJoBSeQsm",
        "outputId": "c29ada7a-4aae-485b-9e83-9d0c90796afd"
      },
      "source": [
        "#Making class 1 and class 3 as 0\n",
        "pmml_df_class2.loc[(pmml_df_class2['Class']== 1)|(pmml_df_class2['Class']==3),'Class'] = 0\n",
        "pmml_df_class2.head()"
      ],
      "execution_count": null,
      "outputs": [
        {
          "output_type": "execute_result",
          "data": {
            "text/html": [
              "<div>\n",
              "<style scoped>\n",
              "    .dataframe tbody tr th:only-of-type {\n",
              "        vertical-align: middle;\n",
              "    }\n",
              "\n",
              "    .dataframe tbody tr th {\n",
              "        vertical-align: top;\n",
              "    }\n",
              "\n",
              "    .dataframe thead th {\n",
              "        text-align: right;\n",
              "    }\n",
              "</style>\n",
              "<table border=\"1\" class=\"dataframe\">\n",
              "  <thead>\n",
              "    <tr style=\"text-align: right;\">\n",
              "      <th></th>\n",
              "      <th>A</th>\n",
              "      <th>B</th>\n",
              "      <th>C</th>\n",
              "      <th>D</th>\n",
              "      <th>E</th>\n",
              "      <th>F</th>\n",
              "      <th>G</th>\n",
              "      <th>H</th>\n",
              "      <th>I</th>\n",
              "      <th>J</th>\n",
              "      <th>K</th>\n",
              "      <th>L</th>\n",
              "      <th>M</th>\n",
              "      <th>N</th>\n",
              "      <th>O</th>\n",
              "      <th>Class</th>\n",
              "    </tr>\n",
              "  </thead>\n",
              "  <tbody>\n",
              "    <tr>\n",
              "      <th>0</th>\n",
              "      <td>231.420023</td>\n",
              "      <td>-12.210984</td>\n",
              "      <td>217.624839</td>\n",
              "      <td>-15.611916</td>\n",
              "      <td>140.047185</td>\n",
              "      <td>76.904999</td>\n",
              "      <td>131.591871</td>\n",
              "      <td>198.160805</td>\n",
              "      <td>82.873279</td>\n",
              "      <td>127.350084</td>\n",
              "      <td>224.592926</td>\n",
              "      <td>-5.992983</td>\n",
              "      <td>-14.689648</td>\n",
              "      <td>143.072058</td>\n",
              "      <td>153.439659</td>\n",
              "      <td>2</td>\n",
              "    </tr>\n",
              "    <tr>\n",
              "      <th>1</th>\n",
              "      <td>-38.019270</td>\n",
              "      <td>-14.195695</td>\n",
              "      <td>9.583547</td>\n",
              "      <td>22.293822</td>\n",
              "      <td>-25.578283</td>\n",
              "      <td>-18.373955</td>\n",
              "      <td>-0.094457</td>\n",
              "      <td>-33.711852</td>\n",
              "      <td>-8.356041</td>\n",
              "      <td>23.792402</td>\n",
              "      <td>4.199023</td>\n",
              "      <td>2.809159</td>\n",
              "      <td>-59.330681</td>\n",
              "      <td>-11.685950</td>\n",
              "      <td>1.317104</td>\n",
              "      <td>0</td>\n",
              "    </tr>\n",
              "    <tr>\n",
              "      <th>2</th>\n",
              "      <td>-39.197085</td>\n",
              "      <td>-20.418850</td>\n",
              "      <td>21.023083</td>\n",
              "      <td>19.790280</td>\n",
              "      <td>-25.902587</td>\n",
              "      <td>-19.189004</td>\n",
              "      <td>-2.953836</td>\n",
              "      <td>-25.299219</td>\n",
              "      <td>-6.612401</td>\n",
              "      <td>26.285392</td>\n",
              "      <td>5.911292</td>\n",
              "      <td>6.191587</td>\n",
              "      <td>-56.924996</td>\n",
              "      <td>-4.675187</td>\n",
              "      <td>-1.027830</td>\n",
              "      <td>2</td>\n",
              "    </tr>\n",
              "    <tr>\n",
              "      <th>3</th>\n",
              "      <td>221.630408</td>\n",
              "      <td>-5.785352</td>\n",
              "      <td>216.725322</td>\n",
              "      <td>-9.900781</td>\n",
              "      <td>126.795177</td>\n",
              "      <td>85.122288</td>\n",
              "      <td>108.857593</td>\n",
              "      <td>197.640135</td>\n",
              "      <td>82.560019</td>\n",
              "      <td>157.105143</td>\n",
              "      <td>212.989231</td>\n",
              "      <td>-3.621070</td>\n",
              "      <td>-15.469156</td>\n",
              "      <td>135.265859</td>\n",
              "      <td>149.212489</td>\n",
              "      <td>2</td>\n",
              "    </tr>\n",
              "    <tr>\n",
              "      <th>4</th>\n",
              "      <td>228.558412</td>\n",
              "      <td>-12.447710</td>\n",
              "      <td>204.637218</td>\n",
              "      <td>-13.277704</td>\n",
              "      <td>138.930529</td>\n",
              "      <td>91.101870</td>\n",
              "      <td>115.598954</td>\n",
              "      <td>209.300011</td>\n",
              "      <td>89.961688</td>\n",
              "      <td>130.299732</td>\n",
              "      <td>201.795100</td>\n",
              "      <td>-1.573922</td>\n",
              "      <td>-15.128603</td>\n",
              "      <td>148.368622</td>\n",
              "      <td>147.492663</td>\n",
              "      <td>0</td>\n",
              "    </tr>\n",
              "  </tbody>\n",
              "</table>\n",
              "</div>"
            ],
            "text/plain": [
              "            A          B           C  ...           N           O  Class\n",
              "0  231.420023 -12.210984  217.624839  ...  143.072058  153.439659      2\n",
              "1  -38.019270 -14.195695    9.583547  ...  -11.685950    1.317104      0\n",
              "2  -39.197085 -20.418850   21.023083  ...   -4.675187   -1.027830      2\n",
              "3  221.630408  -5.785352  216.725322  ...  135.265859  149.212489      2\n",
              "4  228.558412 -12.447710  204.637218  ...  148.368622  147.492663      0\n",
              "\n",
              "[5 rows x 16 columns]"
            ]
          },
          "metadata": {
            "tags": []
          },
          "execution_count": 42
        }
      ]
    },
    {
      "cell_type": "code",
      "metadata": {
        "colab": {
          "base_uri": "https://localhost:8080/"
        },
        "id": "3T85XSk5eWto",
        "outputId": "118bcace-d45a-4252-e2a7-40120f818e58"
      },
      "source": [
        "pmml_df_class2['Class'].unique()"
      ],
      "execution_count": null,
      "outputs": [
        {
          "output_type": "execute_result",
          "data": {
            "text/plain": [
              "array([2, 0])"
            ]
          },
          "metadata": {
            "tags": []
          },
          "execution_count": 43
        }
      ]
    },
    {
      "cell_type": "code",
      "metadata": {
        "colab": {
          "base_uri": "https://localhost:8080/",
          "height": 224
        },
        "id": "v-OJIOOCfzJ9",
        "outputId": "740d036e-9257-4a48-edec-e2dbe6902e1c"
      },
      "source": [
        "P_class2 = pd.DataFrame(data=pmml_df_class2.drop('Class', axis=1))\n",
        "q_class2 = pd.DataFrame(data=pmml_df_class2['Class'],columns=['Class'])\n",
        "P_class2_train, P_class2_test, q_class2_train, q_class2_test = train_test_split(P_class2,q_class2,test_size=0.2)\n",
        "train_data = pd.concat([P_class2_train,q_class2_train],axis=1)\n",
        "train_data.head()"
      ],
      "execution_count": null,
      "outputs": [
        {
          "output_type": "execute_result",
          "data": {
            "text/html": [
              "<div>\n",
              "<style scoped>\n",
              "    .dataframe tbody tr th:only-of-type {\n",
              "        vertical-align: middle;\n",
              "    }\n",
              "\n",
              "    .dataframe tbody tr th {\n",
              "        vertical-align: top;\n",
              "    }\n",
              "\n",
              "    .dataframe thead th {\n",
              "        text-align: right;\n",
              "    }\n",
              "</style>\n",
              "<table border=\"1\" class=\"dataframe\">\n",
              "  <thead>\n",
              "    <tr style=\"text-align: right;\">\n",
              "      <th></th>\n",
              "      <th>A</th>\n",
              "      <th>B</th>\n",
              "      <th>C</th>\n",
              "      <th>D</th>\n",
              "      <th>E</th>\n",
              "      <th>F</th>\n",
              "      <th>G</th>\n",
              "      <th>H</th>\n",
              "      <th>I</th>\n",
              "      <th>J</th>\n",
              "      <th>K</th>\n",
              "      <th>L</th>\n",
              "      <th>M</th>\n",
              "      <th>N</th>\n",
              "      <th>O</th>\n",
              "      <th>Class</th>\n",
              "    </tr>\n",
              "  </thead>\n",
              "  <tbody>\n",
              "    <tr>\n",
              "      <th>389762</th>\n",
              "      <td>-21.458930</td>\n",
              "      <td>-13.928468</td>\n",
              "      <td>18.673353</td>\n",
              "      <td>15.807145</td>\n",
              "      <td>-30.521109</td>\n",
              "      <td>-21.101329</td>\n",
              "      <td>0.376187</td>\n",
              "      <td>-24.839627</td>\n",
              "      <td>-9.509530</td>\n",
              "      <td>22.762199</td>\n",
              "      <td>3.223178</td>\n",
              "      <td>-2.329839</td>\n",
              "      <td>-55.811751</td>\n",
              "      <td>-3.198574</td>\n",
              "      <td>1.080801</td>\n",
              "      <td>0</td>\n",
              "    </tr>\n",
              "    <tr>\n",
              "      <th>965199</th>\n",
              "      <td>-29.336786</td>\n",
              "      <td>-17.339083</td>\n",
              "      <td>8.475791</td>\n",
              "      <td>15.713220</td>\n",
              "      <td>-27.983630</td>\n",
              "      <td>-17.351626</td>\n",
              "      <td>-4.953228</td>\n",
              "      <td>-28.210600</td>\n",
              "      <td>-6.220851</td>\n",
              "      <td>28.422696</td>\n",
              "      <td>1.237982</td>\n",
              "      <td>2.301158</td>\n",
              "      <td>-53.646072</td>\n",
              "      <td>-6.165049</td>\n",
              "      <td>-0.975691</td>\n",
              "      <td>2</td>\n",
              "    </tr>\n",
              "    <tr>\n",
              "      <th>189740</th>\n",
              "      <td>-41.862384</td>\n",
              "      <td>-20.422528</td>\n",
              "      <td>11.051082</td>\n",
              "      <td>16.502030</td>\n",
              "      <td>-24.192677</td>\n",
              "      <td>-30.560059</td>\n",
              "      <td>1.200254</td>\n",
              "      <td>-20.196987</td>\n",
              "      <td>-8.915086</td>\n",
              "      <td>21.621147</td>\n",
              "      <td>1.911723</td>\n",
              "      <td>-3.663979</td>\n",
              "      <td>-57.051119</td>\n",
              "      <td>-8.726348</td>\n",
              "      <td>-1.899137</td>\n",
              "      <td>2</td>\n",
              "    </tr>\n",
              "    <tr>\n",
              "      <th>1139054</th>\n",
              "      <td>-30.176969</td>\n",
              "      <td>-12.648999</td>\n",
              "      <td>12.694092</td>\n",
              "      <td>20.265177</td>\n",
              "      <td>-18.707140</td>\n",
              "      <td>-24.045240</td>\n",
              "      <td>-5.983972</td>\n",
              "      <td>-23.253739</td>\n",
              "      <td>-7.848450</td>\n",
              "      <td>25.689759</td>\n",
              "      <td>-3.548966</td>\n",
              "      <td>6.369662</td>\n",
              "      <td>-58.238929</td>\n",
              "      <td>-8.609316</td>\n",
              "      <td>-4.156826</td>\n",
              "      <td>2</td>\n",
              "    </tr>\n",
              "    <tr>\n",
              "      <th>752992</th>\n",
              "      <td>-61.743326</td>\n",
              "      <td>-37.588624</td>\n",
              "      <td>-43.002446</td>\n",
              "      <td>-115.623661</td>\n",
              "      <td>-13.910972</td>\n",
              "      <td>-115.495916</td>\n",
              "      <td>-49.932937</td>\n",
              "      <td>-13.242718</td>\n",
              "      <td>49.310765</td>\n",
              "      <td>-97.417067</td>\n",
              "      <td>45.054706</td>\n",
              "      <td>-41.275449</td>\n",
              "      <td>-46.516615</td>\n",
              "      <td>29.536616</td>\n",
              "      <td>54.719671</td>\n",
              "      <td>0</td>\n",
              "    </tr>\n",
              "  </tbody>\n",
              "</table>\n",
              "</div>"
            ],
            "text/plain": [
              "                 A          B          C  ...          N          O  Class\n",
              "389762  -21.458930 -13.928468  18.673353  ...  -3.198574   1.080801      0\n",
              "965199  -29.336786 -17.339083   8.475791  ...  -6.165049  -0.975691      2\n",
              "189740  -41.862384 -20.422528  11.051082  ...  -8.726348  -1.899137      2\n",
              "1139054 -30.176969 -12.648999  12.694092  ...  -8.609316  -4.156826      2\n",
              "752992  -61.743326 -37.588624 -43.002446  ...  29.536616  54.719671      0\n",
              "\n",
              "[5 rows x 16 columns]"
            ]
          },
          "metadata": {
            "tags": []
          },
          "execution_count": 44
        }
      ]
    },
    {
      "cell_type": "code",
      "metadata": {
        "colab": {
          "base_uri": "https://localhost:8080/"
        },
        "id": "GLqhuzOJgCh9",
        "outputId": "d38afcf9-d5fe-4338-f6ea-54fb634507b1"
      },
      "source": [
        "#DecisionTreeClassifier\n",
        "pipeline2_DTC = PMMLPipeline([('scaler',StandardScaler()),('pca',PCA(n_components=1)),('classifier',DecisionTreeClassifier(max_depth=2))])\n",
        "pipeline2_DTC.fit(P_class2_train,q_class2_train)\n",
        "print(pipeline2_DTC.score(P_class2_test,q_class2_test))"
      ],
      "execution_count": null,
      "outputs": [
        {
          "output_type": "stream",
          "text": [
            "0.5002333333333333\n"
          ],
          "name": "stdout"
        }
      ]
    },
    {
      "cell_type": "markdown",
      "metadata": {
        "id": "FFaBuqN63khn"
      },
      "source": [
        "Accuracy is 50% for the class 2 vs class not 2"
      ]
    },
    {
      "cell_type": "code",
      "metadata": {
        "colab": {
          "base_uri": "https://localhost:8080/",
          "height": 224
        },
        "id": "NIxhBmzggM_Y",
        "outputId": "797b17b2-ecfc-4897-85f4-1d8dd672ca10"
      },
      "source": [
        "#Considering class which is not 2\n",
        "pmml_df_class_not2=pd.DataFrame(data=pmml_df_class2[pmml_df_class2[\"Class\"]==0])\n",
        "pmml_df_class_not2.head()"
      ],
      "execution_count": null,
      "outputs": [
        {
          "output_type": "execute_result",
          "data": {
            "text/html": [
              "<div>\n",
              "<style scoped>\n",
              "    .dataframe tbody tr th:only-of-type {\n",
              "        vertical-align: middle;\n",
              "    }\n",
              "\n",
              "    .dataframe tbody tr th {\n",
              "        vertical-align: top;\n",
              "    }\n",
              "\n",
              "    .dataframe thead th {\n",
              "        text-align: right;\n",
              "    }\n",
              "</style>\n",
              "<table border=\"1\" class=\"dataframe\">\n",
              "  <thead>\n",
              "    <tr style=\"text-align: right;\">\n",
              "      <th></th>\n",
              "      <th>A</th>\n",
              "      <th>B</th>\n",
              "      <th>C</th>\n",
              "      <th>D</th>\n",
              "      <th>E</th>\n",
              "      <th>F</th>\n",
              "      <th>G</th>\n",
              "      <th>H</th>\n",
              "      <th>I</th>\n",
              "      <th>J</th>\n",
              "      <th>K</th>\n",
              "      <th>L</th>\n",
              "      <th>M</th>\n",
              "      <th>N</th>\n",
              "      <th>O</th>\n",
              "      <th>Class</th>\n",
              "    </tr>\n",
              "  </thead>\n",
              "  <tbody>\n",
              "    <tr>\n",
              "      <th>1</th>\n",
              "      <td>-38.019270</td>\n",
              "      <td>-14.195695</td>\n",
              "      <td>9.583547</td>\n",
              "      <td>22.293822</td>\n",
              "      <td>-25.578283</td>\n",
              "      <td>-18.373955</td>\n",
              "      <td>-0.094457</td>\n",
              "      <td>-33.711852</td>\n",
              "      <td>-8.356041</td>\n",
              "      <td>23.792402</td>\n",
              "      <td>4.199023</td>\n",
              "      <td>2.809159</td>\n",
              "      <td>-59.330681</td>\n",
              "      <td>-11.685950</td>\n",
              "      <td>1.317104</td>\n",
              "      <td>0</td>\n",
              "    </tr>\n",
              "    <tr>\n",
              "      <th>4</th>\n",
              "      <td>228.558412</td>\n",
              "      <td>-12.447710</td>\n",
              "      <td>204.637218</td>\n",
              "      <td>-13.277704</td>\n",
              "      <td>138.930529</td>\n",
              "      <td>91.101870</td>\n",
              "      <td>115.598954</td>\n",
              "      <td>209.300011</td>\n",
              "      <td>89.961688</td>\n",
              "      <td>130.299732</td>\n",
              "      <td>201.795100</td>\n",
              "      <td>-1.573922</td>\n",
              "      <td>-15.128603</td>\n",
              "      <td>148.368622</td>\n",
              "      <td>147.492663</td>\n",
              "      <td>0</td>\n",
              "    </tr>\n",
              "    <tr>\n",
              "      <th>7</th>\n",
              "      <td>-28.620633</td>\n",
              "      <td>-16.324678</td>\n",
              "      <td>6.614499</td>\n",
              "      <td>19.866385</td>\n",
              "      <td>-23.119998</td>\n",
              "      <td>-22.328572</td>\n",
              "      <td>1.477065</td>\n",
              "      <td>-26.383605</td>\n",
              "      <td>-8.616671</td>\n",
              "      <td>28.874319</td>\n",
              "      <td>1.743714</td>\n",
              "      <td>4.953251</td>\n",
              "      <td>-55.702022</td>\n",
              "      <td>-8.014284</td>\n",
              "      <td>2.449081</td>\n",
              "      <td>0</td>\n",
              "    </tr>\n",
              "    <tr>\n",
              "      <th>8</th>\n",
              "      <td>-41.092898</td>\n",
              "      <td>-11.525839</td>\n",
              "      <td>12.027010</td>\n",
              "      <td>18.670988</td>\n",
              "      <td>-19.612979</td>\n",
              "      <td>-25.918632</td>\n",
              "      <td>5.266337</td>\n",
              "      <td>-25.972718</td>\n",
              "      <td>-13.371210</td>\n",
              "      <td>25.709532</td>\n",
              "      <td>-1.515002</td>\n",
              "      <td>-1.041023</td>\n",
              "      <td>-54.683633</td>\n",
              "      <td>-12.382565</td>\n",
              "      <td>5.424004</td>\n",
              "      <td>0</td>\n",
              "    </tr>\n",
              "    <tr>\n",
              "      <th>11</th>\n",
              "      <td>-23.413125</td>\n",
              "      <td>-11.119531</td>\n",
              "      <td>16.910592</td>\n",
              "      <td>18.915184</td>\n",
              "      <td>-25.170026</td>\n",
              "      <td>-28.504337</td>\n",
              "      <td>-2.371616</td>\n",
              "      <td>-26.557941</td>\n",
              "      <td>-4.756554</td>\n",
              "      <td>20.160979</td>\n",
              "      <td>3.415932</td>\n",
              "      <td>8.147177</td>\n",
              "      <td>-52.641582</td>\n",
              "      <td>-6.348362</td>\n",
              "      <td>0.196517</td>\n",
              "      <td>0</td>\n",
              "    </tr>\n",
              "  </tbody>\n",
              "</table>\n",
              "</div>"
            ],
            "text/plain": [
              "             A          B           C  ...           N           O  Class\n",
              "1   -38.019270 -14.195695    9.583547  ...  -11.685950    1.317104      0\n",
              "4   228.558412 -12.447710  204.637218  ...  148.368622  147.492663      0\n",
              "7   -28.620633 -16.324678    6.614499  ...   -8.014284    2.449081      0\n",
              "8   -41.092898 -11.525839   12.027010  ...  -12.382565    5.424004      0\n",
              "11  -23.413125 -11.119531   16.910592  ...   -6.348362    0.196517      0\n",
              "\n",
              "[5 rows x 16 columns]"
            ]
          },
          "metadata": {
            "tags": []
          },
          "execution_count": 46
        }
      ]
    },
    {
      "cell_type": "code",
      "metadata": {
        "colab": {
          "base_uri": "https://localhost:8080/",
          "height": 224
        },
        "id": "vmLcm5s7gXz2",
        "outputId": "5563c3ce-1be9-461b-a65f-f5c116e72cd7"
      },
      "source": [
        "P_class_not2 = pd.DataFrame(data=pmml_df_class_not2.drop('Class', axis=1))\n",
        "q_class_not2 = pd.DataFrame(data=pmml_df_class_not2['Class'],columns=['Class'])\n",
        "P_class_not2_train, P_class_not2_test, q_class_not2_train, q_class_not2_test = train_test_split(P_class_not2,q_class_not2,test_size=0.2)\n",
        "train_data = pd.concat([P_class_not2_train,q_class_not2_train],axis=1)\n",
        "train_data.head()"
      ],
      "execution_count": null,
      "outputs": [
        {
          "output_type": "execute_result",
          "data": {
            "text/html": [
              "<div>\n",
              "<style scoped>\n",
              "    .dataframe tbody tr th:only-of-type {\n",
              "        vertical-align: middle;\n",
              "    }\n",
              "\n",
              "    .dataframe tbody tr th {\n",
              "        vertical-align: top;\n",
              "    }\n",
              "\n",
              "    .dataframe thead th {\n",
              "        text-align: right;\n",
              "    }\n",
              "</style>\n",
              "<table border=\"1\" class=\"dataframe\">\n",
              "  <thead>\n",
              "    <tr style=\"text-align: right;\">\n",
              "      <th></th>\n",
              "      <th>A</th>\n",
              "      <th>B</th>\n",
              "      <th>C</th>\n",
              "      <th>D</th>\n",
              "      <th>E</th>\n",
              "      <th>F</th>\n",
              "      <th>G</th>\n",
              "      <th>H</th>\n",
              "      <th>I</th>\n",
              "      <th>J</th>\n",
              "      <th>K</th>\n",
              "      <th>L</th>\n",
              "      <th>M</th>\n",
              "      <th>N</th>\n",
              "      <th>O</th>\n",
              "      <th>Class</th>\n",
              "    </tr>\n",
              "  </thead>\n",
              "  <tbody>\n",
              "    <tr>\n",
              "      <th>917867</th>\n",
              "      <td>243.731881</td>\n",
              "      <td>-11.791695</td>\n",
              "      <td>218.015605</td>\n",
              "      <td>-12.797492</td>\n",
              "      <td>134.405109</td>\n",
              "      <td>79.845192</td>\n",
              "      <td>109.650469</td>\n",
              "      <td>198.509438</td>\n",
              "      <td>81.022744</td>\n",
              "      <td>133.906478</td>\n",
              "      <td>215.205372</td>\n",
              "      <td>4.510183</td>\n",
              "      <td>-19.632446</td>\n",
              "      <td>130.739201</td>\n",
              "      <td>150.271579</td>\n",
              "      <td>0</td>\n",
              "    </tr>\n",
              "    <tr>\n",
              "      <th>759593</th>\n",
              "      <td>-28.521637</td>\n",
              "      <td>-11.260527</td>\n",
              "      <td>11.576526</td>\n",
              "      <td>19.915964</td>\n",
              "      <td>-29.233474</td>\n",
              "      <td>-34.576794</td>\n",
              "      <td>-2.600087</td>\n",
              "      <td>-23.701471</td>\n",
              "      <td>-8.493493</td>\n",
              "      <td>28.451303</td>\n",
              "      <td>6.720916</td>\n",
              "      <td>5.825094</td>\n",
              "      <td>-56.248783</td>\n",
              "      <td>-4.144814</td>\n",
              "      <td>6.724005</td>\n",
              "      <td>0</td>\n",
              "    </tr>\n",
              "    <tr>\n",
              "      <th>589860</th>\n",
              "      <td>-30.887197</td>\n",
              "      <td>-13.063882</td>\n",
              "      <td>12.776899</td>\n",
              "      <td>22.100048</td>\n",
              "      <td>-27.986933</td>\n",
              "      <td>-26.696003</td>\n",
              "      <td>0.633287</td>\n",
              "      <td>-30.849091</td>\n",
              "      <td>-7.272868</td>\n",
              "      <td>25.532881</td>\n",
              "      <td>-3.920244</td>\n",
              "      <td>12.457606</td>\n",
              "      <td>-52.805883</td>\n",
              "      <td>-9.135527</td>\n",
              "      <td>0.596201</td>\n",
              "      <td>0</td>\n",
              "    </tr>\n",
              "    <tr>\n",
              "      <th>251929</th>\n",
              "      <td>-61.067763</td>\n",
              "      <td>-55.121973</td>\n",
              "      <td>-38.586391</td>\n",
              "      <td>-122.287227</td>\n",
              "      <td>-16.780508</td>\n",
              "      <td>-129.268062</td>\n",
              "      <td>-53.175375</td>\n",
              "      <td>-4.807386</td>\n",
              "      <td>48.192271</td>\n",
              "      <td>-90.530836</td>\n",
              "      <td>55.566306</td>\n",
              "      <td>-41.040378</td>\n",
              "      <td>-59.514190</td>\n",
              "      <td>40.513788</td>\n",
              "      <td>61.790176</td>\n",
              "      <td>0</td>\n",
              "    </tr>\n",
              "    <tr>\n",
              "      <th>1100621</th>\n",
              "      <td>230.629386</td>\n",
              "      <td>-13.437945</td>\n",
              "      <td>203.011721</td>\n",
              "      <td>-14.391886</td>\n",
              "      <td>128.420820</td>\n",
              "      <td>75.251105</td>\n",
              "      <td>130.007438</td>\n",
              "      <td>192.272238</td>\n",
              "      <td>80.278779</td>\n",
              "      <td>119.434649</td>\n",
              "      <td>198.857689</td>\n",
              "      <td>6.111822</td>\n",
              "      <td>-19.409911</td>\n",
              "      <td>146.155060</td>\n",
              "      <td>139.515590</td>\n",
              "      <td>0</td>\n",
              "    </tr>\n",
              "  </tbody>\n",
              "</table>\n",
              "</div>"
            ],
            "text/plain": [
              "                  A          B           C  ...           N           O  Class\n",
              "917867   243.731881 -11.791695  218.015605  ...  130.739201  150.271579      0\n",
              "759593   -28.521637 -11.260527   11.576526  ...   -4.144814    6.724005      0\n",
              "589860   -30.887197 -13.063882   12.776899  ...   -9.135527    0.596201      0\n",
              "251929   -61.067763 -55.121973  -38.586391  ...   40.513788   61.790176      0\n",
              "1100621  230.629386 -13.437945  203.011721  ...  146.155060  139.515590      0\n",
              "\n",
              "[5 rows x 16 columns]"
            ]
          },
          "metadata": {
            "tags": []
          },
          "execution_count": 47
        }
      ]
    },
    {
      "cell_type": "code",
      "metadata": {
        "colab": {
          "base_uri": "https://localhost:8080/"
        },
        "id": "GrjdWR6Bgtxu",
        "outputId": "c8cf8bf0-9518-4028-fa9f-b0878ac59cb1"
      },
      "source": [
        "#DecisionTreeClassifier\n",
        "pipelinenot2_DTC = PMMLPipeline([('scaler',StandardScaler()),('pca',PCA(n_components=1)),('classifier',DecisionTreeClassifier(max_depth=2))])\n",
        "pipelinenot2_DTC.fit(P_class_not2_train,q_class_not2_train)\n",
        "print(pipelinenot2_DTC.score(P_class_not2_test,q_class_not2_test))"
      ],
      "execution_count": null,
      "outputs": [
        {
          "output_type": "stream",
          "text": [
            "1.0\n"
          ],
          "name": "stdout"
        }
      ]
    },
    {
      "cell_type": "markdown",
      "metadata": {
        "id": "b_MDZbG63OOM"
      },
      "source": [
        "Accuracy is 100% for predicting the not class 2 i.e., predicting class 1 and class 3"
      ]
    },
    {
      "cell_type": "code",
      "metadata": {
        "colab": {
          "base_uri": "https://localhost:8080/",
          "height": 224
        },
        "id": "eWVPN9L3Z-Cm",
        "outputId": "fd7ba96a-d2f9-477e-eeac-8ae6e2d17584"
      },
      "source": [
        "#for class 3\n",
        "pmml_df_class3=pmml_df.copy(deep=True)\n",
        "pmml_df_class3.head()"
      ],
      "execution_count": null,
      "outputs": [
        {
          "output_type": "execute_result",
          "data": {
            "text/html": [
              "<div>\n",
              "<style scoped>\n",
              "    .dataframe tbody tr th:only-of-type {\n",
              "        vertical-align: middle;\n",
              "    }\n",
              "\n",
              "    .dataframe tbody tr th {\n",
              "        vertical-align: top;\n",
              "    }\n",
              "\n",
              "    .dataframe thead th {\n",
              "        text-align: right;\n",
              "    }\n",
              "</style>\n",
              "<table border=\"1\" class=\"dataframe\">\n",
              "  <thead>\n",
              "    <tr style=\"text-align: right;\">\n",
              "      <th></th>\n",
              "      <th>A</th>\n",
              "      <th>B</th>\n",
              "      <th>C</th>\n",
              "      <th>D</th>\n",
              "      <th>E</th>\n",
              "      <th>F</th>\n",
              "      <th>G</th>\n",
              "      <th>H</th>\n",
              "      <th>I</th>\n",
              "      <th>J</th>\n",
              "      <th>K</th>\n",
              "      <th>L</th>\n",
              "      <th>M</th>\n",
              "      <th>N</th>\n",
              "      <th>O</th>\n",
              "      <th>Class</th>\n",
              "    </tr>\n",
              "  </thead>\n",
              "  <tbody>\n",
              "    <tr>\n",
              "      <th>0</th>\n",
              "      <td>231.420023</td>\n",
              "      <td>-12.210984</td>\n",
              "      <td>217.624839</td>\n",
              "      <td>-15.611916</td>\n",
              "      <td>140.047185</td>\n",
              "      <td>76.904999</td>\n",
              "      <td>131.591871</td>\n",
              "      <td>198.160805</td>\n",
              "      <td>82.873279</td>\n",
              "      <td>127.350084</td>\n",
              "      <td>224.592926</td>\n",
              "      <td>-5.992983</td>\n",
              "      <td>-14.689648</td>\n",
              "      <td>143.072058</td>\n",
              "      <td>153.439659</td>\n",
              "      <td>2</td>\n",
              "    </tr>\n",
              "    <tr>\n",
              "      <th>1</th>\n",
              "      <td>-38.019270</td>\n",
              "      <td>-14.195695</td>\n",
              "      <td>9.583547</td>\n",
              "      <td>22.293822</td>\n",
              "      <td>-25.578283</td>\n",
              "      <td>-18.373955</td>\n",
              "      <td>-0.094457</td>\n",
              "      <td>-33.711852</td>\n",
              "      <td>-8.356041</td>\n",
              "      <td>23.792402</td>\n",
              "      <td>4.199023</td>\n",
              "      <td>2.809159</td>\n",
              "      <td>-59.330681</td>\n",
              "      <td>-11.685950</td>\n",
              "      <td>1.317104</td>\n",
              "      <td>3</td>\n",
              "    </tr>\n",
              "    <tr>\n",
              "      <th>2</th>\n",
              "      <td>-39.197085</td>\n",
              "      <td>-20.418850</td>\n",
              "      <td>21.023083</td>\n",
              "      <td>19.790280</td>\n",
              "      <td>-25.902587</td>\n",
              "      <td>-19.189004</td>\n",
              "      <td>-2.953836</td>\n",
              "      <td>-25.299219</td>\n",
              "      <td>-6.612401</td>\n",
              "      <td>26.285392</td>\n",
              "      <td>5.911292</td>\n",
              "      <td>6.191587</td>\n",
              "      <td>-56.924996</td>\n",
              "      <td>-4.675187</td>\n",
              "      <td>-1.027830</td>\n",
              "      <td>2</td>\n",
              "    </tr>\n",
              "    <tr>\n",
              "      <th>3</th>\n",
              "      <td>221.630408</td>\n",
              "      <td>-5.785352</td>\n",
              "      <td>216.725322</td>\n",
              "      <td>-9.900781</td>\n",
              "      <td>126.795177</td>\n",
              "      <td>85.122288</td>\n",
              "      <td>108.857593</td>\n",
              "      <td>197.640135</td>\n",
              "      <td>82.560019</td>\n",
              "      <td>157.105143</td>\n",
              "      <td>212.989231</td>\n",
              "      <td>-3.621070</td>\n",
              "      <td>-15.469156</td>\n",
              "      <td>135.265859</td>\n",
              "      <td>149.212489</td>\n",
              "      <td>2</td>\n",
              "    </tr>\n",
              "    <tr>\n",
              "      <th>4</th>\n",
              "      <td>228.558412</td>\n",
              "      <td>-12.447710</td>\n",
              "      <td>204.637218</td>\n",
              "      <td>-13.277704</td>\n",
              "      <td>138.930529</td>\n",
              "      <td>91.101870</td>\n",
              "      <td>115.598954</td>\n",
              "      <td>209.300011</td>\n",
              "      <td>89.961688</td>\n",
              "      <td>130.299732</td>\n",
              "      <td>201.795100</td>\n",
              "      <td>-1.573922</td>\n",
              "      <td>-15.128603</td>\n",
              "      <td>148.368622</td>\n",
              "      <td>147.492663</td>\n",
              "      <td>3</td>\n",
              "    </tr>\n",
              "  </tbody>\n",
              "</table>\n",
              "</div>"
            ],
            "text/plain": [
              "            A          B           C  ...           N           O  Class\n",
              "0  231.420023 -12.210984  217.624839  ...  143.072058  153.439659      2\n",
              "1  -38.019270 -14.195695    9.583547  ...  -11.685950    1.317104      3\n",
              "2  -39.197085 -20.418850   21.023083  ...   -4.675187   -1.027830      2\n",
              "3  221.630408  -5.785352  216.725322  ...  135.265859  149.212489      2\n",
              "4  228.558412 -12.447710  204.637218  ...  148.368622  147.492663      3\n",
              "\n",
              "[5 rows x 16 columns]"
            ]
          },
          "metadata": {
            "tags": []
          },
          "execution_count": 17
        }
      ]
    },
    {
      "cell_type": "code",
      "metadata": {
        "colab": {
          "base_uri": "https://localhost:8080/",
          "height": 224
        },
        "id": "U8pL8A8zaDL4",
        "outputId": "0fc41e25-dab4-4b4c-c996-7112f752ecac"
      },
      "source": [
        "#Making class 1 and class 2 as 0\n",
        "pmml_df_class3.loc[(pmml_df_class3['Class']== 1)|(pmml_df_class3['Class']==2),'Class'] = 0\n",
        "pmml_df_class3.head()"
      ],
      "execution_count": null,
      "outputs": [
        {
          "output_type": "execute_result",
          "data": {
            "text/html": [
              "<div>\n",
              "<style scoped>\n",
              "    .dataframe tbody tr th:only-of-type {\n",
              "        vertical-align: middle;\n",
              "    }\n",
              "\n",
              "    .dataframe tbody tr th {\n",
              "        vertical-align: top;\n",
              "    }\n",
              "\n",
              "    .dataframe thead th {\n",
              "        text-align: right;\n",
              "    }\n",
              "</style>\n",
              "<table border=\"1\" class=\"dataframe\">\n",
              "  <thead>\n",
              "    <tr style=\"text-align: right;\">\n",
              "      <th></th>\n",
              "      <th>A</th>\n",
              "      <th>B</th>\n",
              "      <th>C</th>\n",
              "      <th>D</th>\n",
              "      <th>E</th>\n",
              "      <th>F</th>\n",
              "      <th>G</th>\n",
              "      <th>H</th>\n",
              "      <th>I</th>\n",
              "      <th>J</th>\n",
              "      <th>K</th>\n",
              "      <th>L</th>\n",
              "      <th>M</th>\n",
              "      <th>N</th>\n",
              "      <th>O</th>\n",
              "      <th>Class</th>\n",
              "    </tr>\n",
              "  </thead>\n",
              "  <tbody>\n",
              "    <tr>\n",
              "      <th>0</th>\n",
              "      <td>231.420023</td>\n",
              "      <td>-12.210984</td>\n",
              "      <td>217.624839</td>\n",
              "      <td>-15.611916</td>\n",
              "      <td>140.047185</td>\n",
              "      <td>76.904999</td>\n",
              "      <td>131.591871</td>\n",
              "      <td>198.160805</td>\n",
              "      <td>82.873279</td>\n",
              "      <td>127.350084</td>\n",
              "      <td>224.592926</td>\n",
              "      <td>-5.992983</td>\n",
              "      <td>-14.689648</td>\n",
              "      <td>143.072058</td>\n",
              "      <td>153.439659</td>\n",
              "      <td>0</td>\n",
              "    </tr>\n",
              "    <tr>\n",
              "      <th>1</th>\n",
              "      <td>-38.019270</td>\n",
              "      <td>-14.195695</td>\n",
              "      <td>9.583547</td>\n",
              "      <td>22.293822</td>\n",
              "      <td>-25.578283</td>\n",
              "      <td>-18.373955</td>\n",
              "      <td>-0.094457</td>\n",
              "      <td>-33.711852</td>\n",
              "      <td>-8.356041</td>\n",
              "      <td>23.792402</td>\n",
              "      <td>4.199023</td>\n",
              "      <td>2.809159</td>\n",
              "      <td>-59.330681</td>\n",
              "      <td>-11.685950</td>\n",
              "      <td>1.317104</td>\n",
              "      <td>3</td>\n",
              "    </tr>\n",
              "    <tr>\n",
              "      <th>2</th>\n",
              "      <td>-39.197085</td>\n",
              "      <td>-20.418850</td>\n",
              "      <td>21.023083</td>\n",
              "      <td>19.790280</td>\n",
              "      <td>-25.902587</td>\n",
              "      <td>-19.189004</td>\n",
              "      <td>-2.953836</td>\n",
              "      <td>-25.299219</td>\n",
              "      <td>-6.612401</td>\n",
              "      <td>26.285392</td>\n",
              "      <td>5.911292</td>\n",
              "      <td>6.191587</td>\n",
              "      <td>-56.924996</td>\n",
              "      <td>-4.675187</td>\n",
              "      <td>-1.027830</td>\n",
              "      <td>0</td>\n",
              "    </tr>\n",
              "    <tr>\n",
              "      <th>3</th>\n",
              "      <td>221.630408</td>\n",
              "      <td>-5.785352</td>\n",
              "      <td>216.725322</td>\n",
              "      <td>-9.900781</td>\n",
              "      <td>126.795177</td>\n",
              "      <td>85.122288</td>\n",
              "      <td>108.857593</td>\n",
              "      <td>197.640135</td>\n",
              "      <td>82.560019</td>\n",
              "      <td>157.105143</td>\n",
              "      <td>212.989231</td>\n",
              "      <td>-3.621070</td>\n",
              "      <td>-15.469156</td>\n",
              "      <td>135.265859</td>\n",
              "      <td>149.212489</td>\n",
              "      <td>0</td>\n",
              "    </tr>\n",
              "    <tr>\n",
              "      <th>4</th>\n",
              "      <td>228.558412</td>\n",
              "      <td>-12.447710</td>\n",
              "      <td>204.637218</td>\n",
              "      <td>-13.277704</td>\n",
              "      <td>138.930529</td>\n",
              "      <td>91.101870</td>\n",
              "      <td>115.598954</td>\n",
              "      <td>209.300011</td>\n",
              "      <td>89.961688</td>\n",
              "      <td>130.299732</td>\n",
              "      <td>201.795100</td>\n",
              "      <td>-1.573922</td>\n",
              "      <td>-15.128603</td>\n",
              "      <td>148.368622</td>\n",
              "      <td>147.492663</td>\n",
              "      <td>3</td>\n",
              "    </tr>\n",
              "  </tbody>\n",
              "</table>\n",
              "</div>"
            ],
            "text/plain": [
              "            A          B           C  ...           N           O  Class\n",
              "0  231.420023 -12.210984  217.624839  ...  143.072058  153.439659      0\n",
              "1  -38.019270 -14.195695    9.583547  ...  -11.685950    1.317104      3\n",
              "2  -39.197085 -20.418850   21.023083  ...   -4.675187   -1.027830      0\n",
              "3  221.630408  -5.785352  216.725322  ...  135.265859  149.212489      0\n",
              "4  228.558412 -12.447710  204.637218  ...  148.368622  147.492663      3\n",
              "\n",
              "[5 rows x 16 columns]"
            ]
          },
          "metadata": {
            "tags": []
          },
          "execution_count": 18
        }
      ]
    },
    {
      "cell_type": "code",
      "metadata": {
        "colab": {
          "base_uri": "https://localhost:8080/"
        },
        "id": "bZSdKDSlaKZ4",
        "outputId": "9c724e21-e2ef-494e-a570-a01838635447"
      },
      "source": [
        "pmml_df_class3['Class'].unique()"
      ],
      "execution_count": null,
      "outputs": [
        {
          "output_type": "execute_result",
          "data": {
            "text/plain": [
              "array([0, 3])"
            ]
          },
          "metadata": {
            "tags": []
          },
          "execution_count": 19
        }
      ]
    },
    {
      "cell_type": "code",
      "metadata": {
        "colab": {
          "base_uri": "https://localhost:8080/",
          "height": 224
        },
        "id": "wZUSNVKvbmFU",
        "outputId": "9a3945d5-6918-4b1f-8065-b9df73f5ebe5"
      },
      "source": [
        "P_class3 = pd.DataFrame(data=pmml_df_class3.drop('Class', axis=1))\n",
        "q_class3 = pd.DataFrame(data=pmml_df_class3['Class'],columns=['Class'])\n",
        "P_class3_train, P_class3_test, q_class3_train, q_class3_test = train_test_split(P_class3,q_class3,test_size=0.2)\n",
        "train_data = pd.concat([P_class3_train,q_class3_train],axis=1)\n",
        "train_data.head()"
      ],
      "execution_count": null,
      "outputs": [
        {
          "output_type": "execute_result",
          "data": {
            "text/html": [
              "<div>\n",
              "<style scoped>\n",
              "    .dataframe tbody tr th:only-of-type {\n",
              "        vertical-align: middle;\n",
              "    }\n",
              "\n",
              "    .dataframe tbody tr th {\n",
              "        vertical-align: top;\n",
              "    }\n",
              "\n",
              "    .dataframe thead th {\n",
              "        text-align: right;\n",
              "    }\n",
              "</style>\n",
              "<table border=\"1\" class=\"dataframe\">\n",
              "  <thead>\n",
              "    <tr style=\"text-align: right;\">\n",
              "      <th></th>\n",
              "      <th>A</th>\n",
              "      <th>B</th>\n",
              "      <th>C</th>\n",
              "      <th>D</th>\n",
              "      <th>E</th>\n",
              "      <th>F</th>\n",
              "      <th>G</th>\n",
              "      <th>H</th>\n",
              "      <th>I</th>\n",
              "      <th>J</th>\n",
              "      <th>K</th>\n",
              "      <th>L</th>\n",
              "      <th>M</th>\n",
              "      <th>N</th>\n",
              "      <th>O</th>\n",
              "      <th>Class</th>\n",
              "    </tr>\n",
              "  </thead>\n",
              "  <tbody>\n",
              "    <tr>\n",
              "      <th>1033366</th>\n",
              "      <td>-60.133682</td>\n",
              "      <td>-43.430670</td>\n",
              "      <td>-49.806981</td>\n",
              "      <td>-113.777514</td>\n",
              "      <td>-16.842012</td>\n",
              "      <td>-129.068125</td>\n",
              "      <td>-49.881357</td>\n",
              "      <td>-7.557259</td>\n",
              "      <td>60.477431</td>\n",
              "      <td>-97.448530</td>\n",
              "      <td>39.082878</td>\n",
              "      <td>-48.718752</td>\n",
              "      <td>-50.484533</td>\n",
              "      <td>44.793975</td>\n",
              "      <td>60.219951</td>\n",
              "      <td>0</td>\n",
              "    </tr>\n",
              "    <tr>\n",
              "      <th>727615</th>\n",
              "      <td>-30.267534</td>\n",
              "      <td>-9.818834</td>\n",
              "      <td>7.436916</td>\n",
              "      <td>22.201498</td>\n",
              "      <td>-22.728165</td>\n",
              "      <td>-21.874823</td>\n",
              "      <td>7.204273</td>\n",
              "      <td>-29.780032</td>\n",
              "      <td>-6.046960</td>\n",
              "      <td>28.084558</td>\n",
              "      <td>2.458595</td>\n",
              "      <td>4.591886</td>\n",
              "      <td>-56.224595</td>\n",
              "      <td>-5.307227</td>\n",
              "      <td>-4.575310</td>\n",
              "      <td>3</td>\n",
              "    </tr>\n",
              "    <tr>\n",
              "      <th>391944</th>\n",
              "      <td>-41.660698</td>\n",
              "      <td>-6.723186</td>\n",
              "      <td>3.551023</td>\n",
              "      <td>21.122214</td>\n",
              "      <td>-26.671501</td>\n",
              "      <td>-26.559982</td>\n",
              "      <td>2.419869</td>\n",
              "      <td>-26.436415</td>\n",
              "      <td>-7.742892</td>\n",
              "      <td>26.285939</td>\n",
              "      <td>1.789007</td>\n",
              "      <td>3.256075</td>\n",
              "      <td>-55.705499</td>\n",
              "      <td>-6.435344</td>\n",
              "      <td>-4.970778</td>\n",
              "      <td>3</td>\n",
              "    </tr>\n",
              "    <tr>\n",
              "      <th>521548</th>\n",
              "      <td>232.913570</td>\n",
              "      <td>-9.873323</td>\n",
              "      <td>215.310070</td>\n",
              "      <td>-12.561418</td>\n",
              "      <td>121.886035</td>\n",
              "      <td>91.612366</td>\n",
              "      <td>111.354136</td>\n",
              "      <td>181.999581</td>\n",
              "      <td>73.119534</td>\n",
              "      <td>135.911973</td>\n",
              "      <td>212.607922</td>\n",
              "      <td>-15.779539</td>\n",
              "      <td>-10.083655</td>\n",
              "      <td>149.293716</td>\n",
              "      <td>149.660875</td>\n",
              "      <td>0</td>\n",
              "    </tr>\n",
              "    <tr>\n",
              "      <th>51953</th>\n",
              "      <td>238.233658</td>\n",
              "      <td>-10.847341</td>\n",
              "      <td>227.223472</td>\n",
              "      <td>-16.177012</td>\n",
              "      <td>134.089662</td>\n",
              "      <td>101.286068</td>\n",
              "      <td>131.808229</td>\n",
              "      <td>186.810729</td>\n",
              "      <td>81.355597</td>\n",
              "      <td>130.353099</td>\n",
              "      <td>203.491064</td>\n",
              "      <td>-2.681334</td>\n",
              "      <td>-3.892732</td>\n",
              "      <td>140.070370</td>\n",
              "      <td>167.093688</td>\n",
              "      <td>0</td>\n",
              "    </tr>\n",
              "  </tbody>\n",
              "</table>\n",
              "</div>"
            ],
            "text/plain": [
              "                  A          B           C  ...           N           O  Class\n",
              "1033366  -60.133682 -43.430670  -49.806981  ...   44.793975   60.219951      0\n",
              "727615   -30.267534  -9.818834    7.436916  ...   -5.307227   -4.575310      3\n",
              "391944   -41.660698  -6.723186    3.551023  ...   -6.435344   -4.970778      3\n",
              "521548   232.913570  -9.873323  215.310070  ...  149.293716  149.660875      0\n",
              "51953    238.233658 -10.847341  227.223472  ...  140.070370  167.093688      0\n",
              "\n",
              "[5 rows x 16 columns]"
            ]
          },
          "metadata": {
            "tags": []
          },
          "execution_count": 20
        }
      ]
    },
    {
      "cell_type": "code",
      "metadata": {
        "colab": {
          "base_uri": "https://localhost:8080/"
        },
        "id": "lwp4oZpnb4qW",
        "outputId": "e934a3e6-8fea-4876-d255-47d15995ae6a"
      },
      "source": [
        "#DecisionTreeClassifier\n",
        "pipeline3_DTC = PMMLPipeline([('scaler',StandardScaler()),('pca',PCA(n_components=1)),('classifier',DecisionTreeClassifier(max_depth=2))],(PMMLPipeline([('scaler',StandardScaler()),('pca',PCA(n_components=1)),('classifier',LogisticRegression())])))\n",
        "pipeline3_DTC.fit(P_class3_train,q_class3_train)\n",
        "print(pipeline3_DTC.score(P_class3_test,q_class3_test))"
      ],
      "execution_count": null,
      "outputs": [
        {
          "output_type": "stream",
          "text": [
            "0.666625\n"
          ],
          "name": "stdout"
        }
      ]
    },
    {
      "cell_type": "markdown",
      "metadata": {
        "id": "GeX488hp3czF"
      },
      "source": [
        "Accuracy is 66.6% for the class 3 vs class not 3"
      ]
    },
    {
      "cell_type": "code",
      "metadata": {
        "colab": {
          "base_uri": "https://localhost:8080/",
          "height": 224
        },
        "id": "EvWK_P7idmYu",
        "outputId": "f8a47e0b-25c1-4bd4-8f93-683a012b8b09"
      },
      "source": [
        "#For class not 3\n",
        "pmml_df_class_not3=pd.DataFrame(data=pmml_df_class3[pmml_df_class3[\"Class\"]==0])\n",
        "pmml_df_class_not3.head()"
      ],
      "execution_count": null,
      "outputs": [
        {
          "output_type": "execute_result",
          "data": {
            "text/html": [
              "<div>\n",
              "<style scoped>\n",
              "    .dataframe tbody tr th:only-of-type {\n",
              "        vertical-align: middle;\n",
              "    }\n",
              "\n",
              "    .dataframe tbody tr th {\n",
              "        vertical-align: top;\n",
              "    }\n",
              "\n",
              "    .dataframe thead th {\n",
              "        text-align: right;\n",
              "    }\n",
              "</style>\n",
              "<table border=\"1\" class=\"dataframe\">\n",
              "  <thead>\n",
              "    <tr style=\"text-align: right;\">\n",
              "      <th></th>\n",
              "      <th>A</th>\n",
              "      <th>B</th>\n",
              "      <th>C</th>\n",
              "      <th>D</th>\n",
              "      <th>E</th>\n",
              "      <th>F</th>\n",
              "      <th>G</th>\n",
              "      <th>H</th>\n",
              "      <th>I</th>\n",
              "      <th>J</th>\n",
              "      <th>K</th>\n",
              "      <th>L</th>\n",
              "      <th>M</th>\n",
              "      <th>N</th>\n",
              "      <th>O</th>\n",
              "      <th>Class</th>\n",
              "    </tr>\n",
              "  </thead>\n",
              "  <tbody>\n",
              "    <tr>\n",
              "      <th>0</th>\n",
              "      <td>231.420023</td>\n",
              "      <td>-12.210984</td>\n",
              "      <td>217.624839</td>\n",
              "      <td>-15.611916</td>\n",
              "      <td>140.047185</td>\n",
              "      <td>76.904999</td>\n",
              "      <td>131.591871</td>\n",
              "      <td>198.160805</td>\n",
              "      <td>82.873279</td>\n",
              "      <td>127.350084</td>\n",
              "      <td>224.592926</td>\n",
              "      <td>-5.992983</td>\n",
              "      <td>-14.689648</td>\n",
              "      <td>143.072058</td>\n",
              "      <td>153.439659</td>\n",
              "      <td>0</td>\n",
              "    </tr>\n",
              "    <tr>\n",
              "      <th>2</th>\n",
              "      <td>-39.197085</td>\n",
              "      <td>-20.418850</td>\n",
              "      <td>21.023083</td>\n",
              "      <td>19.790280</td>\n",
              "      <td>-25.902587</td>\n",
              "      <td>-19.189004</td>\n",
              "      <td>-2.953836</td>\n",
              "      <td>-25.299219</td>\n",
              "      <td>-6.612401</td>\n",
              "      <td>26.285392</td>\n",
              "      <td>5.911292</td>\n",
              "      <td>6.191587</td>\n",
              "      <td>-56.924996</td>\n",
              "      <td>-4.675187</td>\n",
              "      <td>-1.027830</td>\n",
              "      <td>0</td>\n",
              "    </tr>\n",
              "    <tr>\n",
              "      <th>3</th>\n",
              "      <td>221.630408</td>\n",
              "      <td>-5.785352</td>\n",
              "      <td>216.725322</td>\n",
              "      <td>-9.900781</td>\n",
              "      <td>126.795177</td>\n",
              "      <td>85.122288</td>\n",
              "      <td>108.857593</td>\n",
              "      <td>197.640135</td>\n",
              "      <td>82.560019</td>\n",
              "      <td>157.105143</td>\n",
              "      <td>212.989231</td>\n",
              "      <td>-3.621070</td>\n",
              "      <td>-15.469156</td>\n",
              "      <td>135.265859</td>\n",
              "      <td>149.212489</td>\n",
              "      <td>0</td>\n",
              "    </tr>\n",
              "    <tr>\n",
              "      <th>5</th>\n",
              "      <td>235.027198</td>\n",
              "      <td>-16.081132</td>\n",
              "      <td>213.391582</td>\n",
              "      <td>-12.934912</td>\n",
              "      <td>122.413766</td>\n",
              "      <td>80.222540</td>\n",
              "      <td>125.240412</td>\n",
              "      <td>185.694965</td>\n",
              "      <td>66.072251</td>\n",
              "      <td>142.555417</td>\n",
              "      <td>213.442083</td>\n",
              "      <td>0.728989</td>\n",
              "      <td>-26.046291</td>\n",
              "      <td>137.529415</td>\n",
              "      <td>143.348783</td>\n",
              "      <td>0</td>\n",
              "    </tr>\n",
              "    <tr>\n",
              "      <th>6</th>\n",
              "      <td>-35.819795</td>\n",
              "      <td>-16.688245</td>\n",
              "      <td>5.738227</td>\n",
              "      <td>17.570011</td>\n",
              "      <td>-31.523595</td>\n",
              "      <td>-20.625764</td>\n",
              "      <td>0.077354</td>\n",
              "      <td>-28.944922</td>\n",
              "      <td>-10.699215</td>\n",
              "      <td>26.982097</td>\n",
              "      <td>2.958726</td>\n",
              "      <td>-2.365574</td>\n",
              "      <td>-56.082634</td>\n",
              "      <td>-6.918042</td>\n",
              "      <td>-0.996789</td>\n",
              "      <td>0</td>\n",
              "    </tr>\n",
              "  </tbody>\n",
              "</table>\n",
              "</div>"
            ],
            "text/plain": [
              "            A          B           C  ...           N           O  Class\n",
              "0  231.420023 -12.210984  217.624839  ...  143.072058  153.439659      0\n",
              "2  -39.197085 -20.418850   21.023083  ...   -4.675187   -1.027830      0\n",
              "3  221.630408  -5.785352  216.725322  ...  135.265859  149.212489      0\n",
              "5  235.027198 -16.081132  213.391582  ...  137.529415  143.348783      0\n",
              "6  -35.819795 -16.688245    5.738227  ...   -6.918042   -0.996789      0\n",
              "\n",
              "[5 rows x 16 columns]"
            ]
          },
          "metadata": {
            "tags": []
          },
          "execution_count": 22
        }
      ]
    },
    {
      "cell_type": "code",
      "metadata": {
        "colab": {
          "base_uri": "https://localhost:8080/",
          "height": 224
        },
        "id": "xPBlu8ZBdrGQ",
        "outputId": "fc9e7469-eabb-4eb4-cbbb-dd2ec9258341"
      },
      "source": [
        "P_class_not3 = pd.DataFrame(data=pmml_df_class_not3.drop('Class', axis=1))\n",
        "q_class_not3 = pd.DataFrame(data=pmml_df_class_not3['Class'],columns=['Class'])\n",
        "P_class_not3_train, P_class_not3_test, q_class_not3_train, q_class_not3_test = train_test_split(P_class_not3,q_class_not3,test_size=0.2)\n",
        "train_data = pd.concat([P_class_not3_train,q_class_not3_train],axis=1)\n",
        "train_data.head()"
      ],
      "execution_count": null,
      "outputs": [
        {
          "output_type": "execute_result",
          "data": {
            "text/html": [
              "<div>\n",
              "<style scoped>\n",
              "    .dataframe tbody tr th:only-of-type {\n",
              "        vertical-align: middle;\n",
              "    }\n",
              "\n",
              "    .dataframe tbody tr th {\n",
              "        vertical-align: top;\n",
              "    }\n",
              "\n",
              "    .dataframe thead th {\n",
              "        text-align: right;\n",
              "    }\n",
              "</style>\n",
              "<table border=\"1\" class=\"dataframe\">\n",
              "  <thead>\n",
              "    <tr style=\"text-align: right;\">\n",
              "      <th></th>\n",
              "      <th>A</th>\n",
              "      <th>B</th>\n",
              "      <th>C</th>\n",
              "      <th>D</th>\n",
              "      <th>E</th>\n",
              "      <th>F</th>\n",
              "      <th>G</th>\n",
              "      <th>H</th>\n",
              "      <th>I</th>\n",
              "      <th>J</th>\n",
              "      <th>K</th>\n",
              "      <th>L</th>\n",
              "      <th>M</th>\n",
              "      <th>N</th>\n",
              "      <th>O</th>\n",
              "      <th>Class</th>\n",
              "    </tr>\n",
              "  </thead>\n",
              "  <tbody>\n",
              "    <tr>\n",
              "      <th>556869</th>\n",
              "      <td>246.453600</td>\n",
              "      <td>-10.075202</td>\n",
              "      <td>213.645825</td>\n",
              "      <td>-14.319736</td>\n",
              "      <td>127.856225</td>\n",
              "      <td>94.027566</td>\n",
              "      <td>120.599359</td>\n",
              "      <td>198.006015</td>\n",
              "      <td>84.557530</td>\n",
              "      <td>128.507383</td>\n",
              "      <td>201.826330</td>\n",
              "      <td>1.666564</td>\n",
              "      <td>-25.505854</td>\n",
              "      <td>143.838102</td>\n",
              "      <td>155.917834</td>\n",
              "      <td>0</td>\n",
              "    </tr>\n",
              "    <tr>\n",
              "      <th>826515</th>\n",
              "      <td>-36.822987</td>\n",
              "      <td>-16.001259</td>\n",
              "      <td>12.044076</td>\n",
              "      <td>18.387325</td>\n",
              "      <td>-16.476069</td>\n",
              "      <td>-24.673835</td>\n",
              "      <td>4.107730</td>\n",
              "      <td>-23.930139</td>\n",
              "      <td>-9.885238</td>\n",
              "      <td>29.504305</td>\n",
              "      <td>7.059519</td>\n",
              "      <td>0.991627</td>\n",
              "      <td>-55.386892</td>\n",
              "      <td>-8.479720</td>\n",
              "      <td>-1.945130</td>\n",
              "      <td>0</td>\n",
              "    </tr>\n",
              "    <tr>\n",
              "      <th>721367</th>\n",
              "      <td>231.097007</td>\n",
              "      <td>-5.770599</td>\n",
              "      <td>229.597593</td>\n",
              "      <td>-10.696815</td>\n",
              "      <td>139.076048</td>\n",
              "      <td>75.090313</td>\n",
              "      <td>141.084106</td>\n",
              "      <td>214.935354</td>\n",
              "      <td>69.621883</td>\n",
              "      <td>126.110229</td>\n",
              "      <td>209.243304</td>\n",
              "      <td>5.956163</td>\n",
              "      <td>-14.247887</td>\n",
              "      <td>139.495689</td>\n",
              "      <td>152.545618</td>\n",
              "      <td>0</td>\n",
              "    </tr>\n",
              "    <tr>\n",
              "      <th>592217</th>\n",
              "      <td>-64.198927</td>\n",
              "      <td>-59.922691</td>\n",
              "      <td>-31.873235</td>\n",
              "      <td>-120.188204</td>\n",
              "      <td>-14.169334</td>\n",
              "      <td>-125.845818</td>\n",
              "      <td>-51.060236</td>\n",
              "      <td>-5.546574</td>\n",
              "      <td>47.787066</td>\n",
              "      <td>-90.849653</td>\n",
              "      <td>49.875193</td>\n",
              "      <td>-46.099209</td>\n",
              "      <td>-50.257306</td>\n",
              "      <td>32.339463</td>\n",
              "      <td>60.452842</td>\n",
              "      <td>0</td>\n",
              "    </tr>\n",
              "    <tr>\n",
              "      <th>926333</th>\n",
              "      <td>-38.677890</td>\n",
              "      <td>-14.220124</td>\n",
              "      <td>14.428087</td>\n",
              "      <td>18.134781</td>\n",
              "      <td>-22.353655</td>\n",
              "      <td>-25.462723</td>\n",
              "      <td>3.508433</td>\n",
              "      <td>-31.856922</td>\n",
              "      <td>-7.361574</td>\n",
              "      <td>18.640736</td>\n",
              "      <td>6.000716</td>\n",
              "      <td>4.917386</td>\n",
              "      <td>-55.706733</td>\n",
              "      <td>-8.030620</td>\n",
              "      <td>0.369837</td>\n",
              "      <td>0</td>\n",
              "    </tr>\n",
              "  </tbody>\n",
              "</table>\n",
              "</div>"
            ],
            "text/plain": [
              "                 A          B           C  ...           N           O  Class\n",
              "556869  246.453600 -10.075202  213.645825  ...  143.838102  155.917834      0\n",
              "826515  -36.822987 -16.001259   12.044076  ...   -8.479720   -1.945130      0\n",
              "721367  231.097007  -5.770599  229.597593  ...  139.495689  152.545618      0\n",
              "592217  -64.198927 -59.922691  -31.873235  ...   32.339463   60.452842      0\n",
              "926333  -38.677890 -14.220124   14.428087  ...   -8.030620    0.369837      0\n",
              "\n",
              "[5 rows x 16 columns]"
            ]
          },
          "metadata": {
            "tags": []
          },
          "execution_count": 23
        }
      ]
    },
    {
      "cell_type": "code",
      "metadata": {
        "colab": {
          "base_uri": "https://localhost:8080/"
        },
        "id": "AQZ9NPs4d6io",
        "outputId": "c0ed868c-6d82-43f6-cac2-4e9af78f4ab3"
      },
      "source": [
        "#DecisionTreeClassifier\n",
        "pipelinenot3_DTC = PMMLPipeline([('scaler',StandardScaler()),('pca',PCA(n_components=1)),('classifier',DecisionTreeClassifier(max_depth=2))])\n",
        "pipelinenot3_DTC.fit(P_class_not3_train,q_class_not3_train)\n",
        "print(pipelinenot3_DTC.score(P_class_not3_test,q_class_not3_test))"
      ],
      "execution_count": null,
      "outputs": [
        {
          "output_type": "stream",
          "text": [
            "1.0\n"
          ],
          "name": "stdout"
        }
      ]
    },
    {
      "cell_type": "markdown",
      "metadata": {
        "id": "A5kDjPHW3xr5"
      },
      "source": [
        "Accuracy is 100% for predicting the not class 3 i.e., predicting class 1 and class 2"
      ]
    },
    {
      "cell_type": "code",
      "metadata": {
        "colab": {
          "base_uri": "https://localhost:8080/",
          "height": 762
        },
        "id": "xJMYW6MagHey",
        "outputId": "fcc3f9b7-c4a9-4c13-e9bc-c40000468a13"
      },
      "source": [
        "fig = plt.figure() \n",
        "for i in range(1,16):\n",
        "    fig.add_subplot(4,4,i)\n",
        "    plt.hist(pmml_df[features[i-1:i]], bins=20)\n",
        "    plt.title(features[i-1:i])\n",
        "fig.add_subplot(4,4,16)\n",
        "plt.hist(pmml_df['Class'], bins=20)\n",
        "plt.title('Class')\n",
        "fig.subplots_adjust(hspace=1, wspace=1)\n",
        "fig.set_figheight(9)\n",
        "fig.set_figwidth(9)"
      ],
      "execution_count": null,
      "outputs": [
        {
          "output_type": "display_data",
          "data": {
            "image/png": "[encoded data removed]",
            "text/plain": [
              "<Figure size 900x900 with 16 Axes>"
            ]
          },
          "metadata": {
            "tags": []
          }
        }
      ]
    },
    {
      "cell_type": "code",
      "metadata": {
        "colab": {
          "base_uri": "https://localhost:8080/",
          "height": 977
        },
        "id": "2zYyK7nGzi4C",
        "outputId": "ebba511f-a285-4815-ebbb-a1c647487ee3"
      },
      "source": [
        "zero_importance_features = fs.ops['zero_importance']\n",
        "fs.plot_feature_importances(threshold = 0.97, plot_n = 15)"
      ],
      "execution_count": null,
      "outputs": [
        {
          "output_type": "display_data",
          "data": {
            "image/png": "[encoded data removed]",
            "text/plain": [
              "<Figure size 1000x600 with 1 Axes>"
            ]
          },
          "metadata": {
            "tags": []
          }
        },
        {
          "output_type": "display_data",
          "data": {
            "image/png": "[encoded data removed]",
            "text/plain": [
              "<Figure size 600x400 with 1 Axes>"
            ]
          },
          "metadata": {
            "tags": []
          }
        },
        {
          "output_type": "stream",
          "text": [
            "15 features required for 0.97 of cumulative importance\n"
          ],
          "name": "stdout"
        }
      ]
    },
    {
      "cell_type": "markdown",
      "metadata": {
        "id": "4WkBqFodHi2x"
      },
      "source": [
        "From the above plot of feature importance it is clear that all the features in the dataset have the equal importance.Dropping a feature with the high correlation or keeping the feature with high correlation gives the same accuracy."
      ]
    },
    {
      "cell_type": "code",
      "metadata": {
        "colab": {
          "base_uri": "https://localhost:8080/",
          "height": 565
        },
        "id": "sgolf2affCh2",
        "outputId": "65ae4432-d557-4701-86cf-ea3404e9b5c9"
      },
      "source": [
        "#Performing correlation for the complete dataset\n",
        "pmml_df.corr('pearson')"
      ],
      "execution_count": null,
      "outputs": [
        {
          "output_type": "execute_result",
          "data": {
            "text/html": [
              "<div>\n",
              "<style scoped>\n",
              "    .dataframe tbody tr th:only-of-type {\n",
              "        vertical-align: middle;\n",
              "    }\n",
              "\n",
              "    .dataframe tbody tr th {\n",
              "        vertical-align: top;\n",
              "    }\n",
              "\n",
              "    .dataframe thead th {\n",
              "        text-align: right;\n",
              "    }\n",
              "</style>\n",
              "<table border=\"1\" class=\"dataframe\">\n",
              "  <thead>\n",
              "    <tr style=\"text-align: right;\">\n",
              "      <th></th>\n",
              "      <th>A</th>\n",
              "      <th>B</th>\n",
              "      <th>C</th>\n",
              "      <th>D</th>\n",
              "      <th>E</th>\n",
              "      <th>F</th>\n",
              "      <th>G</th>\n",
              "      <th>H</th>\n",
              "      <th>I</th>\n",
              "      <th>J</th>\n",
              "      <th>K</th>\n",
              "      <th>L</th>\n",
              "      <th>M</th>\n",
              "      <th>N</th>\n",
              "      <th>O</th>\n",
              "      <th>Class</th>\n",
              "    </tr>\n",
              "  </thead>\n",
              "  <tbody>\n",
              "    <tr>\n",
              "      <th>A</th>\n",
              "      <td>1.000000</td>\n",
              "      <td>0.455949</td>\n",
              "      <td>0.991999</td>\n",
              "      <td>0.071330</td>\n",
              "      <td>0.990703</td>\n",
              "      <td>0.905353</td>\n",
              "      <td>0.972223</td>\n",
              "      <td>0.988807</td>\n",
              "      <td>0.818399</td>\n",
              "      <td>0.870016</td>\n",
              "      <td>0.968827</td>\n",
              "      <td>0.139619</td>\n",
              "      <td>0.958931</td>\n",
              "      <td>0.953081</td>\n",
              "      <td>0.920322</td>\n",
              "      <td>-0.000620</td>\n",
              "    </tr>\n",
              "    <tr>\n",
              "      <th>B</th>\n",
              "      <td>0.455949</td>\n",
              "      <td>1.000000</td>\n",
              "      <td>0.541742</td>\n",
              "      <td>0.865856</td>\n",
              "      <td>0.352946</td>\n",
              "      <td>0.760708</td>\n",
              "      <td>0.620607</td>\n",
              "      <td>0.339549</td>\n",
              "      <td>-0.098558</td>\n",
              "      <td>0.803246</td>\n",
              "      <td>0.246429</td>\n",
              "      <td>0.854635</td>\n",
              "      <td>0.345030</td>\n",
              "      <td>0.194578</td>\n",
              "      <td>0.098805</td>\n",
              "      <td>0.000138</td>\n",
              "    </tr>\n",
              "    <tr>\n",
              "      <th>C</th>\n",
              "      <td>0.991999</td>\n",
              "      <td>0.541742</td>\n",
              "      <td>1.000000</td>\n",
              "      <td>0.176224</td>\n",
              "      <td>0.971805</td>\n",
              "      <td>0.943482</td>\n",
              "      <td>0.988351</td>\n",
              "      <td>0.968342</td>\n",
              "      <td>0.753474</td>\n",
              "      <td>0.915784</td>\n",
              "      <td>0.937868</td>\n",
              "      <td>0.238723</td>\n",
              "      <td>0.941040</td>\n",
              "      <td>0.916578</td>\n",
              "      <td>0.873800</td>\n",
              "      <td>-0.000686</td>\n",
              "    </tr>\n",
              "    <tr>\n",
              "      <th>D</th>\n",
              "      <td>0.071330</td>\n",
              "      <td>0.865856</td>\n",
              "      <td>0.176224</td>\n",
              "      <td>1.000000</td>\n",
              "      <td>-0.047459</td>\n",
              "      <td>0.477183</td>\n",
              "      <td>0.279248</td>\n",
              "      <td>-0.062451</td>\n",
              "      <td>-0.502643</td>\n",
              "      <td>0.544357</td>\n",
              "      <td>-0.163679</td>\n",
              "      <td>0.949485</td>\n",
              "      <td>-0.042057</td>\n",
              "      <td>-0.217856</td>\n",
              "      <td>-0.316241</td>\n",
              "      <td>0.000150</td>\n",
              "    </tr>\n",
              "    <tr>\n",
              "      <th>E</th>\n",
              "      <td>0.990703</td>\n",
              "      <td>0.352946</td>\n",
              "      <td>0.971805</td>\n",
              "      <td>-0.047459</td>\n",
              "      <td>1.000000</td>\n",
              "      <td>0.849129</td>\n",
              "      <td>0.939705</td>\n",
              "      <td>0.997116</td>\n",
              "      <td>0.879142</td>\n",
              "      <td>0.805749</td>\n",
              "      <td>0.989217</td>\n",
              "      <td>0.026319</td>\n",
              "      <td>0.964769</td>\n",
              "      <td>0.979925</td>\n",
              "      <td>0.958885</td>\n",
              "      <td>-0.000649</td>\n",
              "    </tr>\n",
              "    <tr>\n",
              "      <th>F</th>\n",
              "      <td>0.905353</td>\n",
              "      <td>0.760708</td>\n",
              "      <td>0.943482</td>\n",
              "      <td>0.477183</td>\n",
              "      <td>0.849129</td>\n",
              "      <td>1.000000</td>\n",
              "      <td>0.969055</td>\n",
              "      <td>0.841227</td>\n",
              "      <td>0.508345</td>\n",
              "      <td>0.989868</td>\n",
              "      <td>0.781534</td>\n",
              "      <td>0.518117</td>\n",
              "      <td>0.823551</td>\n",
              "      <td>0.745156</td>\n",
              "      <td>0.675416</td>\n",
              "      <td>-0.000540</td>\n",
              "    </tr>\n",
              "    <tr>\n",
              "      <th>G</th>\n",
              "      <td>0.972223</td>\n",
              "      <td>0.620607</td>\n",
              "      <td>0.988351</td>\n",
              "      <td>0.279248</td>\n",
              "      <td>0.939705</td>\n",
              "      <td>0.969055</td>\n",
              "      <td>1.000000</td>\n",
              "      <td>0.934714</td>\n",
              "      <td>0.678043</td>\n",
              "      <td>0.949429</td>\n",
              "      <td>0.894114</td>\n",
              "      <td>0.335039</td>\n",
              "      <td>0.910385</td>\n",
              "      <td>0.867546</td>\n",
              "      <td>0.815281</td>\n",
              "      <td>-0.000472</td>\n",
              "    </tr>\n",
              "    <tr>\n",
              "      <th>H</th>\n",
              "      <td>0.988807</td>\n",
              "      <td>0.339549</td>\n",
              "      <td>0.968342</td>\n",
              "      <td>-0.062451</td>\n",
              "      <td>0.997116</td>\n",
              "      <td>0.841227</td>\n",
              "      <td>0.934714</td>\n",
              "      <td>1.000000</td>\n",
              "      <td>0.886017</td>\n",
              "      <td>0.796856</td>\n",
              "      <td>0.990875</td>\n",
              "      <td>0.012005</td>\n",
              "      <td>0.964627</td>\n",
              "      <td>0.982403</td>\n",
              "      <td>0.962873</td>\n",
              "      <td>-0.000670</td>\n",
              "    </tr>\n",
              "    <tr>\n",
              "      <th>I</th>\n",
              "      <td>0.818399</td>\n",
              "      <td>-0.098558</td>\n",
              "      <td>0.753474</td>\n",
              "      <td>-0.502643</td>\n",
              "      <td>0.879142</td>\n",
              "      <td>0.508345</td>\n",
              "      <td>0.678043</td>\n",
              "      <td>0.886017</td>\n",
              "      <td>1.000000</td>\n",
              "      <td>0.439881</td>\n",
              "      <td>0.926217</td>\n",
              "      <td>-0.418110</td>\n",
              "      <td>0.848801</td>\n",
              "      <td>0.943365</td>\n",
              "      <td>0.970965</td>\n",
              "      <td>-0.000766</td>\n",
              "    </tr>\n",
              "    <tr>\n",
              "      <th>J</th>\n",
              "      <td>0.870016</td>\n",
              "      <td>0.803246</td>\n",
              "      <td>0.915784</td>\n",
              "      <td>0.544357</td>\n",
              "      <td>0.805749</td>\n",
              "      <td>0.989868</td>\n",
              "      <td>0.949429</td>\n",
              "      <td>0.796856</td>\n",
              "      <td>0.439881</td>\n",
              "      <td>1.000000</td>\n",
              "      <td>0.730841</td>\n",
              "      <td>0.579309</td>\n",
              "      <td>0.781815</td>\n",
              "      <td>0.691273</td>\n",
              "      <td>0.615931</td>\n",
              "      <td>-0.000333</td>\n",
              "    </tr>\n",
              "    <tr>\n",
              "      <th>K</th>\n",
              "      <td>0.968827</td>\n",
              "      <td>0.246429</td>\n",
              "      <td>0.937868</td>\n",
              "      <td>-0.163679</td>\n",
              "      <td>0.989217</td>\n",
              "      <td>0.781534</td>\n",
              "      <td>0.894114</td>\n",
              "      <td>0.990875</td>\n",
              "      <td>0.926217</td>\n",
              "      <td>0.730841</td>\n",
              "      <td>1.000000</td>\n",
              "      <td>-0.085543</td>\n",
              "      <td>0.956598</td>\n",
              "      <td>0.992158</td>\n",
              "      <td>0.982980</td>\n",
              "      <td>-0.000693</td>\n",
              "    </tr>\n",
              "    <tr>\n",
              "      <th>L</th>\n",
              "      <td>0.139619</td>\n",
              "      <td>0.854635</td>\n",
              "      <td>0.238723</td>\n",
              "      <td>0.949485</td>\n",
              "      <td>0.026319</td>\n",
              "      <td>0.518117</td>\n",
              "      <td>0.335039</td>\n",
              "      <td>0.012005</td>\n",
              "      <td>-0.418110</td>\n",
              "      <td>0.579309</td>\n",
              "      <td>-0.085543</td>\n",
              "      <td>1.000000</td>\n",
              "      <td>0.029013</td>\n",
              "      <td>-0.138097</td>\n",
              "      <td>-0.233820</td>\n",
              "      <td>0.000094</td>\n",
              "    </tr>\n",
              "    <tr>\n",
              "      <th>M</th>\n",
              "      <td>0.958931</td>\n",
              "      <td>0.345030</td>\n",
              "      <td>0.941040</td>\n",
              "      <td>-0.042057</td>\n",
              "      <td>0.964769</td>\n",
              "      <td>0.823551</td>\n",
              "      <td>0.910385</td>\n",
              "      <td>0.964627</td>\n",
              "      <td>0.848801</td>\n",
              "      <td>0.781815</td>\n",
              "      <td>0.956598</td>\n",
              "      <td>0.029013</td>\n",
              "      <td>1.000000</td>\n",
              "      <td>0.947381</td>\n",
              "      <td>0.926620</td>\n",
              "      <td>-0.000662</td>\n",
              "    </tr>\n",
              "    <tr>\n",
              "      <th>N</th>\n",
              "      <td>0.953081</td>\n",
              "      <td>0.194578</td>\n",
              "      <td>0.916578</td>\n",
              "      <td>-0.217856</td>\n",
              "      <td>0.979925</td>\n",
              "      <td>0.745156</td>\n",
              "      <td>0.867546</td>\n",
              "      <td>0.982403</td>\n",
              "      <td>0.943365</td>\n",
              "      <td>0.691273</td>\n",
              "      <td>0.992158</td>\n",
              "      <td>-0.138097</td>\n",
              "      <td>0.947381</td>\n",
              "      <td>1.000000</td>\n",
              "      <td>0.988920</td>\n",
              "      <td>-0.000722</td>\n",
              "    </tr>\n",
              "    <tr>\n",
              "      <th>O</th>\n",
              "      <td>0.920322</td>\n",
              "      <td>0.098805</td>\n",
              "      <td>0.873800</td>\n",
              "      <td>-0.316241</td>\n",
              "      <td>0.958885</td>\n",
              "      <td>0.675416</td>\n",
              "      <td>0.815281</td>\n",
              "      <td>0.962873</td>\n",
              "      <td>0.970965</td>\n",
              "      <td>0.615931</td>\n",
              "      <td>0.982980</td>\n",
              "      <td>-0.233820</td>\n",
              "      <td>0.926620</td>\n",
              "      <td>0.988920</td>\n",
              "      <td>1.000000</td>\n",
              "      <td>-0.000700</td>\n",
              "    </tr>\n",
              "    <tr>\n",
              "      <th>Class</th>\n",
              "      <td>-0.000620</td>\n",
              "      <td>0.000138</td>\n",
              "      <td>-0.000686</td>\n",
              "      <td>0.000150</td>\n",
              "      <td>-0.000649</td>\n",
              "      <td>-0.000540</td>\n",
              "      <td>-0.000472</td>\n",
              "      <td>-0.000670</td>\n",
              "      <td>-0.000766</td>\n",
              "      <td>-0.000333</td>\n",
              "      <td>-0.000693</td>\n",
              "      <td>0.000094</td>\n",
              "      <td>-0.000662</td>\n",
              "      <td>-0.000722</td>\n",
              "      <td>-0.000700</td>\n",
              "      <td>1.000000</td>\n",
              "    </tr>\n",
              "  </tbody>\n",
              "</table>\n",
              "</div>"
            ],
            "text/plain": [
              "              A         B         C  ...         N         O     Class\n",
              "A      1.000000  0.455949  0.991999  ...  0.953081  0.920322 -0.000620\n",
              "B      0.455949  1.000000  0.541742  ...  0.194578  0.098805  0.000138\n",
              "C      0.991999  0.541742  1.000000  ...  0.916578  0.873800 -0.000686\n",
              "D      0.071330  0.865856  0.176224  ... -0.217856 -0.316241  0.000150\n",
              "E      0.990703  0.352946  0.971805  ...  0.979925  0.958885 -0.000649\n",
              "F      0.905353  0.760708  0.943482  ...  0.745156  0.675416 -0.000540\n",
              "G      0.972223  0.620607  0.988351  ...  0.867546  0.815281 -0.000472\n",
              "H      0.988807  0.339549  0.968342  ...  0.982403  0.962873 -0.000670\n",
              "I      0.818399 -0.098558  0.753474  ...  0.943365  0.970965 -0.000766\n",
              "J      0.870016  0.803246  0.915784  ...  0.691273  0.615931 -0.000333\n",
              "K      0.968827  0.246429  0.937868  ...  0.992158  0.982980 -0.000693\n",
              "L      0.139619  0.854635  0.238723  ... -0.138097 -0.233820  0.000094\n",
              "M      0.958931  0.345030  0.941040  ...  0.947381  0.926620 -0.000662\n",
              "N      0.953081  0.194578  0.916578  ...  1.000000  0.988920 -0.000722\n",
              "O      0.920322  0.098805  0.873800  ...  0.988920  1.000000 -0.000700\n",
              "Class -0.000620  0.000138 -0.000686  ... -0.000722 -0.000700  1.000000\n",
              "\n",
              "[16 rows x 16 columns]"
            ]
          },
          "metadata": {
            "tags": []
          },
          "execution_count": 161
        }
      ]
    },
    {
      "cell_type": "markdown",
      "metadata": {
        "id": "rRpqZ19ZB3b_"
      },
      "source": [
        "From the correlation of the total dataset features A,C,E,H,K,N have the correlation nearly 100%"
      ]
    },
    {
      "cell_type": "code",
      "metadata": {
        "colab": {
          "base_uri": "https://localhost:8080/",
          "height": 204
        },
        "id": "OLFmcMxBD-N1",
        "outputId": "51562335-4406-490a-e9d9-13256f87c2c5"
      },
      "source": [
        "#Training the dataset with the features A C E H K N\n",
        "labels = ['A','C','E','H','K','N']\n",
        "X_total = pd.DataFrame(data=pmml_df.drop('Class', axis=1),columns=labels)\n",
        "y_total = pd.DataFrame(data=pmml_df['Class'],columns=['Class'])\n",
        "X_total_train, X_total_test, y_total_train, y_total_test = train_test_split(X_total,y_total,test_size=0.2)\n",
        "train_total_data = pd.concat([X_total_train,y_total_train],axis=1)\n",
        "train_total_data.head()"
      ],
      "execution_count": null,
      "outputs": [
        {
          "output_type": "execute_result",
          "data": {
            "text/html": [
              "<div>\n",
              "<style scoped>\n",
              "    .dataframe tbody tr th:only-of-type {\n",
              "        vertical-align: middle;\n",
              "    }\n",
              "\n",
              "    .dataframe tbody tr th {\n",
              "        vertical-align: top;\n",
              "    }\n",
              "\n",
              "    .dataframe thead th {\n",
              "        text-align: right;\n",
              "    }\n",
              "</style>\n",
              "<table border=\"1\" class=\"dataframe\">\n",
              "  <thead>\n",
              "    <tr style=\"text-align: right;\">\n",
              "      <th></th>\n",
              "      <th>A</th>\n",
              "      <th>C</th>\n",
              "      <th>E</th>\n",
              "      <th>H</th>\n",
              "      <th>K</th>\n",
              "      <th>N</th>\n",
              "      <th>Class</th>\n",
              "    </tr>\n",
              "  </thead>\n",
              "  <tbody>\n",
              "    <tr>\n",
              "      <th>512016</th>\n",
              "      <td>230.112441</td>\n",
              "      <td>224.960377</td>\n",
              "      <td>124.450080</td>\n",
              "      <td>208.680709</td>\n",
              "      <td>206.293291</td>\n",
              "      <td>134.148450</td>\n",
              "      <td>2</td>\n",
              "    </tr>\n",
              "    <tr>\n",
              "      <th>1052460</th>\n",
              "      <td>-63.987924</td>\n",
              "      <td>-44.613475</td>\n",
              "      <td>-17.520819</td>\n",
              "      <td>-10.606659</td>\n",
              "      <td>50.504001</td>\n",
              "      <td>40.533964</td>\n",
              "      <td>2</td>\n",
              "    </tr>\n",
              "    <tr>\n",
              "      <th>914029</th>\n",
              "      <td>-37.996257</td>\n",
              "      <td>12.750275</td>\n",
              "      <td>-23.663272</td>\n",
              "      <td>-22.725101</td>\n",
              "      <td>-0.931928</td>\n",
              "      <td>-13.166034</td>\n",
              "      <td>2</td>\n",
              "    </tr>\n",
              "    <tr>\n",
              "      <th>29378</th>\n",
              "      <td>-34.474782</td>\n",
              "      <td>15.025885</td>\n",
              "      <td>-26.595210</td>\n",
              "      <td>-28.362149</td>\n",
              "      <td>1.302834</td>\n",
              "      <td>-8.530303</td>\n",
              "      <td>2</td>\n",
              "    </tr>\n",
              "    <tr>\n",
              "      <th>76450</th>\n",
              "      <td>-40.234858</td>\n",
              "      <td>14.958358</td>\n",
              "      <td>-26.016517</td>\n",
              "      <td>-26.860865</td>\n",
              "      <td>3.498730</td>\n",
              "      <td>-0.461116</td>\n",
              "      <td>3</td>\n",
              "    </tr>\n",
              "  </tbody>\n",
              "</table>\n",
              "</div>"
            ],
            "text/plain": [
              "                  A           C           E  ...           K           N  Class\n",
              "512016   230.112441  224.960377  124.450080  ...  206.293291  134.148450      2\n",
              "1052460  -63.987924  -44.613475  -17.520819  ...   50.504001   40.533964      2\n",
              "914029   -37.996257   12.750275  -23.663272  ...   -0.931928  -13.166034      2\n",
              "29378    -34.474782   15.025885  -26.595210  ...    1.302834   -8.530303      2\n",
              "76450    -40.234858   14.958358  -26.016517  ...    3.498730   -0.461116      3\n",
              "\n",
              "[5 rows x 7 columns]"
            ]
          },
          "metadata": {
            "tags": []
          },
          "execution_count": 173
        }
      ]
    },
    {
      "cell_type": "code",
      "metadata": {
        "colab": {
          "base_uri": "https://localhost:8080/"
        },
        "id": "2pTK2aI8Df82",
        "outputId": "c0deb618-3fb4-444d-8ae6-831808679198"
      },
      "source": [
        "#Calculating the accuracy for the dataset considering only the best features from the correlation of total dataset\n",
        "to_keep_total = ['A','C','E','H','K','N']\n",
        "pipeline_total = PMMLPipeline([('mapper',DataFrameMapper([(X_total_train[to_keep_total].columns,[StandardScaler()])])),('pca',PCA(n_components=1)),('classifier',RandomForestClassifier(max_depth=2,n_estimators=10))])\n",
        "pipeline_total.fit(train_total_data,train_total_data['Class'])\n",
        "results = pipeline_total.predict(X_total_test)\n",
        "actual = np.concatenate(y_total_test.values)\n",
        "print('Accuracy:',metrics.accuracy_score(actual, results))"
      ],
      "execution_count": null,
      "outputs": [
        {
          "output_type": "stream",
          "text": [
            "Accuracy: 0.49925416666666667\n"
          ],
          "name": "stdout"
        }
      ]
    },
    {
      "cell_type": "markdown",
      "metadata": {
        "id": "e-G0B7y4YeZb"
      },
      "source": [
        "Performing MinMaxscaling and kbest on the entire dataset to get the best features from the dataset"
      ]
    },
    {
      "cell_type": "code",
      "metadata": {
        "colab": {
          "base_uri": "https://localhost:8080/",
          "height": 224
        },
        "id": "06LnKQwopVDT",
        "outputId": "34ea2738-957d-47b9-bc41-cb60b9c9f860"
      },
      "source": [
        "#Taking the complete dataset\n",
        "df_class1 = pmml_df.copy(deep=True)\n",
        "df_class1.head()"
      ],
      "execution_count": null,
      "outputs": [
        {
          "output_type": "execute_result",
          "data": {
            "text/html": [
              "<div>\n",
              "<style scoped>\n",
              "    .dataframe tbody tr th:only-of-type {\n",
              "        vertical-align: middle;\n",
              "    }\n",
              "\n",
              "    .dataframe tbody tr th {\n",
              "        vertical-align: top;\n",
              "    }\n",
              "\n",
              "    .dataframe thead th {\n",
              "        text-align: right;\n",
              "    }\n",
              "</style>\n",
              "<table border=\"1\" class=\"dataframe\">\n",
              "  <thead>\n",
              "    <tr style=\"text-align: right;\">\n",
              "      <th></th>\n",
              "      <th>A</th>\n",
              "      <th>B</th>\n",
              "      <th>C</th>\n",
              "      <th>D</th>\n",
              "      <th>E</th>\n",
              "      <th>F</th>\n",
              "      <th>G</th>\n",
              "      <th>H</th>\n",
              "      <th>I</th>\n",
              "      <th>J</th>\n",
              "      <th>K</th>\n",
              "      <th>L</th>\n",
              "      <th>M</th>\n",
              "      <th>N</th>\n",
              "      <th>O</th>\n",
              "      <th>Class</th>\n",
              "    </tr>\n",
              "  </thead>\n",
              "  <tbody>\n",
              "    <tr>\n",
              "      <th>0</th>\n",
              "      <td>231.420023</td>\n",
              "      <td>-12.210984</td>\n",
              "      <td>217.624839</td>\n",
              "      <td>-15.611916</td>\n",
              "      <td>140.047185</td>\n",
              "      <td>76.904999</td>\n",
              "      <td>131.591871</td>\n",
              "      <td>198.160805</td>\n",
              "      <td>82.873279</td>\n",
              "      <td>127.350084</td>\n",
              "      <td>224.592926</td>\n",
              "      <td>-5.992983</td>\n",
              "      <td>-14.689648</td>\n",
              "      <td>143.072058</td>\n",
              "      <td>153.439659</td>\n",
              "      <td>2</td>\n",
              "    </tr>\n",
              "    <tr>\n",
              "      <th>1</th>\n",
              "      <td>-38.019270</td>\n",
              "      <td>-14.195695</td>\n",
              "      <td>9.583547</td>\n",
              "      <td>22.293822</td>\n",
              "      <td>-25.578283</td>\n",
              "      <td>-18.373955</td>\n",
              "      <td>-0.094457</td>\n",
              "      <td>-33.711852</td>\n",
              "      <td>-8.356041</td>\n",
              "      <td>23.792402</td>\n",
              "      <td>4.199023</td>\n",
              "      <td>2.809159</td>\n",
              "      <td>-59.330681</td>\n",
              "      <td>-11.685950</td>\n",
              "      <td>1.317104</td>\n",
              "      <td>3</td>\n",
              "    </tr>\n",
              "    <tr>\n",
              "      <th>2</th>\n",
              "      <td>-39.197085</td>\n",
              "      <td>-20.418850</td>\n",
              "      <td>21.023083</td>\n",
              "      <td>19.790280</td>\n",
              "      <td>-25.902587</td>\n",
              "      <td>-19.189004</td>\n",
              "      <td>-2.953836</td>\n",
              "      <td>-25.299219</td>\n",
              "      <td>-6.612401</td>\n",
              "      <td>26.285392</td>\n",
              "      <td>5.911292</td>\n",
              "      <td>6.191587</td>\n",
              "      <td>-56.924996</td>\n",
              "      <td>-4.675187</td>\n",
              "      <td>-1.027830</td>\n",
              "      <td>2</td>\n",
              "    </tr>\n",
              "    <tr>\n",
              "      <th>3</th>\n",
              "      <td>221.630408</td>\n",
              "      <td>-5.785352</td>\n",
              "      <td>216.725322</td>\n",
              "      <td>-9.900781</td>\n",
              "      <td>126.795177</td>\n",
              "      <td>85.122288</td>\n",
              "      <td>108.857593</td>\n",
              "      <td>197.640135</td>\n",
              "      <td>82.560019</td>\n",
              "      <td>157.105143</td>\n",
              "      <td>212.989231</td>\n",
              "      <td>-3.621070</td>\n",
              "      <td>-15.469156</td>\n",
              "      <td>135.265859</td>\n",
              "      <td>149.212489</td>\n",
              "      <td>2</td>\n",
              "    </tr>\n",
              "    <tr>\n",
              "      <th>4</th>\n",
              "      <td>228.558412</td>\n",
              "      <td>-12.447710</td>\n",
              "      <td>204.637218</td>\n",
              "      <td>-13.277704</td>\n",
              "      <td>138.930529</td>\n",
              "      <td>91.101870</td>\n",
              "      <td>115.598954</td>\n",
              "      <td>209.300011</td>\n",
              "      <td>89.961688</td>\n",
              "      <td>130.299732</td>\n",
              "      <td>201.795100</td>\n",
              "      <td>-1.573922</td>\n",
              "      <td>-15.128603</td>\n",
              "      <td>148.368622</td>\n",
              "      <td>147.492663</td>\n",
              "      <td>3</td>\n",
              "    </tr>\n",
              "  </tbody>\n",
              "</table>\n",
              "</div>"
            ],
            "text/plain": [
              "            A          B           C  ...           N           O  Class\n",
              "0  231.420023 -12.210984  217.624839  ...  143.072058  153.439659      2\n",
              "1  -38.019270 -14.195695    9.583547  ...  -11.685950    1.317104      3\n",
              "2  -39.197085 -20.418850   21.023083  ...   -4.675187   -1.027830      2\n",
              "3  221.630408  -5.785352  216.725322  ...  135.265859  149.212489      2\n",
              "4  228.558412 -12.447710  204.637218  ...  148.368622  147.492663      3\n",
              "\n",
              "[5 rows x 16 columns]"
            ]
          },
          "metadata": {
            "tags": []
          },
          "execution_count": 151
        }
      ]
    },
    {
      "cell_type": "code",
      "metadata": {
        "colab": {
          "base_uri": "https://localhost:8080/"
        },
        "id": "jsiaqcjMZFbA",
        "outputId": "838bdc06-437f-49df-c6e6-62e7e1784101"
      },
      "source": [
        "df_class1['Class'].unique()"
      ],
      "execution_count": null,
      "outputs": [
        {
          "output_type": "execute_result",
          "data": {
            "text/plain": [
              "array([2, 3, 1])"
            ]
          },
          "metadata": {
            "tags": []
          },
          "execution_count": 152
        }
      ]
    },
    {
      "cell_type": "code",
      "metadata": {
        "id": "qwSgkzyPpf51"
      },
      "source": [
        "X_class123 = df_class1.drop(['Class'], axis=1)\n",
        "y_class123 = df_class1['Class']"
      ],
      "execution_count": null,
      "outputs": []
    },
    {
      "cell_type": "code",
      "metadata": {
        "colab": {
          "base_uri": "https://localhost:8080/"
        },
        "id": "0GQjIZWmlUbW",
        "outputId": "f5f77955-92d4-4129-bbdb-c9e4c1eaacf5"
      },
      "source": [
        "from sklearn.preprocessing import MinMaxScaler\n",
        "#Performing MinMaxScaler\n",
        "scaler = MinMaxScaler()\n",
        "X_class123_scaled = scaler.fit(X_class123).transform(X_class123)\n",
        "X_class123_scaled"
      ],
      "execution_count": null,
      "outputs": [
        {
          "output_type": "execute_result",
          "data": {
            "text/plain": [
              "array([[0.89073462, 0.80987235, 0.8779829 , ..., 0.72740866, 0.82026832,\n",
              "        0.85913693],\n",
              "       [0.10258527, 0.78723745, 0.21941259, ..., 0.24100718, 0.04457839,\n",
              "        0.07310273],\n",
              "       [0.09913998, 0.71626466, 0.2556253 , ..., 0.26721914, 0.07971828,\n",
              "        0.0609862 ],\n",
              "       ...,\n",
              "       [0.86894928, 0.75106377, 0.86598024, ..., 0.72631794, 0.8528543 ,\n",
              "        0.81182299],\n",
              "       [0.04370846, 0.46993384, 0.05424333, ..., 0.24168541, 0.27271645,\n",
              "        0.34996566],\n",
              "       [0.94234337, 0.87639288, 0.86258877, ..., 0.61200446, 0.75515142,\n",
              "        0.79526219]])"
            ]
          },
          "metadata": {
            "tags": []
          },
          "execution_count": 154
        }
      ]
    },
    {
      "cell_type": "code",
      "metadata": {
        "colab": {
          "base_uri": "https://localhost:8080/"
        },
        "id": "y7AdWVSalfeR",
        "outputId": "a1d5149a-9d24-46c7-995b-656aa3fb76e1"
      },
      "source": [
        "print(X_class123_scaled[0])"
      ],
      "execution_count": null,
      "outputs": [
        {
          "output_type": "stream",
          "text": [
            "[0.89073462 0.80987235 0.8779829  0.71654357 0.90861604 0.83052713\n",
            " 0.8518387  0.87368383 0.78048193 0.83263085 0.87148368 0.6727923\n",
            " 0.72740866 0.82026832 0.85913693]\n"
          ],
          "name": "stdout"
        }
      ]
    },
    {
      "cell_type": "code",
      "metadata": {
        "colab": {
          "base_uri": "https://localhost:8080/"
        },
        "id": "IISNeJe6ljR7",
        "outputId": "f164ac99-38ba-471f-d3ae-18f58e036df9"
      },
      "source": [
        "from sklearn.feature_selection import SelectKBest, chi2\n",
        "#Performing KBest feature selection\n",
        "fs = SelectKBest(chi2, k=5).fit_transform(X_class123_scaled, y_class123)\n",
        "fs"
      ],
      "execution_count": null,
      "outputs": [
        {
          "output_type": "execute_result",
          "data": {
            "text/plain": [
              "array([[0.89073462, 0.8779829 , 0.71654357, 0.87368383, 0.78048193],\n",
              "       [0.10258527, 0.21941259, 0.93923052, 0.03176728, 0.07591281],\n",
              "       [0.09913998, 0.2556253 , 0.92452282, 0.06231308, 0.08937904],\n",
              "       ...,\n",
              "       [0.86894928, 0.86598024, 0.73817325, 0.88009701, 0.76335731],\n",
              "       [0.04370846, 0.05424333, 0.08953574, 0.11858609, 0.56500229],\n",
              "       [0.94234337, 0.86258877, 0.71981219, 0.86702489, 0.79852367]])"
            ]
          },
          "metadata": {
            "tags": []
          },
          "execution_count": 156
        }
      ]
    },
    {
      "cell_type": "code",
      "metadata": {
        "colab": {
          "base_uri": "https://localhost:8080/"
        },
        "id": "_hHKr-K6lqIs",
        "outputId": "56030b9f-257c-4276-f1a5-fd659687d56e"
      },
      "source": [
        "print(fs[0])"
      ],
      "execution_count": null,
      "outputs": [
        {
          "output_type": "stream",
          "text": [
            "[0.89073462 0.8779829  0.71654357 0.87368383 0.78048193]\n"
          ],
          "name": "stdout"
        }
      ]
    },
    {
      "cell_type": "markdown",
      "metadata": {
        "id": "vuLB4yWsnrs8"
      },
      "source": [
        "After scaling the dataset using the MinMaxScalar and using the kbest for selecting the features.I am getting A , C , D , H , I features."
      ]
    },
    {
      "cell_type": "code",
      "metadata": {
        "colab": {
          "base_uri": "https://localhost:8080/",
          "height": 204
        },
        "id": "jxwZyblRnS45",
        "outputId": "4ccdba79-f57c-40f7-89f6-8d894f92cab8"
      },
      "source": [
        "#Training the dataset with the features A C D H I\n",
        "labels = ['A','C','D','H','I']\n",
        "X10 = pd.DataFrame(data=df_class1.drop('Class', axis=1),columns=labels)\n",
        "y10 = pd.DataFrame(data=df_class1['Class'],columns=['Class'])\n",
        "X10_train, X10_test, y10_train, y10_test = train_test_split(X10,y10,test_size=0.2)\n",
        "train10_data = pd.concat([X10_train,y10_train],axis=1)\n",
        "train10_data.head()"
      ],
      "execution_count": null,
      "outputs": [
        {
          "output_type": "execute_result",
          "data": {
            "text/html": [
              "<div>\n",
              "<style scoped>\n",
              "    .dataframe tbody tr th:only-of-type {\n",
              "        vertical-align: middle;\n",
              "    }\n",
              "\n",
              "    .dataframe tbody tr th {\n",
              "        vertical-align: top;\n",
              "    }\n",
              "\n",
              "    .dataframe thead th {\n",
              "        text-align: right;\n",
              "    }\n",
              "</style>\n",
              "<table border=\"1\" class=\"dataframe\">\n",
              "  <thead>\n",
              "    <tr style=\"text-align: right;\">\n",
              "      <th></th>\n",
              "      <th>A</th>\n",
              "      <th>C</th>\n",
              "      <th>D</th>\n",
              "      <th>H</th>\n",
              "      <th>I</th>\n",
              "      <th>Class</th>\n",
              "    </tr>\n",
              "  </thead>\n",
              "  <tbody>\n",
              "    <tr>\n",
              "      <th>845083</th>\n",
              "      <td>233.731660</td>\n",
              "      <td>215.821624</td>\n",
              "      <td>-12.304190</td>\n",
              "      <td>192.338994</td>\n",
              "      <td>88.054537</td>\n",
              "      <td>3</td>\n",
              "    </tr>\n",
              "    <tr>\n",
              "      <th>944495</th>\n",
              "      <td>-25.174129</td>\n",
              "      <td>11.070344</td>\n",
              "      <td>15.243019</td>\n",
              "      <td>-28.600797</td>\n",
              "      <td>-8.885604</td>\n",
              "      <td>2</td>\n",
              "    </tr>\n",
              "    <tr>\n",
              "      <th>993722</th>\n",
              "      <td>-30.358624</td>\n",
              "      <td>11.183767</td>\n",
              "      <td>19.055807</td>\n",
              "      <td>-28.003526</td>\n",
              "      <td>-9.399976</td>\n",
              "      <td>3</td>\n",
              "    </tr>\n",
              "    <tr>\n",
              "      <th>204702</th>\n",
              "      <td>-38.872679</td>\n",
              "      <td>8.783887</td>\n",
              "      <td>17.836025</td>\n",
              "      <td>-18.870303</td>\n",
              "      <td>-6.800224</td>\n",
              "      <td>2</td>\n",
              "    </tr>\n",
              "    <tr>\n",
              "      <th>1176883</th>\n",
              "      <td>-37.594810</td>\n",
              "      <td>5.615331</td>\n",
              "      <td>23.948040</td>\n",
              "      <td>-26.408375</td>\n",
              "      <td>-9.639009</td>\n",
              "      <td>2</td>\n",
              "    </tr>\n",
              "  </tbody>\n",
              "</table>\n",
              "</div>"
            ],
            "text/plain": [
              "                  A           C          D           H          I  Class\n",
              "845083   233.731660  215.821624 -12.304190  192.338994  88.054537      3\n",
              "944495   -25.174129   11.070344  15.243019  -28.600797  -8.885604      2\n",
              "993722   -30.358624   11.183767  19.055807  -28.003526  -9.399976      3\n",
              "204702   -38.872679    8.783887  17.836025  -18.870303  -6.800224      2\n",
              "1176883  -37.594810    5.615331  23.948040  -26.408375  -9.639009      2"
            ]
          },
          "metadata": {
            "tags": []
          },
          "execution_count": 158
        }
      ]
    },
    {
      "cell_type": "code",
      "metadata": {
        "colab": {
          "base_uri": "https://localhost:8080/"
        },
        "id": "yU6doZU_a1zk",
        "outputId": "85a16b4b-9729-4b3a-935e-f0b68fba68bd"
      },
      "source": [
        "#Calculating the accuracy for the dataset considering only the KBest features\n",
        "to_keep10 = ['A','C','D','H','I']\n",
        "pipeline10 = PMMLPipeline([('mapper',DataFrameMapper([(X10_train[to_keep10].columns,[StandardScaler()])])),('pca',PCA(n_components=1)),('classifier',RandomForestClassifier(max_depth=2,n_estimators=10))])\n",
        "pipeline10.fit(train10_data,train10_data['Class'])\n",
        "results = pipeline10.predict(X10_test)\n",
        "actual = np.concatenate(y10_test.values)\n",
        "print('Accuracy:',metrics.accuracy_score(actual, results))"
      ],
      "execution_count": null,
      "outputs": [
        {
          "output_type": "stream",
          "text": [
            "Accuracy: 0.49964166666666665\n"
          ],
          "name": "stdout"
        }
      ]
    },
    {
      "cell_type": "code",
      "metadata": {
        "colab": {
          "base_uri": "https://localhost:8080/",
          "height": 235
        },
        "id": "oGakEgFUtBO0",
        "outputId": "62fc9f38-a43f-44c9-c68c-bb329351b512"
      },
      "source": [
        "#Finding the correlation for the dataset which are containing best features\n",
        "train10_data.corr()"
      ],
      "execution_count": null,
      "outputs": [
        {
          "output_type": "execute_result",
          "data": {
            "text/html": [
              "<div>\n",
              "<style scoped>\n",
              "    .dataframe tbody tr th:only-of-type {\n",
              "        vertical-align: middle;\n",
              "    }\n",
              "\n",
              "    .dataframe tbody tr th {\n",
              "        vertical-align: top;\n",
              "    }\n",
              "\n",
              "    .dataframe thead th {\n",
              "        text-align: right;\n",
              "    }\n",
              "</style>\n",
              "<table border=\"1\" class=\"dataframe\">\n",
              "  <thead>\n",
              "    <tr style=\"text-align: right;\">\n",
              "      <th></th>\n",
              "      <th>A</th>\n",
              "      <th>C</th>\n",
              "      <th>D</th>\n",
              "      <th>H</th>\n",
              "      <th>I</th>\n",
              "      <th>Class</th>\n",
              "    </tr>\n",
              "  </thead>\n",
              "  <tbody>\n",
              "    <tr>\n",
              "      <th>A</th>\n",
              "      <td>1.000000</td>\n",
              "      <td>0.991992</td>\n",
              "      <td>0.071745</td>\n",
              "      <td>0.988791</td>\n",
              "      <td>0.818106</td>\n",
              "      <td>-0.000721</td>\n",
              "    </tr>\n",
              "    <tr>\n",
              "      <th>C</th>\n",
              "      <td>0.991992</td>\n",
              "      <td>1.000000</td>\n",
              "      <td>0.176698</td>\n",
              "      <td>0.968298</td>\n",
              "      <td>0.753094</td>\n",
              "      <td>-0.000771</td>\n",
              "    </tr>\n",
              "    <tr>\n",
              "      <th>D</th>\n",
              "      <td>0.071745</td>\n",
              "      <td>0.176698</td>\n",
              "      <td>1.000000</td>\n",
              "      <td>-0.062152</td>\n",
              "      <td>-0.502739</td>\n",
              "      <td>0.000406</td>\n",
              "    </tr>\n",
              "    <tr>\n",
              "      <th>H</th>\n",
              "      <td>0.988791</td>\n",
              "      <td>0.968298</td>\n",
              "      <td>-0.062152</td>\n",
              "      <td>1.000000</td>\n",
              "      <td>0.885833</td>\n",
              "      <td>-0.000776</td>\n",
              "    </tr>\n",
              "    <tr>\n",
              "      <th>I</th>\n",
              "      <td>0.818106</td>\n",
              "      <td>0.753094</td>\n",
              "      <td>-0.502739</td>\n",
              "      <td>0.885833</td>\n",
              "      <td>1.000000</td>\n",
              "      <td>-0.000925</td>\n",
              "    </tr>\n",
              "    <tr>\n",
              "      <th>Class</th>\n",
              "      <td>-0.000721</td>\n",
              "      <td>-0.000771</td>\n",
              "      <td>0.000406</td>\n",
              "      <td>-0.000776</td>\n",
              "      <td>-0.000925</td>\n",
              "      <td>1.000000</td>\n",
              "    </tr>\n",
              "  </tbody>\n",
              "</table>\n",
              "</div>"
            ],
            "text/plain": [
              "              A         C         D         H         I     Class\n",
              "A      1.000000  0.991992  0.071745  0.988791  0.818106 -0.000721\n",
              "C      0.991992  1.000000  0.176698  0.968298  0.753094 -0.000771\n",
              "D      0.071745  0.176698  1.000000 -0.062152 -0.502739  0.000406\n",
              "H      0.988791  0.968298 -0.062152  1.000000  0.885833 -0.000776\n",
              "I      0.818106  0.753094 -0.502739  0.885833  1.000000 -0.000925\n",
              "Class -0.000721 -0.000771  0.000406 -0.000776 -0.000925  1.000000"
            ]
          },
          "metadata": {
            "tags": []
          },
          "execution_count": 160
        }
      ]
    },
    {
      "cell_type": "markdown",
      "metadata": {
        "id": "U1fEmlR05s2z"
      },
      "source": [
        "Considering the correlation for the dataset with the KBest features my assumptions are A,C,H have the correlation nearly 100% considering the correlation between the features."
      ]
    },
    {
      "cell_type": "markdown",
      "metadata": {
        "id": "DvaTJtvFKA4G"
      },
      "source": [
        "**Final Model: Training and Validation**\n",
        "\n",
        "> I have created a final pipeline with the column selector having A,C,H features which i got it from the correlation which is performed on using the KBest method\n",
        "\n"
      ]
    },
    {
      "cell_type": "code",
      "metadata": {
        "colab": {
          "base_uri": "https://localhost:8080/"
        },
        "id": "hsZPi8-zOgNK",
        "outputId": "4420cd59-3b2d-4366-cfbe-387ad40da248"
      },
      "source": [
        "final_pipeline= Pipeline(steps=[('scaler',StandardScaler()), ('pca',PCA(n_components=1)), ('classifier',DecisionTreeClassifier(max_depth=3))])\n",
        "final_df_model= final_pipeline.fit(P_train, q_train)\n",
        "print(final_df_model.score(P_test,q_test)) "
      ],
      "execution_count": null,
      "outputs": [
        {
          "output_type": "stream",
          "text": [
            "0.49755\n"
          ],
          "name": "stdout"
        }
      ]
    },
    {
      "cell_type": "markdown",
      "metadata": {
        "id": "eLx_loDiJaMK"
      },
      "source": [
        "**ONNX Runtime**"
      ]
    },
    {
      "cell_type": "code",
      "metadata": {
        "id": "IZaiE0eOJJto"
      },
      "source": [
        "num_featurex=15"
      ],
      "execution_count": null,
      "outputs": []
    },
    {
      "cell_type": "code",
      "metadata": {
        "id": "remOj0cX-ai2"
      },
      "source": [
        "onnx_model_path='/content/drive/My Drive/AmruthamLakshmiHimaja_final_model.onnx'\n",
        "in_types = [('float_input', FloatTensorType([None, num_featurex]))] \n",
        "model_onnx = convert_sklearn(final_pipeline,initial_types=in_types)\n",
        "with open(onnx_model_path, \"wb\") as f:\n",
        "    f.write(model_onnx.SerializeToString())"
      ],
      "execution_count": null,
      "outputs": []
    },
    {
      "cell_type": "code",
      "metadata": {
        "colab": {
          "base_uri": "https://localhost:8080/"
        },
        "id": "6Y4vRHWq_I7q",
        "outputId": "cac9b691-40b2-4120-8d4d-ee01bc06d4ab"
      },
      "source": [
        "import onnxruntime as rt\n",
        "session_onnx = rt.InferenceSession(onnx_model_path)\n",
        "input_name=session_onnx.get_inputs()[0].name\n",
        "label_name=session_onnx.get_inputs()[0].name\n",
        "predict_onnx = session_onnx.run(None, {input_name: P_test.values.astype(np.float32)})[0]\n",
        "print(\"predict\", predict_onnx)"
      ],
      "execution_count": null,
      "outputs": [
        {
          "output_type": "stream",
          "text": [
            "predict [2 2 2 ... 2 2 2]\n"
          ],
          "name": "stdout"
        }
      ]
    },
    {
      "cell_type": "code",
      "metadata": {
        "colab": {
          "base_uri": "https://localhost:8080/",
          "height": 1000
        },
        "id": "xpWFHJSu_X3Q",
        "outputId": "fe16a9aa-57ac-4978-89dc-d574e1ee7dc2"
      },
      "source": [
        "py_graph = GetPydotGraph(model_onnx.graph,name=model_onnx.graph.name,rankdir=\"TB\",node_producer=GetOpNodeProducer(\"docstring\",color=\"yellow\",fillcolor=\"yellow\",style=\"filled\"))\n",
        "graphviz.Source(py_graph)"
      ],
      "execution_count": null,
      "outputs": [
        {
          "output_type": "execute_result",
          "data": {
            "text/plain": [
              "<graphviz.files.Source at 0x7f1a79a0a390>"
            ],
            "image/svg+xml": "<?xml version=\"1.0\" encoding=\"UTF-8\" standalone=\"no\"?>\n<!DOCTYPE svg PUBLIC \"-//W3C//DTD SVG 1.1//EN\"\n \"http://www.w3.org/Graphics/SVG/1.1/DTD/svg11.dtd\">\n<!-- Generated by graphviz version 2.40.1 (20161225.0304)\n -->\n<!-- Title: d40ddb3f116a46dd840fed504824b190 Pages: 1 -->\n<svg width=\"489pt\" height=\"1022pt\"\n viewBox=\"0.00 0.00 488.50 1022.41\" xmlns=\"http://www.w3.org/2000/svg\" xmlns:xlink=\"http://www.w3.org/1999/xlink\">\n<g id=\"graph0\" class=\"graph\" transform=\"scale(1 1) rotate(0) translate(4 1018.4062)\">\n<title>d40ddb3f116a46dd840fed504824b190</title>\n<polygon fill=\"#ffffff\" stroke=\"transparent\" points=\"-4,4 -4,-1018.4062 484.5031,-1018.4062 484.5031,4 -4,4\"/>\n<!-- Scaler/Scaler (op#0)\\n input0 float_input\\n output0 variable -->\n<g id=\"node1\" class=\"node\">\n<title>Scaler/Scaler (op#0)\\n input0 float_input\\n output0 variable</title>\n<g id=\"a_node1\"><a xlink:href=\"javascript:alert('')\" xlink:title=\"Scaler/Scaler (op#0)\\n input0 float_input\\n output0 variable\">\n<ellipse fill=\"#ffff00\" stroke=\"#ffff00\" cx=\"357.3452\" cy=\"-904.9295\" rx=\"93.1765\" ry=\"37.4533\"/>\n<text text-anchor=\"middle\" x=\"357.3452\" y=\"-916.2295\" font-family=\"Times,serif\" font-size=\"14.00\" fill=\"#000000\">Scaler/Scaler (op#0)</text>\n<text text-anchor=\"middle\" x=\"357.3452\" y=\"-901.2295\" font-family=\"Times,serif\" font-size=\"14.00\" fill=\"#000000\"> input0 float_input</text>\n<text text-anchor=\"middle\" x=\"357.3452\" y=\"-886.2295\" font-family=\"Times,serif\" font-size=\"14.00\" fill=\"#000000\"> output0 variable</text>\n</a>\n</g>\n</g>\n<!-- variable0 -->\n<g id=\"node3\" class=\"node\">\n<title>variable0</title>\n<polygon fill=\"none\" stroke=\"#000000\" points=\"401.0786,-805.997 401.0786,-820.9087 375.4602,-831.4529 339.2303,-831.4529 313.6119,-820.9087 313.6119,-805.997 339.2303,-795.4529 375.4602,-795.4529 401.0786,-805.997\"/>\n<text text-anchor=\"middle\" x=\"357.3452\" y=\"-809.7529\" font-family=\"Times,serif\" font-size=\"14.00\" fill=\"#000000\">variable</text>\n</g>\n<!-- Scaler/Scaler (op#0)\\n input0 float_input\\n output0 variable&#45;&gt;variable0 -->\n<g id=\"edge2\" class=\"edge\">\n<title>Scaler/Scaler (op#0)\\n input0 float_input\\n output0 variable&#45;&gt;variable0</title>\n<path fill=\"none\" stroke=\"#000000\" d=\"M357.3452,-867.1944C357.3452,-858.8031 357.3452,-850.041 357.3452,-842.0855\"/>\n<polygon fill=\"#000000\" stroke=\"#000000\" points=\"360.8453,-841.8476 357.3452,-831.8476 353.8453,-841.8477 360.8453,-841.8476\"/>\n</g>\n<!-- float_input0 -->\n<g id=\"node2\" class=\"node\">\n<title>float_input0</title>\n<polygon fill=\"none\" stroke=\"#000000\" points=\"413.4049,-988.9504 413.4049,-1003.862 380.5659,-1014.4062 334.1246,-1014.4062 301.2856,-1003.862 301.2856,-988.9504 334.1246,-978.4062 380.5659,-978.4062 413.4049,-988.9504\"/>\n<text text-anchor=\"middle\" x=\"357.3452\" y=\"-992.7062\" font-family=\"Times,serif\" font-size=\"14.00\" fill=\"#000000\">float_input</text>\n</g>\n<!-- float_input0&#45;&gt;Scaler/Scaler (op#0)\\n input0 float_input\\n output0 variable -->\n<g id=\"edge1\" class=\"edge\">\n<title>float_input0&#45;&gt;Scaler/Scaler (op#0)\\n input0 float_input\\n output0 variable</title>\n<path fill=\"none\" stroke=\"#000000\" d=\"M357.3452,-978.3334C357.3452,-970.9185 357.3452,-961.9498 357.3452,-952.8652\"/>\n<polygon fill=\"#000000\" stroke=\"#000000\" points=\"360.8453,-952.6358 357.3452,-942.6358 353.8453,-952.6359 360.8453,-952.6358\"/>\n</g>\n<!-- Sub/Sub (op#1)\\n input0 variable\\n input1 mean\\n output0 sub_result -->\n<g id=\"node4\" class=\"node\">\n<title>Sub/Sub (op#1)\\n input0 variable\\n input1 mean\\n output0 sub_result</title>\n<g id=\"a_node4\"><a xlink:href=\"javascript:alert('')\" xlink:title=\"Sub/Sub (op#1)\\n input0 variable\\n input1 mean\\n output0 sub_result\">\n<ellipse fill=\"#ffff00\" stroke=\"#ffff00\" cx=\"309.3452\" cy=\"-711.3696\" rx=\"90.5193\" ry=\"48.1667\"/>\n<text text-anchor=\"middle\" x=\"309.3452\" y=\"-730.1696\" font-family=\"Times,serif\" font-size=\"14.00\" fill=\"#000000\">Sub/Sub (op#1)</text>\n<text text-anchor=\"middle\" x=\"309.3452\" y=\"-715.1696\" font-family=\"Times,serif\" font-size=\"14.00\" fill=\"#000000\"> input0 variable</text>\n<text text-anchor=\"middle\" x=\"309.3452\" y=\"-700.1696\" font-family=\"Times,serif\" font-size=\"14.00\" fill=\"#000000\"> input1 mean</text>\n<text text-anchor=\"middle\" x=\"309.3452\" y=\"-685.1696\" font-family=\"Times,serif\" font-size=\"14.00\" fill=\"#000000\"> output0 sub_result</text>\n</a>\n</g>\n</g>\n<!-- variable0&#45;&gt;Sub/Sub (op#1)\\n input0 variable\\n input1 mean\\n output0 sub_result -->\n<g id=\"edge3\" class=\"edge\">\n<title>variable0&#45;&gt;Sub/Sub (op#1)\\n input0 variable\\n input1 mean\\n output0 sub_result</title>\n<path fill=\"none\" stroke=\"#000000\" d=\"M348.7638,-795.2024C345.0476,-787.299 340.476,-777.5766 335.7789,-767.5869\"/>\n<polygon fill=\"#000000\" stroke=\"#000000\" points=\"338.8733,-765.9424 331.4508,-758.3822 332.5386,-768.921 338.8733,-765.9424\"/>\n</g>\n<!-- sub_result0 -->\n<g id=\"node6\" class=\"node\">\n<title>sub_result0</title>\n<polygon fill=\"none\" stroke=\"#000000\" points=\"361.8702,-601.8305 361.8702,-616.7422 331.1018,-627.2864 287.5887,-627.2864 256.8203,-616.7422 256.8203,-601.8305 287.5887,-591.2864 331.1018,-591.2864 361.8702,-601.8305\"/>\n<text text-anchor=\"middle\" x=\"309.3452\" y=\"-605.5864\" font-family=\"Times,serif\" font-size=\"14.00\" fill=\"#000000\">sub_result</text>\n</g>\n<!-- Sub/Sub (op#1)\\n input0 variable\\n input1 mean\\n output0 sub_result&#45;&gt;sub_result0 -->\n<g id=\"edge5\" class=\"edge\">\n<title>Sub/Sub (op#1)\\n input0 variable\\n input1 mean\\n output0 sub_result&#45;&gt;sub_result0</title>\n<path fill=\"none\" stroke=\"#000000\" d=\"M309.3452,-663.0185C309.3452,-654.3737 309.3452,-645.6257 309.3452,-637.7701\"/>\n<polygon fill=\"#000000\" stroke=\"#000000\" points=\"312.8453,-637.7045 309.3452,-627.7045 305.8453,-637.7046 312.8453,-637.7045\"/>\n</g>\n<!-- mean0 -->\n<g id=\"node5\" class=\"node\">\n<title>mean0</title>\n<polygon fill=\"none\" stroke=\"#000000\" points=\"295.4737,-805.997 295.4737,-820.9087 276.0675,-831.4529 248.623,-831.4529 229.2168,-820.9087 229.2168,-805.997 248.623,-795.4529 276.0675,-795.4529 295.4737,-805.997\"/>\n<text text-anchor=\"middle\" x=\"262.3452\" y=\"-809.7529\" font-family=\"Times,serif\" font-size=\"14.00\" fill=\"#000000\">mean</text>\n</g>\n<!-- mean0&#45;&gt;Sub/Sub (op#1)\\n input0 variable\\n input1 mean\\n output0 sub_result -->\n<g id=\"edge4\" class=\"edge\">\n<title>mean0&#45;&gt;Sub/Sub (op#1)\\n input0 variable\\n input1 mean\\n output0 sub_result</title>\n<path fill=\"none\" stroke=\"#000000\" d=\"M270.7479,-795.2024C274.3867,-787.299 278.863,-777.5766 283.4623,-767.5869\"/>\n<polygon fill=\"#000000\" stroke=\"#000000\" points=\"286.6973,-768.9295 287.7003,-758.3822 280.3389,-766.0019 286.6973,-768.9295\"/>\n</g>\n<!-- MatMul/MatMul (op#2)\\n input0 sub_result\\n input1 transform_matrix\\n output0 variable1 -->\n<g id=\"node7\" class=\"node\">\n<title>MatMul/MatMul (op#2)\\n input0 sub_result\\n input1 transform_matrix\\n output0 variable1</title>\n<g id=\"a_node7\"><a xlink:href=\"javascript:alert('')\" xlink:title=\"MatMul/MatMul (op#2)\\n input0 sub_result\\n input1 transform_matrix\\n output0 variable1\">\n<ellipse fill=\"#ffff00\" stroke=\"#ffff00\" cx=\"233.3452\" cy=\"-507.2031\" rx=\"113.6886\" ry=\"48.1667\"/>\n<text text-anchor=\"middle\" x=\"233.3452\" y=\"-526.0031\" font-family=\"Times,serif\" font-size=\"14.00\" fill=\"#000000\">MatMul/MatMul (op#2)</text>\n<text text-anchor=\"middle\" x=\"233.3452\" y=\"-511.0031\" font-family=\"Times,serif\" font-size=\"14.00\" fill=\"#000000\"> input0 sub_result</text>\n<text text-anchor=\"middle\" x=\"233.3452\" y=\"-496.0031\" font-family=\"Times,serif\" font-size=\"14.00\" fill=\"#000000\"> input1 transform_matrix</text>\n<text text-anchor=\"middle\" x=\"233.3452\" y=\"-481.0031\" font-family=\"Times,serif\" font-size=\"14.00\" fill=\"#000000\"> output0 variable1</text>\n</a>\n</g>\n</g>\n<!-- sub_result0&#45;&gt;MatMul/MatMul (op#2)\\n input0 sub_result\\n input1 transform_matrix\\n output0 variable1 -->\n<g id=\"edge6\" class=\"edge\">\n<title>sub_result0&#45;&gt;MatMul/MatMul (op#2)\\n input0 sub_result\\n input1 transform_matrix\\n output0 variable1</title>\n<path fill=\"none\" stroke=\"#000000\" d=\"M295.758,-591.0359C289.4977,-582.6271 281.7044,-572.1592 273.7696,-561.5012\"/>\n<polygon fill=\"#000000\" stroke=\"#000000\" points=\"276.4764,-559.2759 267.6973,-553.3448 270.8616,-563.4561 276.4764,-559.2759\"/>\n</g>\n<!-- variable10 -->\n<g id=\"node9\" class=\"node\">\n<title>variable10</title>\n<polygon fill=\"none\" stroke=\"#000000\" points=\"281.9272,-397.664 281.9272,-412.5757 253.4686,-423.1198 213.2219,-423.1198 184.7632,-412.5757 184.7632,-397.664 213.2219,-387.1198 253.4686,-387.1198 281.9272,-397.664\"/>\n<text text-anchor=\"middle\" x=\"233.3452\" y=\"-401.4198\" font-family=\"Times,serif\" font-size=\"14.00\" fill=\"#000000\">variable1</text>\n</g>\n<!-- MatMul/MatMul (op#2)\\n input0 sub_result\\n input1 transform_matrix\\n output0 variable1&#45;&gt;variable10 -->\n<g id=\"edge8\" class=\"edge\">\n<title>MatMul/MatMul (op#2)\\n input0 sub_result\\n input1 transform_matrix\\n output0 variable1&#45;&gt;variable10</title>\n<path fill=\"none\" stroke=\"#000000\" d=\"M233.3452,-458.852C233.3452,-450.2072 233.3452,-441.4592 233.3452,-433.6036\"/>\n<polygon fill=\"#000000\" stroke=\"#000000\" points=\"236.8453,-433.538 233.3452,-423.538 229.8453,-433.538 236.8453,-433.538\"/>\n</g>\n<!-- transform_matrix0 -->\n<g id=\"node8\" class=\"node\">\n<title>transform_matrix0</title>\n<polygon fill=\"none\" stroke=\"#000000\" points=\"239.0556,-601.8305 239.0556,-616.7422 191.1908,-627.2864 123.4997,-627.2864 75.6348,-616.7422 75.6348,-601.8305 123.4997,-591.2864 191.1908,-591.2864 239.0556,-601.8305\"/>\n<text text-anchor=\"middle\" x=\"157.3452\" y=\"-605.5864\" font-family=\"Times,serif\" font-size=\"14.00\" fill=\"#000000\">transform_matrix</text>\n</g>\n<!-- transform_matrix0&#45;&gt;MatMul/MatMul (op#2)\\n input0 sub_result\\n input1 transform_matrix\\n output0 variable1 -->\n<g id=\"edge7\" class=\"edge\">\n<title>transform_matrix0&#45;&gt;MatMul/MatMul (op#2)\\n input0 sub_result\\n input1 transform_matrix\\n output0 variable1</title>\n<path fill=\"none\" stroke=\"#000000\" d=\"M170.9325,-591.0359C177.1928,-582.6271 184.9861,-572.1592 192.9209,-561.5012\"/>\n<polygon fill=\"#000000\" stroke=\"#000000\" points=\"195.8289,-563.4561 198.9932,-553.3448 190.2141,-559.2759 195.8289,-563.4561\"/>\n</g>\n<!-- TreeEnsembleClassifier/TreeEnsembleClassifier (op#3)\\n input0 variable1\\n output0 label\\n output1 probabilities -->\n<g id=\"node10\" class=\"node\">\n<title>TreeEnsembleClassifier/TreeEnsembleClassifier (op#3)\\n input0 variable1\\n output0 label\\n output1 probabilities</title>\n<g id=\"a_node10\"><a xlink:href=\"javascript:alert('')\" xlink:title=\"TreeEnsembleClassifier/TreeEnsembleClassifier (op#3)\\n input0 variable1\\n output0 label\\n output1 probabilities\">\n<ellipse fill=\"#ffff00\" stroke=\"#ffff00\" cx=\"233.3452\" cy=\"-303.0366\" rx=\"233.1906\" ry=\"48.1667\"/>\n<text text-anchor=\"middle\" x=\"233.3452\" y=\"-321.8366\" font-family=\"Times,serif\" font-size=\"14.00\" fill=\"#000000\">TreeEnsembleClassifier/TreeEnsembleClassifier (op#3)</text>\n<text text-anchor=\"middle\" x=\"233.3452\" y=\"-306.8366\" font-family=\"Times,serif\" font-size=\"14.00\" fill=\"#000000\"> input0 variable1</text>\n<text text-anchor=\"middle\" x=\"233.3452\" y=\"-291.8366\" font-family=\"Times,serif\" font-size=\"14.00\" fill=\"#000000\"> output0 label</text>\n<text text-anchor=\"middle\" x=\"233.3452\" y=\"-276.8366\" font-family=\"Times,serif\" font-size=\"14.00\" fill=\"#000000\"> output1 probabilities</text>\n</a>\n</g>\n</g>\n<!-- variable10&#45;&gt;TreeEnsembleClassifier/TreeEnsembleClassifier (op#3)\\n input0 variable1\\n output0 label\\n output1 probabilities -->\n<g id=\"edge9\" class=\"edge\">\n<title>variable10&#45;&gt;TreeEnsembleClassifier/TreeEnsembleClassifier (op#3)\\n input0 variable1\\n output0 label\\n output1 probabilities</title>\n<path fill=\"none\" stroke=\"#000000\" d=\"M233.3452,-386.8694C233.3452,-379.5413 233.3452,-370.6493 233.3452,-361.4305\"/>\n<polygon fill=\"#000000\" stroke=\"#000000\" points=\"236.8453,-361.3573 233.3452,-351.3573 229.8453,-361.3574 236.8453,-361.3573\"/>\n</g>\n<!-- label0 -->\n<g id=\"node11\" class=\"node\">\n<title>label0</title>\n<polygon fill=\"none\" stroke=\"#000000\" points=\"209.2526,-193.4975 209.2526,-208.4092 191.1475,-218.9533 165.543,-218.9533 147.4378,-208.4092 147.4378,-193.4975 165.543,-182.9533 191.1475,-182.9533 209.2526,-193.4975\"/>\n<text text-anchor=\"middle\" x=\"178.3452\" y=\"-197.2533\" font-family=\"Times,serif\" font-size=\"14.00\" fill=\"#000000\">label</text>\n</g>\n<!-- TreeEnsembleClassifier/TreeEnsembleClassifier (op#3)\\n input0 variable1\\n output0 label\\n output1 probabilities&#45;&gt;label0 -->\n<g id=\"edge10\" class=\"edge\">\n<title>TreeEnsembleClassifier/TreeEnsembleClassifier (op#3)\\n input0 variable1\\n output0 label\\n output1 probabilities&#45;&gt;label0</title>\n<path fill=\"none\" stroke=\"#000000\" d=\"M207.4557,-254.9841C202.4354,-245.666 197.3432,-236.2146 192.8515,-227.8778\"/>\n<polygon fill=\"#000000\" stroke=\"#000000\" points=\"195.8957,-226.1489 188.0713,-219.0054 189.7332,-229.4691 195.8957,-226.1489\"/>\n</g>\n<!-- probabilities0 -->\n<g id=\"node12\" class=\"node\">\n<title>probabilities0</title>\n<polygon fill=\"none\" stroke=\"#000000\" points=\"382.7536,-193.4975 382.7536,-208.4092 346.7814,-218.9533 295.9091,-218.9533 259.9369,-208.4092 259.9369,-193.4975 295.9091,-182.9533 346.7814,-182.9533 382.7536,-193.4975\"/>\n<text text-anchor=\"middle\" x=\"321.3452\" y=\"-197.2533\" font-family=\"Times,serif\" font-size=\"14.00\" fill=\"#000000\">probabilities</text>\n</g>\n<!-- TreeEnsembleClassifier/TreeEnsembleClassifier (op#3)\\n input0 variable1\\n output0 label\\n output1 probabilities&#45;&gt;probabilities0 -->\n<g id=\"edge11\" class=\"edge\">\n<title>TreeEnsembleClassifier/TreeEnsembleClassifier (op#3)\\n input0 variable1\\n output0 label\\n output1 probabilities&#45;&gt;probabilities0</title>\n<path fill=\"none\" stroke=\"#000000\" d=\"M274.2538,-255.5812C282.7761,-245.6949 291.4539,-235.6284 298.9998,-226.8749\"/>\n<polygon fill=\"#000000\" stroke=\"#000000\" points=\"301.6962,-229.1074 305.5745,-219.2479 296.3942,-224.5369 301.6962,-229.1074\"/>\n</g>\n<!-- Cast/Cast (op#4)\\n input0 label\\n output0 output_label -->\n<g id=\"node13\" class=\"node\">\n<title>Cast/Cast (op#4)\\n input0 label\\n output0 output_label</title>\n<g id=\"a_node13\"><a xlink:href=\"javascript:alert('')\" xlink:title=\"Cast/Cast (op#4)\\n input0 label\\n output0 output_label\">\n<ellipse fill=\"#ffff00\" stroke=\"#ffff00\" cx=\"112.3452\" cy=\"-109.4767\" rx=\"99.9045\" ry=\"37.4533\"/>\n<text text-anchor=\"middle\" x=\"112.3452\" y=\"-120.7767\" font-family=\"Times,serif\" font-size=\"14.00\" fill=\"#000000\">Cast/Cast (op#4)</text>\n<text text-anchor=\"middle\" x=\"112.3452\" y=\"-105.7767\" font-family=\"Times,serif\" font-size=\"14.00\" fill=\"#000000\"> input0 label</text>\n<text text-anchor=\"middle\" x=\"112.3452\" y=\"-90.7767\" font-family=\"Times,serif\" font-size=\"14.00\" fill=\"#000000\"> output0 output_label</text>\n</a>\n</g>\n</g>\n<!-- label0&#45;&gt;Cast/Cast (op#4)\\n input0 label\\n output0 output_label -->\n<g id=\"edge12\" class=\"edge\">\n<title>label0&#45;&gt;Cast/Cast (op#4)\\n input0 label\\n output0 output_label</title>\n<path fill=\"none\" stroke=\"#000000\" d=\"M165.3058,-182.8805C159.2586,-174.4991 151.7791,-164.1323 144.3655,-153.8571\"/>\n<polygon fill=\"#000000\" stroke=\"#000000\" points=\"147.1522,-151.7375 138.4628,-145.6758 141.4755,-155.8333 147.1522,-151.7375\"/>\n</g>\n<!-- ZipMap/ZipMap (op#5)\\n input0 probabilities\\n output0 output_probability -->\n<g id=\"node15\" class=\"node\">\n<title>ZipMap/ZipMap (op#5)\\n input0 probabilities\\n output0 output_probability</title>\n<g id=\"a_node15\"><a xlink:href=\"javascript:alert('')\" xlink:title=\"ZipMap/ZipMap (op#5)\\n input0 probabilities\\n output0 output_probability\">\n<ellipse fill=\"#ffff00\" stroke=\"#ffff00\" cx=\"355.3452\" cy=\"-109.4767\" rx=\"125.316\" ry=\"37.4533\"/>\n<text text-anchor=\"middle\" x=\"355.3452\" y=\"-120.7767\" font-family=\"Times,serif\" font-size=\"14.00\" fill=\"#000000\">ZipMap/ZipMap (op#5)</text>\n<text text-anchor=\"middle\" x=\"355.3452\" y=\"-105.7767\" font-family=\"Times,serif\" font-size=\"14.00\" fill=\"#000000\"> input0 probabilities</text>\n<text text-anchor=\"middle\" x=\"355.3452\" y=\"-90.7767\" font-family=\"Times,serif\" font-size=\"14.00\" fill=\"#000000\"> output0 output_probability</text>\n</a>\n</g>\n</g>\n<!-- probabilities0&#45;&gt;ZipMap/ZipMap (op#5)\\n input0 probabilities\\n output0 output_probability -->\n<g id=\"edge14\" class=\"edge\">\n<title>probabilities0&#45;&gt;ZipMap/ZipMap (op#5)\\n input0 probabilities\\n output0 output_probability</title>\n<path fill=\"none\" stroke=\"#000000\" d=\"M328.0625,-182.8805C330.9364,-175.1483 334.4383,-165.7265 337.9622,-156.2456\"/>\n<polygon fill=\"#000000\" stroke=\"#000000\" points=\"341.2677,-157.3982 341.4709,-146.8053 334.7062,-154.9594 341.2677,-157.3982\"/>\n</g>\n<!-- output_label0 -->\n<g id=\"node14\" class=\"node\">\n<title>output_label0</title>\n<polygon fill=\"none\" stroke=\"#000000\" points=\"175.0671,-10.5442 175.0671,-25.4558 138.3255,-36 86.365,-36 49.6234,-25.4558 49.6234,-10.5442 86.365,0 138.3255,0 175.0671,-10.5442\"/>\n<text text-anchor=\"middle\" x=\"112.3452\" y=\"-14.3\" font-family=\"Times,serif\" font-size=\"14.00\" fill=\"#000000\">output_label</text>\n</g>\n<!-- Cast/Cast (op#4)\\n input0 label\\n output0 output_label&#45;&gt;output_label0 -->\n<g id=\"edge13\" class=\"edge\">\n<title>Cast/Cast (op#4)\\n input0 label\\n output0 output_label&#45;&gt;output_label0</title>\n<path fill=\"none\" stroke=\"#000000\" d=\"M112.3452,-71.7415C112.3452,-63.3502 112.3452,-54.5881 112.3452,-46.6326\"/>\n<polygon fill=\"#000000\" stroke=\"#000000\" points=\"115.8453,-46.3947 112.3452,-36.3948 108.8453,-46.3948 115.8453,-46.3947\"/>\n</g>\n<!-- output_probability0 -->\n<g id=\"node16\" class=\"node\">\n<title>output_probability0</title>\n<polygon fill=\"none\" stroke=\"#000000\" points=\"443.2184,-10.5442 443.2184,-25.4558 391.7435,-36 318.947,-36 267.4721,-25.4558 267.4721,-10.5442 318.947,0 391.7435,0 443.2184,-10.5442\"/>\n<text text-anchor=\"middle\" x=\"355.3452\" y=\"-14.3\" font-family=\"Times,serif\" font-size=\"14.00\" fill=\"#000000\">output_probability</text>\n</g>\n<!-- ZipMap/ZipMap (op#5)\\n input0 probabilities\\n output0 output_probability&#45;&gt;output_probability0 -->\n<g id=\"edge15\" class=\"edge\">\n<title>ZipMap/ZipMap (op#5)\\n input0 probabilities\\n output0 output_probability&#45;&gt;output_probability0</title>\n<path fill=\"none\" stroke=\"#000000\" d=\"M355.3452,-71.7415C355.3452,-63.3502 355.3452,-54.5881 355.3452,-46.6326\"/>\n<polygon fill=\"#000000\" stroke=\"#000000\" points=\"358.8453,-46.3947 355.3452,-36.3948 351.8453,-46.3948 358.8453,-46.3947\"/>\n</g>\n</g>\n</svg>\n"
          },
          "metadata": {
            "tags": []
          },
          "execution_count": 199
        }
      ]
    },
    {
      "cell_type": "markdown",
      "metadata": {
        "id": "EoAYsI_rODrf"
      },
      "source": [
        "**References**\n",
        "\n",
        "\n",
        "\n",
        "*   https://machinelearningmastery.com/handle-missing-data-python/\n",
        "*   https://lukesingham.com/whos-going-to-leave-next/\n",
        "\n",
        "*   https://github.com/WillKoehrsen/feature-selector/blob/master/feature_selector/feature_selector.py\n",
        "*   https://www.analyticsvidhya.com/blog/2018/08/dimensionality-reduction-techniques-python/\n",
        "\n",
        "\n",
        "\n"
      ]
    }
  ]
}